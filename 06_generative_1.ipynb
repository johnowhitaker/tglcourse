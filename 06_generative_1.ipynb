{
 "cells": [
  {
   "cell_type": "markdown",
   "id": "7f63fc07-d24f-4e6c-85aa-6762285e50bd",
   "metadata": {},
   "source": [
    "# Lesson 6 - Generative Modelling Intro (AutoEncoders)"
   ]
  },
  {
   "cell_type": "markdown",
   "id": "9778e0e9-7c1a-4de1-ac6e-e5050d518ac0",
   "metadata": {},
   "source": [
    "noise -> data\n",
    "\n",
    "AEs (https://colab.research.google.com/drive/1Rk8cXMdad9ASIVI6avPyp5bl0qmeOu6S#scrollTo=jLKvlxgB7qXc)\n",
    "\n",
    "VAEs"
   ]
  },
  {
   "cell_type": "code",
   "execution_count": null,
   "id": "cf9c6fc1-a64e-43eb-8fc6-9e58dd88269d",
   "metadata": {},
   "outputs": [],
   "source": []
  }
 ],
 "metadata": {
  "kernelspec": {
   "display_name": "Python 3 (ipykernel)",
   "language": "python",
   "name": "python3"
  }
 },
 "nbformat": 4,
 "nbformat_minor": 5
}
