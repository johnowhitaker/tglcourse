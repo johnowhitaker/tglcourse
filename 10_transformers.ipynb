{
 "cells": [
  {
   "cell_type": "markdown",
   "id": "5710cc0c-1b84-4540-8cd0-cc3f34be4992",
   "metadata": {},
   "source": [
    "# Lesson 10 - Transformers"
   ]
  },
  {
   "cell_type": "code",
   "execution_count": null,
   "id": "63e2eaf1-efcb-47be-8e43-e061df3172d8",
   "metadata": {},
   "outputs": [],
   "source": []
  }
 ],
 "metadata": {
  "kernelspec": {
   "display_name": "Python 3 (ipykernel)",
   "language": "python",
   "name": "python3"
  },
  "language_info": {
   "codemirror_mode": {
    "name": "ipython",
    "version": 3
   },
   "file_extension": ".py",
   "mimetype": "text/x-python",
   "name": "python",
   "nbconvert_exporter": "python",
   "pygments_lexer": "ipython3",
   "version": "3.10.4"
  }
 },
 "nbformat": 4,
 "nbformat_minor": 5
}
