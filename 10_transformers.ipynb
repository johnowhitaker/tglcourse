{
 "cells": [
  {
   "cell_type": "raw",
   "id": "2d7d0335-04b8-46a1-8ec7-7b5d2e9aa1ca",
   "metadata": {},
   "source": [
    "---\n",
    "execute:\n",
    "  eval: false\n",
    "skip_exec: true\n",
    "skip_showdoc: true\n",
    "---"
   ]
  },
  {
   "cell_type": "markdown",
   "id": "5710cc0c-1b84-4540-8cd0-cc3f34be4992",
   "metadata": {},
   "source": [
    "# Lesson 10 - Transformers"
   ]
  },
  {
   "cell_type": "code",
   "execution_count": null,
   "id": "63e2eaf1-efcb-47be-8e43-e061df3172d8",
   "metadata": {},
   "outputs": [],
   "source": []
  },
  {
   "cell_type": "markdown",
   "id": "09dbfbbe-f3cb-4973-8f5e-167f0d0f9c40",
   "metadata": {},
   "source": [
    "## Attention"
   ]
  },
  {
   "cell_type": "code",
   "execution_count": null,
   "id": "1ee28fda-6775-44a0-88e0-0754cc774a90",
   "metadata": {},
   "outputs": [],
   "source": [
    "# https://youtube.com/watch?v=gDNRnjcoMOY"
   ]
  },
  {
   "cell_type": "markdown",
   "id": "9a4afadb-45a3-4085-b875-e653ef59939b",
   "metadata": {},
   "source": [
    "Illustrated transformer: https://jalammar.github.io/illustrated-transformer/"
   ]
  },
  {
   "cell_type": "markdown",
   "id": "d0bbfac1-4f1e-4df4-8bd1-a6e03fd8eeb4",
   "metadata": {},
   "source": [
    "Page stats: Total Hits: [![HitCount](https://hits.dwyl.com/johnowhitaker/tglcourse.svg?style=flat-square&show=unique)](http://hits.dwyl.com/johnowhitaker/tglcourse)\n",
    "Page visitors:\n",
    "![visitor badge](https://page-views.glitch.me/badge?page_id=tglcourse.l10)"
   ]
  }
 ],
 "metadata": {
  "kernelspec": {
   "display_name": "Python 3 (ipykernel)",
   "language": "python",
   "name": "python3"
  }
 },
 "nbformat": 4,
 "nbformat_minor": 5
}
