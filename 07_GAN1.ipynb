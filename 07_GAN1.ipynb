{
 "cells": [
  {
   "cell_type": "markdown",
   "id": "8b60ab1e-44d1-4bac-815e-8ffa0764ca40",
   "metadata": {},
   "source": [
    "# Lesson 7: GANs Part 1 - GAN Training\n",
    "\n"
   ]
  },
  {
   "cell_type": "markdown",
   "id": "a5e92aad-f063-4fa6-83de-8f993609fabd",
   "metadata": {},
   "source": [
    "Intro\n",
    "\n",
    "A simple DC-GAN\n",
    "\n",
    "Maybe note some improvements to training"
   ]
  },
  {
   "cell_type": "markdown",
   "id": "811ded8c-3589-43f2-841c-f5e942f6ec72",
   "metadata": {},
   "source": [
    "Page stats: Total Hits: [![HitCount](https://hits.dwyl.com/johnowhitaker/tglcourse.svg?style=flat-square&show=unique)](http://hits.dwyl.com/johnowhitaker/tglcourse)\n",
    "Page visitors:\n",
    "![visitor badge](https://page-views.glitch.me/badge?page_id=tglcourse.l07)"
   ]
  }
 ],
 "metadata": {
  "kernelspec": {
   "display_name": "Python 3 (ipykernel)",
   "language": "python",
   "name": "python3"
  }
 },
 "nbformat": 4,
 "nbformat_minor": 5
}
