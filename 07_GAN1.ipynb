{
 "cells": [
  {
   "cell_type": "markdown",
   "id": "8b60ab1e-44d1-4bac-815e-8ffa0764ca40",
   "metadata": {},
   "source": [
    "# Lesson 7: GANs Part 1 - GAN Training\n",
    "\n",
    "Intro\n",
    "\n",
    "A simple DC-GAN\n",
    "\n",
    "Maybe note some improvements to training"
   ]
  },
  {
   "cell_type": "code",
   "execution_count": null,
   "id": "7603d422-55a1-4ed3-b617-e13249cf00e2",
   "metadata": {},
   "outputs": [],
   "source": []
  }
 ],
 "metadata": {
  "kernelspec": {
   "display_name": "Python 3 (ipykernel)",
   "language": "python",
   "name": "python3"
  },
  "language_info": {
   "codemirror_mode": {
    "name": "ipython",
    "version": 3
   },
   "file_extension": ".py",
   "mimetype": "text/x-python",
   "name": "python",
   "nbconvert_exporter": "python",
   "pygments_lexer": "ipython3",
   "version": "3.10.4"
  }
 },
 "nbformat": 4,
 "nbformat_minor": 5
}
