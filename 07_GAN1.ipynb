{
 "cells": [
  {
   "cell_type": "markdown",
   "id": "8b60ab1e-44d1-4bac-815e-8ffa0764ca40",
   "metadata": {},
   "source": [
    "# Lesson 7: GANs Part 1 - GAN Training\n",
    "\n"
   ]
  },
  {
   "cell_type": "markdown",
   "id": "a5e92aad-f063-4fa6-83de-8f993609fabd",
   "metadata": {},
   "source": [
    "Intro\n",
    "\n",
    "A simple DC-GAN\n",
    "\n",
    "Maybe note some improvements to training"
   ]
  },
  {
   "cell_type": "code",
   "execution_count": null,
   "id": "5bcba305-7af2-445b-abf1-a25ffeea5c59",
   "metadata": {},
   "outputs": [],
   "source": []
  }
 ],
 "metadata": {
  "kernelspec": {
   "display_name": "Python 3 (ipykernel)",
   "language": "python",
   "name": "python3"
  }
 },
 "nbformat": 4,
 "nbformat_minor": 5
}
