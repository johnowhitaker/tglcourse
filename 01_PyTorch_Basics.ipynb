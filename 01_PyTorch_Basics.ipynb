{
 "cells": [
  {
   "cell_type": "code",
   "execution_count": null,
   "id": "b15498da-c97a-4596-b9c5-d910093502a0",
   "metadata": {},
   "outputs": [],
   "source": [
    "#|default_exp utils"
   ]
  },
  {
   "cell_type": "markdown",
   "id": "8e92424c-7a9b-44c8-99a3-470de25395ba",
   "metadata": {},
   "source": [
    "# Lesson 1: PyTorch Basics"
   ]
  },
  {
   "cell_type": "markdown",
   "id": "65830e29-48c3-4dd6-9311-ac3cfc11e218",
   "metadata": {},
   "source": [
    "\n",
    "VIDEO: Introducing PyTorch, Tensors, GPU operations\n",
    "\n",
    "If you've never used pytorch..."
   ]
  },
  {
   "cell_type": "code",
   "execution_count": null,
   "id": "302688cf-56bd-4d35-92a2-4cd43b486ef6",
   "metadata": {},
   "outputs": [],
   "source": [
    "#|export\n",
    "import torch\n",
    "import torchvision\n",
    "import numpy as np\n",
    "from matplotlib import pyplot as plt\n",
    "from PIL import Image"
   ]
  },
  {
   "cell_type": "markdown",
   "id": "cdc56e39-12ec-4c49-924e-f0e690fc0cfc",
   "metadata": {},
   "source": [
    "![PyTorch Logo](https://miro.medium.com/max/805/1*nyULxATmIItCJC90uep1ig.png)\n",
    "\n",
    "PyTorch is primarily a deep learning framework. It has been designed to make creating and working with deep neural networks as easy, fast and flexible as possible. Today we'll look at one of the core components that makes this possible: tensors. We'll start by looking at how to contruct and manipulate tensors, and then apply some of these ideas by representing images as tensors and seeing what we can do with that."
   ]
  },
  {
   "cell_type": "markdown",
   "id": "6bffddab-871a-4a8e-86b3-43b790e53386",
   "metadata": {},
   "source": [
    "## Creating Tensors"
   ]
  },
  {
   "cell_type": "markdown",
   "id": "04c343f1-feaa-4228-90e0-f209f4103e4c",
   "metadata": {},
   "source": [
    "We can construct a tensor directly from some common python iterables, such as list and tuple. Nested iterables can also be handled as long as the dimensions make sense."
   ]
  },
  {
   "cell_type": "code",
   "execution_count": null,
   "id": "692724da-b67a-472f-aa26-a6a19149cc60",
   "metadata": {},
   "outputs": [
    {
     "name": "stdout",
     "output_type": "stream",
     "text": [
      "Tensor a: tensor([0, 1, 2])\n",
      "Tensor b: tensor([[1.0000, 1.1000],\n",
      "        [1.2000, 1.3000]])\n",
      "Tensor c: tensor([[1., 1., 1.],\n",
      "        [1., 1., 1.]], dtype=torch.float64)\n"
     ]
    }
   ],
   "source": [
    "# tensor from a list\n",
    "a = torch.tensor([0, 1, 2])\n",
    "print(f\"Tensor a: {a}\")\n",
    "\n",
    "#tensor from a tuple of tuples\n",
    "b = ((1.0, 1.1), (1.2, 1.3))\n",
    "b = torch.tensor(b)\n",
    "print(f\"Tensor b: {b}\")\n",
    "\n",
    "# tensor from a numpy array\n",
    "c = np.ones([2, 3])\n",
    "c = torch.tensor(c)\n",
    "print(f\"Tensor c: {c}\")"
   ]
  },
  {
   "cell_type": "markdown",
   "id": "3ca960ef-d9e9-4add-bd46-fb1eea0cd0db",
   "metadata": {},
   "source": [
    "It's easy to get confused as to what 'shape' a tensor has. So debugging tip #1: when in doubt, print out the shape!"
   ]
  },
  {
   "cell_type": "code",
   "execution_count": null,
   "id": "3d65f5a2-c132-443b-be7c-ceb408eaa5ed",
   "metadata": {},
   "outputs": [
    {
     "name": "stdout",
     "output_type": "stream",
     "text": [
      "torch.Size([2, 2])\n"
     ]
    }
   ],
   "source": [
    "print(b.shape)"
   ]
  },
  {
   "cell_type": "markdown",
   "id": "1efbb6d6-9f70-47d2-bdaa-4fde3006ed37",
   "metadata": {},
   "source": [
    "There are also various constructor methods you can use. The arguments determine the size - explore changing these are see what happens to the output:"
   ]
  },
  {
   "cell_type": "code",
   "execution_count": null,
   "id": "5a6e0813-5a77-4871-aa53-c59e52cde5fc",
   "metadata": {},
   "outputs": [
    {
     "name": "stdout",
     "output_type": "stream",
     "text": [
      "Tensor x: tensor([[1., 1., 1.],\n",
      "        [1., 1., 1.],\n",
      "        [1., 1., 1.],\n",
      "        [1., 1., 1.],\n",
      "        [1., 1., 1.]])\n",
      "Tensor y: tensor([0., 0.])\n",
      "Tensor z: tensor([[[ 2.3328e-35,  0.0000e+00,  1.6174e-35,  0.0000e+00, -2.1574e+01]]])\n"
     ]
    }
   ],
   "source": [
    "x = torch.ones(5, 3)\n",
    "y = torch.zeros(2)\n",
    "z = torch.empty(1, 1, 5)\n",
    "print(f\"Tensor x: {x}\")\n",
    "print(f\"Tensor y: {y}\")\n",
    "print(f\"Tensor z: {z}\")"
   ]
  },
  {
   "cell_type": "markdown",
   "id": "582bf508-b595-4a9d-bdd3-7d39cd921df4",
   "metadata": {},
   "source": [
    "Notice that `.empty()` does not return zeros, but seemingly random small numbers. Unlike `.zeros()`, which initialises the elements of the tensor with zeros, `.empty()` just allocates the memory. It is hence a bit faster if you are looking to just create a tensor.\n",
    "\n",
    "There are also constructors for random numbers:"
   ]
  },
  {
   "cell_type": "code",
   "execution_count": null,
   "id": "48364eb3-b174-4ef3-8d8f-871f9cb136f3",
   "metadata": {},
   "outputs": [
    {
     "name": "stdout",
     "output_type": "stream",
     "text": [
      "Tensor a: tensor([[0.7570, 0.4441, 0.8058]])\n",
      "Tensor b: tensor([[-0.9783, -1.0734,  0.5442,  1.5052],\n",
      "        [ 0.4123,  0.4849,  0.7075,  0.5175],\n",
      "        [-0.4181,  0.3573, -0.8725, -0.2095]])\n"
     ]
    }
   ],
   "source": [
    "# uniform distribution\n",
    "a = torch.rand(1, 3)\n",
    "\n",
    "# normal distribution\n",
    "b = torch.randn(3, 4)\n",
    "\n",
    "print(f\"Tensor a: {a}\")\n",
    "print(f\"Tensor b: {b}\")"
   ]
  },
  {
   "cell_type": "markdown",
   "id": "ecf65c1b-5b6e-4b20-8499-d0baa8a667e5",
   "metadata": {},
   "source": [
    "**THINK**: What's the difference? If you're curious, use `plt.hist(torch.randn(100))` to view the distribution.\n",
    "\n",
    "There are also constructors that allow us to construct a tensor according to the above constructors, but with dimensions equal to another tensor:"
   ]
  },
  {
   "cell_type": "code",
   "execution_count": null,
   "id": "2522d0ad-9308-4be1-b811-cd1142c4b0a6",
   "metadata": {},
   "outputs": [
    {
     "name": "stdout",
     "output_type": "stream",
     "text": [
      "Tensor c: tensor([[0., 0., 0.]])\n",
      "Tensor d: tensor([[0.3490, 0.9085, 0.9652]])\n"
     ]
    }
   ],
   "source": [
    "c = torch.zeros_like(a)\n",
    "d = torch.rand_like(c)\n",
    "print(f\"Tensor c: {c}\")\n",
    "print(f\"Tensor d: {d}\")"
   ]
  },
  {
   "cell_type": "markdown",
   "id": "f84bca95-17c9-4579-a450-1c94442344a2",
   "metadata": {},
   "source": [
    "Finally,  `.arange()` and `.linspace()` behave how you would expect them to if you are familar with numpy."
   ]
  },
  {
   "cell_type": "code",
   "execution_count": null,
   "id": "3b22c242-9302-4e6e-a86b-30d76bff0f5f",
   "metadata": {},
   "outputs": [
    {
     "name": "stdout",
     "output_type": "stream",
     "text": [
      "Tensor a: tensor([0, 1, 2, 3, 4, 5, 6, 7, 8, 9])\n",
      "\n",
      "Tensor b: tensor([0.0000, 0.5000, 1.0000, 1.5000, 2.0000, 2.5000, 3.0000, 3.5000, 4.0000,\n",
      "        4.5000, 5.0000])\n",
      "\n"
     ]
    }
   ],
   "source": [
    "a = torch.arange(0, 10, step=1) # Equivalent to np.arange(0, 10, step=1)\n",
    "b = torch.linspace(0, 5, steps=11) # np.linspace(0, 5, num=11)\n",
    "\n",
    "print(f\"Tensor a: {a}\\n\")\n",
    "print(f\"Tensor b: {b}\\n\")"
   ]
  },
  {
   "cell_type": "markdown",
   "id": "a06bf158-644a-449d-ad4a-7034fe607bae",
   "metadata": {},
   "source": [
    "## Tensor Operations\n"
   ]
  },
  {
   "cell_type": "markdown",
   "id": "1a0b727f-884b-4305-8adf-842270c46802",
   "metadata": {},
   "source": [
    "We can perform operations on tensors using methods under `torch.`. However, in PyTorch most common Python operators are overridden, so we can use those instead. The common standard arithmetic operators (+, -, *, /, and **) have all been lifted to elementwise operations."
   ]
  },
  {
   "cell_type": "code",
   "execution_count": null,
   "id": "d720768e-c6a4-4d29-bb74-bc2ada89e029",
   "metadata": {},
   "outputs": [
    {
     "name": "stdout",
     "output_type": "stream",
     "text": [
      "Addition via torch.add: tensor([ 2,  4,  7, 12])\n",
      "Addition using \"+\": tensor([ 2,  4,  7, 12])\n",
      "Some other operations:\n"
     ]
    },
    {
     "data": {
      "text/plain": [
       "(tensor([ 2,  4,  7, 12]),\n",
       " tensor([0, 0, 1, 4]),\n",
       " tensor([ 1,  4, 12, 32]),\n",
       " tensor([1.0000, 1.0000, 1.3333, 2.0000]),\n",
       " tensor([   1,    4,   64, 4096]))"
      ]
     },
     "execution_count": null,
     "metadata": {},
     "output_type": "execute_result"
    }
   ],
   "source": [
    "x = torch.tensor([1, 2, 4, 8])\n",
    "y = torch.tensor([1, 2, 3, 4])\n",
    "print('Addition via torch.add:', torch.add(x, y))\n",
    "print('Addition using \"+\":', x+y) # The same\n",
    "print('Some other operations:')\n",
    "x + y, x - y, x * y, x / y, x**y  # The ** operator is exponentiation"
   ]
  },
  {
   "cell_type": "markdown",
   "id": "0c0569bb-9dac-4dae-a95b-d7cafe6c2a9a",
   "metadata": {},
   "source": [
    "**THINK**: What does 'element-wise' mean? Inspect the outputs above."
   ]
  },
  {
   "cell_type": "markdown",
   "id": "da6117f5-03a0-49dc-ac16-a6f14a3df494",
   "metadata": {},
   "source": [
    "Tensors also have many built-in methods such as `.mean()` or `.sum()` (see the full list here: https://pytorch.org/docs/stable/tensors.html). Whenever you're working with a multi-dimensional tensor, pay attention to the dimensions and think about what result you're aiming to achieve."
   ]
  },
  {
   "cell_type": "code",
   "execution_count": null,
   "id": "5fac65be-e0b9-4d27-8ffd-b67d40da67e6",
   "metadata": {},
   "outputs": [
    {
     "name": "stdout",
     "output_type": "stream",
     "text": [
      "x:\n",
      " tensor([[0.2999, 0.8812, 0.4049],\n",
      "        [0.0143, 0.8986, 0.9411],\n",
      "        [0.6498, 0.0459, 0.8872]])\n",
      "Sum of every element of x: 5.022925853729248\n",
      "Sum of the columns of x: tensor([0.9640, 1.8257, 2.2332])\n",
      "Sum of the rows of x: tensor([1.5860, 1.8540, 1.5829])\n"
     ]
    }
   ],
   "source": [
    "x = torch.rand(3, 3)\n",
    "print('x:\\n', x)\n",
    "print(f\"Sum of every element of x: {x.sum()}\")\n",
    "print(f\"Sum of the columns of x: {x.sum(axis=0)}\")\n",
    "print(f\"Sum of the rows of x: {x.sum(axis=1)}\")"
   ]
  },
  {
   "cell_type": "markdown",
   "id": "a11165bf-94dd-46ab-b6b3-ebf509ae863b",
   "metadata": {},
   "source": [
    "Remember we said most operations default to 'element-wise'? What if we want the matrix operation? Torch has you covered there as well. `torch.matmul()` or the `@` symbol let you do matrix multiplication. For dot multiplication, you can use torch.dot(). \n",
    "\n",
    "Transposes of 2D tensors are obtained using `torch.t()` or `Tensor.T`. Note the lack of brackets for `Tensor.T` - it is an attribute, not a method."
   ]
  },
  {
   "cell_type": "code",
   "execution_count": null,
   "id": "a2763f05-6314-4f55-9ecd-0968f26c8471",
   "metadata": {},
   "outputs": [
    {
     "name": "stdout",
     "output_type": "stream",
     "text": [
      "a.shape: torch.Size([2, 3]) b.shape: torch.Size([3, 2])\n",
      "tensor([[0.5967, 0.4257],\n",
      "        [0.4257, 1.1436]])\n"
     ]
    }
   ],
   "source": [
    "a = torch.rand(2, 3)\n",
    "b = a.T\n",
    "print('a.shape:', a.shape, 'b.shape:', b.shape)\n",
    "print(a@b) # Matrix multiplication of a 2x3 with a 3x2 matrix gives a 2x2 result."
   ]
  },
  {
   "cell_type": "markdown",
   "id": "db03fc95-839d-4a92-ac33-44ec083a4852",
   "metadata": {},
   "source": [
    "## Manipulating Tensors"
   ]
  },
  {
   "cell_type": "markdown",
   "id": "38bc2f11-a56c-497f-bd56-b66ac7c55e17",
   "metadata": {},
   "source": [
    "Beyond mathematical operations, we often want to access specific items or sets if items in a tensor, or perform operations like changing the shape of a tensor. Here are a few examples of some common tasks. These may feel simple if you're used to something like numpy, but it's worth making sure you know how to do these basic operations (or at least, you know where to find these examples again to refer to them!) since we'll use these a lot in the coming lessons. "
   ]
  },
  {
   "cell_type": "code",
   "execution_count": null,
   "id": "631eaac4-396c-4385-8153-8ffc1f981558",
   "metadata": {},
   "outputs": [
    {
     "name": "stdout",
     "output_type": "stream",
     "text": [
      "tensor([0, 1, 2, 3, 4, 5, 6, 7, 8, 9])\n",
      "tensor(9)\n",
      "tensor([1, 2])\n",
      "tensor([0, 1, 2, 3, 4, 5, 6, 7])\n"
     ]
    }
   ],
   "source": [
    "# Indexing tensors\n",
    "x = torch.arange(0, 10)\n",
    "print(x)\n",
    "print(x[-1])\n",
    "print(x[1:3]) # From index 1 up to but NOT INCLUDING index 3\n",
    "print(x[:-2])"
   ]
  },
  {
   "cell_type": "markdown",
   "id": "07ea048b-a341-46df-8121-a3e2d1034812",
   "metadata": {},
   "source": [
    "Reshaping works as long as the shapes make sense. (3, 4) -> (4, 3) is fine, but (3, 4) -> (8, 2) won't work since there aren't enough elements!"
   ]
  },
  {
   "cell_type": "code",
   "execution_count": null,
   "id": "8d8f9b62-0e83-47fb-86f3-90798613e594",
   "metadata": {},
   "outputs": [
    {
     "name": "stdout",
     "output_type": "stream",
     "text": [
      "Original z (6, 2) : \n",
      " tensor([[ 0,  1],\n",
      "        [ 2,  3],\n",
      "        [ 4,  5],\n",
      "        [ 6,  7],\n",
      "        [ 8,  9],\n",
      "        [10, 11]])\n",
      "Flattened z: \n",
      " tensor([ 0,  1,  2,  3,  4,  5,  6,  7,  8,  9, 10, 11])\n",
      "Reshaped (3x4) z: \n",
      " tensor([[ 0,  1,  2,  3],\n",
      "        [ 4,  5,  6,  7],\n",
      "        [ 8,  9, 10, 11]])\n"
     ]
    }
   ],
   "source": [
    "# TODO rework example\n",
    "\n",
    "# Reshaping\n",
    "z = torch.arange(12).reshape(6, 2)\n",
    "print(f\"Original z (6, 2) : \\n {z}\")\n",
    "\n",
    "# 2D -> 1D\n",
    "z = z.flatten()\n",
    "print(f\"Flattened z: \\n {z}\")\n",
    "\n",
    "# and back to 2D\n",
    "z = z.reshape(3, 4)\n",
    "print(f\"Reshaped (3x4) z: \\n {z}\")"
   ]
  },
  {
   "cell_type": "markdown",
   "id": "f436d2b4-38ef-4f05-b024-8e6833ca5b62",
   "metadata": {},
   "source": [
    "Concatenating tensors is done with torch.cat - take a look at this examples and take note of how the dimension specified affects the output:"
   ]
  },
  {
   "cell_type": "code",
   "execution_count": null,
   "id": "c601aa52-feda-4b77-ab55-3d11481e4f88",
   "metadata": {},
   "outputs": [
    {
     "name": "stdout",
     "output_type": "stream",
     "text": [
      "Concatenated by rows: shape[6, 4] \n",
      " tensor([[ 0.,  1.,  2.,  3.],\n",
      "        [ 4.,  5.,  6.,  7.],\n",
      "        [ 8.,  9., 10., 11.],\n",
      "        [ 2.,  1.,  4.,  3.],\n",
      "        [ 1.,  2.,  3.,  4.],\n",
      "        [ 4.,  3.,  2.,  1.]])\n",
      "\n",
      " Concatenated by colums: shape[3, 8]  \n",
      " tensor([[ 0.,  1.,  2.,  3.,  2.,  1.,  4.,  3.],\n",
      "        [ 4.,  5.,  6.,  7.,  1.,  2.,  3.,  4.],\n",
      "        [ 8.,  9., 10., 11.,  4.,  3.,  2.,  1.]])\n"
     ]
    }
   ],
   "source": [
    "# Create two tensors of the same shape\n",
    "x = torch.arange(12, dtype=torch.float32).reshape((3, 4))\n",
    "y = torch.tensor([[2.0, 1, 4, 3], [1, 2, 3, 4], [4, 3, 2, 1]])\n",
    "\n",
    "\n",
    "#concatenate them along rows\n",
    "cat_rows = torch.cat((x, y), dim=0)\n",
    "\n",
    "# concatenate along columns\n",
    "cat_cols = torch.cat((x, y), dim=1)\n",
    "\n",
    "# printing outputs\n",
    "print('Concatenated by rows: shape{} \\n {}'.format(list(cat_rows.shape), cat_rows))\n",
    "print('\\n Concatenated by colums: shape{}  \\n {}'.format(list(cat_cols.shape), cat_cols))"
   ]
  },
  {
   "cell_type": "markdown",
   "id": "345afd39-94b9-48d0-9b26-018ab180e40b",
   "metadata": {},
   "source": [
    "## Squeezing Tensors\n",
    "\n",
    "When processing batches of data, you will quite often be left with singleton dimensions. e.g. [1,10] or [256, 1, 3]. This dimension can quite easily mess up your matrix operations if you don’t plan on it being there…\n",
    "\n",
    "In order to compress tensors along their singleton dimensions we can use the .`squeeze()` method. We can use the `.unsqueeze()` method to do the opposite."
   ]
  },
  {
   "cell_type": "code",
   "execution_count": null,
   "id": "e06cf169-7c3e-4275-a67b-72763a6cf0d7",
   "metadata": {},
   "outputs": [
    {
     "name": "stdout",
     "output_type": "stream",
     "text": [
      "torch.Size([1, 10])\n",
      "x[0]: tensor([ 0.2087,  0.2851, -0.8465,  1.0927, -0.7520, -1.1400, -0.1221, -1.2466,\n",
      "         0.0571,  1.3664])\n"
     ]
    }
   ],
   "source": [
    "x = torch.randn(1, 10)\n",
    "print(x.shape)\n",
    "print(f\"x[0]: {x[0]}\") # printing the zeroth element of the tensor will not give us the first number!"
   ]
  },
  {
   "cell_type": "code",
   "execution_count": null,
   "id": "2e9b494d-48ac-4b61-b9e5-57c8b69f4808",
   "metadata": {},
   "outputs": [
    {
     "name": "stdout",
     "output_type": "stream",
     "text": [
      "torch.Size([10])\n",
      "x[0]: 0.20874953269958496\n"
     ]
    }
   ],
   "source": [
    "# lets get rid of that singleton dimension and see what happens now\n",
    "x = x.squeeze(0)\n",
    "print(x.shape)\n",
    "print(f\"x[0]: {x[0]}\")"
   ]
  },
  {
   "cell_type": "code",
   "execution_count": null,
   "id": "8d1787b6-e569-4862-90e8-331b5e7c26c9",
   "metadata": {},
   "outputs": [
    {
     "name": "stdout",
     "output_type": "stream",
     "text": [
      "shape of y: torch.Size([5, 5])\n",
      "shape of y: torch.Size([5, 1, 5])\n"
     ]
    }
   ],
   "source": [
    "y = torch.randn(5, 5)\n",
    "print(f\"shape of y: {y.shape}\")\n",
    "\n",
    "# lets insert a singleton dimension\n",
    "y = y.unsqueeze(1) # Note the argument here is 1 - try 0 and 2 and make sure you get a feel for what unsqueeze does. \n",
    "print(f\"shape of y: {y.shape}\")"
   ]
  },
  {
   "cell_type": "markdown",
   "id": "faf201aa-ca63-4334-800a-f67931299cc3",
   "metadata": {},
   "source": [
    "## Images as Tensors"
   ]
  },
  {
   "cell_type": "markdown",
   "id": "bd357c5d-bcd0-4bd5-a115-c4ca4f992aff",
   "metadata": {},
   "source": [
    "Video: How are images represented? Images as tensors? Demo exercise.\n",
    "\n",
    "TODO explanation"
   ]
  },
  {
   "cell_type": "markdown",
   "id": "0e0cd39e-9873-4b0c-863b-16a961377fdf",
   "metadata": {},
   "source": [
    "### Images as arrays of numbers"
   ]
  },
  {
   "cell_type": "code",
   "execution_count": null,
   "id": "f41d0b3c-5838-4996-8cab-bef92e8cf790",
   "metadata": {},
   "outputs": [
    {
     "data": {
      "image/png": "[encoded data removed]",
      "text/plain": [
       "<PIL.Image.Image image mode=RGB size=128x128>"
      ]
     },
     "execution_count": null,
     "metadata": {},
     "output_type": "execute_result"
    }
   ],
   "source": [
    "im = Image.open('images/frog.png').convert('RGB').resize((128, 128))\n",
    "im"
   ]
  },
  {
   "cell_type": "code",
   "execution_count": null,
   "id": "3d568932-7e7b-407b-b3fa-cd5f67341b1b",
   "metadata": {},
   "outputs": [
    {
     "data": {
      "text/plain": [
       "(128, 128, 3)"
      ]
     },
     "execution_count": null,
     "metadata": {},
     "output_type": "execute_result"
    }
   ],
   "source": [
    "np.array(im).shape # Remove .convert('RGB') in the cell above and see how this changes"
   ]
  },
  {
   "cell_type": "markdown",
   "id": "f1f791b3-0c0f-404d-bb50-9699a2abb510",
   "metadata": {},
   "source": [
    "We'll want to do this a bunch during the course, so let's create a function to load an image using PIL and export it so that we can later access it in other notebooks:"
   ]
  },
  {
   "cell_type": "code",
   "execution_count": null,
   "id": "7b1148f1-6333-4554-9584-652944413c59",
   "metadata": {},
   "outputs": [],
   "source": [
    "#|export\n",
    "def load_image_pil(fn, size=None):\n",
    "    im = Image.open(fn).convert('RGB')\n",
    "    if size != None:\n",
    "        im = im.resize(size)\n",
    "    return im"
   ]
  },
  {
   "cell_type": "markdown",
   "id": "b61bcb76-d3f7-4af1-bf21-a66b070048c0",
   "metadata": {},
   "source": [
    "And to test that it works:"
   ]
  },
  {
   "cell_type": "code",
   "execution_count": null,
   "id": "bd7e837c-ffb7-46fc-83c4-a421d9e7c6e0",
   "metadata": {},
   "outputs": [
    {
     "data": {
      "image/png": "[encoded data removed]",
      "text/plain": [
       "<PIL.Image.Image image mode=RGB size=32x32>"
      ]
     },
     "execution_count": null,
     "metadata": {},
     "output_type": "execute_result"
    }
   ],
   "source": [
    "load_image_pil('images/frog.png', size=(32, 32))"
   ]
  },
  {
   "cell_type": "markdown",
   "id": "09ccb3e8-a23a-4b04-9d90-89565759b380",
   "metadata": {},
   "source": [
    "It will probably come in handy to be able to load images from a url, so let's export a function for that too:"
   ]
  },
  {
   "cell_type": "code",
   "execution_count": null,
   "id": "0f666e3d-e2c9-45c1-90cc-5f6f1cdcd466",
   "metadata": {},
   "outputs": [],
   "source": [
    "#|export\n",
    "import requests\n",
    "from io import BytesIO\n",
    "\n",
    "def pil_from_url(url, size=None):\n",
    "    response = requests.get(url)\n",
    "    im = Image.open(BytesIO(response.content))\n",
    "    if size != None:\n",
    "        im = im.resize(size)\n",
    "    return im"
   ]
  },
  {
   "cell_type": "code",
   "execution_count": null,
   "id": "178d6242-29ab-414d-a73e-4b85011b4643",
   "metadata": {},
   "outputs": [
    {
     "data": {
      "image/png": "[encoded data removed]",
      "text/plain": [
       "<PIL.Image.Image image mode=RGB size=250x200>"
      ]
     },
     "execution_count": null,
     "metadata": {},
     "output_type": "execute_result"
    }
   ],
   "source": [
    "pil_from_url(\"https://images.pexels.com/photos/156934/pexels-photo-156934.jpeg?auto=compress&cs=tinysrgb&w=1260&h=750&dpr=1\", size=(250, 200))"
   ]
  },
  {
   "cell_type": "markdown",
   "id": "cc8f11d9-7320-4ca1-a367-f6695f02854c",
   "metadata": {},
   "source": [
    "### Converting to Tensors"
   ]
  },
  {
   "cell_type": "markdown",
   "id": "94298832-f9b5-47e4-827f-d2b7cd8dcde2",
   "metadata": {},
   "source": [
    "Mention torchvision.transforms.ToTensor()?"
   ]
  },
  {
   "cell_type": "code",
   "execution_count": null,
   "id": "ce3eb34d-c4a0-4343-9312-c90194b11e08",
   "metadata": {},
   "outputs": [
    {
     "data": {
      "text/plain": [
       "torch.Size([3, 128, 128])"
      ]
     },
     "execution_count": null,
     "metadata": {},
     "output_type": "execute_result"
    }
   ],
   "source": [
    "tensor_im = torch.tensor(np.array(im)).permute(2, 0, 1)/255.0\n",
    "tensor_im.shape"
   ]
  },
  {
   "cell_type": "markdown",
   "id": "c8e8d23a-b210-4ade-a632-d060e33ba7c6",
   "metadata": {},
   "source": [
    "TODO Explain order"
   ]
  },
  {
   "cell_type": "code",
   "execution_count": null,
   "id": "7a64b21b-5e69-4f83-906a-41af2d391cb0",
   "metadata": {},
   "outputs": [],
   "source": [
    "#|export\n",
    "def pil_to_tensor(im):\n",
    "    # TODO split into multiple lines and explain\n",
    "    return torch.tensor(np.array(im)).permute(2, 0, 1).unsqueeze(0)/255.0\n",
    "\n",
    "def tensor_to_pil(tensor_im):\n",
    "    tensor_im = tensor_im.squeeze() # In case there is a batch dimension\n",
    "    tensor_im = tensor_im.detach().cpu() # Detach from computational graph - explained in next lesson!\n",
    "    tensor_im = tensor_im.permute(1, 2, 0) # Rearrange the channels\n",
    "    tensor_im = tensor_im.clip(0, 1)*255 # Note that we clip to (0, 1) before scaling to (0, 255)\n",
    "    im_array = np.array(tensor_im).astype(np.uint8) # Convert to int as required by PIL\n",
    "    im = Image.fromarray(im_array) # Convert to PIL image\n",
    "    return im"
   ]
  },
  {
   "cell_type": "markdown",
   "id": "490f1fbe-ae32-474a-8ec0-70a3b0e69e39",
   "metadata": {},
   "source": [
    "TODO docstrings, load_image_as_tensor"
   ]
  },
  {
   "cell_type": "code",
   "execution_count": null,
   "id": "388caf04-e0e7-44e1-a5ce-00dacca86cff",
   "metadata": {},
   "outputs": [],
   "source": [
    "# TODO Show cropping, accessing a specific channel, converting to BW and back\n",
    "\n",
    "# SHow plt.imshow?"
   ]
  },
  {
   "cell_type": "code",
   "execution_count": null,
   "id": "4035788c-304d-4471-bffc-35f6274a7682",
   "metadata": {},
   "outputs": [
    {
     "name": "stdout",
     "output_type": "stream",
     "text": [
      "torch.Size([1, 3, 128, 128])\n",
      "<class 'PIL.Image.Image'>\n"
     ]
    },
    {
     "data": {
      "image/png": "[encoded data removed]",
      "text/plain": [
       "<PIL.Image.Image image mode=RGB size=128x128>"
      ]
     },
     "execution_count": null,
     "metadata": {},
     "output_type": "execute_result"
    }
   ],
   "source": [
    "im = load_image_pil('images/frog.png', size=(128, 128))\n",
    "tensor_im = pil_to_tensor(im)\n",
    "print(tensor_im.shape)\n",
    "im_out = tensor_to_pil(tensor_im)\n",
    "print(type(im_out))\n",
    "im_out"
   ]
  },
  {
   "cell_type": "markdown",
   "id": "48a3856c-07cd-43df-a14c-2dac4022a8c0",
   "metadata": {},
   "source": [
    "### Transforms"
   ]
  },
  {
   "cell_type": "code",
   "execution_count": null,
   "id": "993306b2-cac2-4abd-8095-2d69af0c17a3",
   "metadata": {},
   "outputs": [],
   "source": [
    "# TODO examples"
   ]
  },
  {
   "cell_type": "markdown",
   "id": "5c78e249-6074-4b2a-a735-430139254e78",
   "metadata": {},
   "source": [
    "### Exercise: Least Average Image\n",
    "Given a set of images, for each pixel find the furthest from the mean.\n",
    "Result: a pretty cool looking image with textures etc from the different inputs\n",
    "\n",
    "Code hints and solution hidden \\."
   ]
  },
  {
   "cell_type": "code",
   "execution_count": null,
   "id": "bc7c61f5-25a9-4009-bf94-76ccd0f25f93",
   "metadata": {},
   "outputs": [],
   "source": [
    "# TODO introduce torchvision here maybe?"
   ]
  },
  {
   "cell_type": "code",
   "execution_count": null,
   "id": "613f5004-45fd-4a7f-b348-ce5d41dc5cba",
   "metadata": {},
   "outputs": [],
   "source": []
  }
 ],
 "metadata": {
  "kernelspec": {
   "display_name": "Python 3 (ipykernel)",
   "language": "python",
   "name": "python3"
  }
 },
 "nbformat": 4,
 "nbformat_minor": 5
}
