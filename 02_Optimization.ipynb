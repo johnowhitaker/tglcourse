{
 "cells": [
  {
   "cell_type": "markdown",
   "id": "7a095373-f573-467e-9120-f891a2ba4a63",
   "metadata": {},
   "source": [
    "# Lesson 2: Gradient Descent and Optimization"
   ]
  },
  {
   "cell_type": "markdown",
   "id": "344f2e44-8e5d-4178-a45c-b94c8ea05989",
   "metadata": {},
   "source": [
    "Intro to autograd, GD, a typical optimization loop\n",
    "\n",
    "Borrow fairly heavily from AIAIART #1\n",
    "\n",
    "GD from scratch\n",
    "\n",
    "Improvements in optimization (momentum, adaptive methods, maybe even a bonus section on second order stuff like shampoo and a paper read of LocoProp)\n",
    "\n",
    "### Exercise: optimize pixels in an image to match some loss (without explaining it)? OR have a black box function that goes from z -> orb, craft a loss for orb color and optimize z to get a particular orb color. Later in the GAN section we'll make the GAN which will hide behind the scenes and enable this!"
   ]
  },
  {
   "cell_type": "code",
   "execution_count": null,
   "id": "487116af-425c-406d-8562-4e2801ee368b",
   "metadata": {},
   "outputs": [],
   "source": []
  }
 ],
 "metadata": {
  "kernelspec": {
   "display_name": "Python 3 (ipykernel)",
   "language": "python",
   "name": "python3"
  }
 },
 "nbformat": 4,
 "nbformat_minor": 5
}
