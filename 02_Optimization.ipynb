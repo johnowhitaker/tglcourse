{
 "cells": [
  {
   "cell_type": "markdown",
   "id": "7a095373-f573-467e-9120-f891a2ba4a63",
   "metadata": {},
   "source": [
    "# Lesson 2: Gradient Descent and Optimization"
   ]
  },
  {
   "cell_type": "markdown",
   "id": "344f2e44-8e5d-4178-a45c-b94c8ea05989",
   "metadata": {},
   "source": [
    "Intro to autograd, GD, a typical optimization loop"
   ]
  },
  {
   "cell_type": "code",
   "execution_count": null,
   "id": "487116af-425c-406d-8562-4e2801ee368b",
   "metadata": {},
   "outputs": [],
   "source": []
  }
 ],
 "metadata": {
  "kernelspec": {
   "display_name": "Python 3 (ipykernel)",
   "language": "python",
   "name": "python3"
  },
  "language_info": {
   "codemirror_mode": {
    "name": "ipython",
    "version": 3
   },
   "file_extension": ".py",
   "mimetype": "text/x-python",
   "name": "python",
   "nbconvert_exporter": "python",
   "pygments_lexer": "ipython3",
   "version": "3.10.4"
  }
 },
 "nbformat": 4,
 "nbformat_minor": 5
}
