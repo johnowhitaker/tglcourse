{
 "cells": [
  {
   "cell_type": "markdown",
   "id": "7a095373-f573-467e-9120-f891a2ba4a63",
   "metadata": {},
   "source": [
    "# Lesson 2: Gradient Descent and Optimization"
   ]
  },
  {
   "cell_type": "markdown",
   "id": "dbef70fe-9846-42ec-9b84-5f43e2d0f799",
   "metadata": {},
   "source": [
    "Video: How do computers 'learn'?"
   ]
  },
  {
   "cell_type": "code",
   "execution_count": null,
   "id": "d1312fa0-2ede-4be0-89c7-e742c15d7dc9",
   "metadata": {},
   "outputs": [],
   "source": [
    "import torch\n",
    "import torchvision\n",
    "import numpy as np\n",
    "from matplotlib import pyplot as plt\n",
    "from PIL import Image"
   ]
  },
  {
   "cell_type": "markdown",
   "id": "81701afd-bc2a-4e64-b63e-006e800d4831",
   "metadata": {},
   "source": [
    "## Gradient Descent\n",
    "\n",
    "Lets consider the following situation. Say we have:\n",
    "- A function (could be a neural net, could be the equation for a straight line...) that takes some input(s) and produces some output(s) based on a set of parameters - let's call them `w`.\n",
    "- Some measure of how well this function performs. Maybe this is how poorly the function describes some pattern in your data, or how well a network does in a classification task. Let's call this measure the `loss`, where the goal is to make this as small as possible.\n",
    "\n",
    "The question is often 'how do we find a set of parameters that gives the best possible result?'. There are a few ways we could try to solve this. The most basic might be:\n",
    "- Try all possible values for all parameters\n",
    "- Randomly guess and keep the best\n",
    "\n",
    "Clearly both of these have some major flaws, and when we're dealing with thousands or millions of parameters there is no way you could try all possible combinations. So, we need a smarter approach."
   ]
  },
  {
   "cell_type": "markdown",
   "id": "4a4fe0d0-a048-43d5-bcd4-bc0e7e6a9c92",
   "metadata": {},
   "source": [
    "### The Gradient Descent Algorithm\n",
    "\n",
    "What if we could start from some set of parameters, and then see how to modify them slightly such that we get an improvement? Ideally, for each parameter we'd like to know what happens to the loss when we tweak that parameter slightly up or down. Formally, we'd like to know the **gradient of the loss with respect to that parameter**. You can think of the gradient as telling us which direction to move to get the biggest increase (or decrease if we go in the opposite direction).\n",
    "\n",
    "IF we can find these gradients, then a sensible method for finding a good set of parameters to solve a given problem would be\n",
    "1. Start with some random parameters\n",
    "2. Find the gradient of the loss with respect to each parameter\n",
    "3. Update each parameter such that you move some small amount in the direction of steepest descent\n",
    "4. Go back to step 2, finding the gradients based on the new parameter values and repeat all this a bunch of times.\n",
    "\n",
    "This is the gradient descent algorithm in a nutshell :) Let's do an example, where we'll create some data that roughtly follows a trend and try to approximate that trend with a straight line, which will be specified by two parameters. "
   ]
  },
  {
   "cell_type": "markdown",
   "id": "2be49876-f186-4d3b-94db-a4b282e82f6c",
   "metadata": {},
   "source": [
    "### Creating an Example Problem"
   ]
  },
  {
   "cell_type": "code",
   "execution_count": null,
   "id": "2fc21442-24aa-406f-917d-89c8d52224b6",
   "metadata": {},
   "outputs": [
    {
     "data": {
      "text/plain": [
       "<matplotlib.collections.PathCollection>"
      ]
     },
     "execution_count": null,
     "metadata": {},
     "output_type": "execute_result"
    },
    {
     "data": {
      "image/png": "[encoded data removed]",
      "text/plain": [
       "<Figure size 432x288 with 1 Axes>"
      ]
     },
     "metadata": {
      "needs_background": "light"
     },
     "output_type": "display_data"
    }
   ],
   "source": [
    "# Creating some data:\n",
    "x = torch.rand(20)\n",
    "y = 3*x + 0.2 + torch.randn(20)*0.3 # y = ax + b + noise\n",
    "plt.scatter(x, y) # It's always helpful to visualize what's going on wherever possible."
   ]
  },
  {
   "cell_type": "markdown",
   "id": "4bc43aff-f495-437b-b181-3262b7dc953c",
   "metadata": {},
   "source": [
    "### 2.3 Defining our loss\n",
    "\n",
    "We can describe a line as a function `y = ax + b` where a and b are our parameters. Take a look at the two lines shown here:"
   ]
  },
  {
   "cell_type": "code",
   "execution_count": null,
   "id": "b51d4457-40f9-42ba-9d41-b94a6a4090d6",
   "metadata": {},
   "outputs": [
    {
     "data": {
      "text/plain": [
       "<matplotlib.legend.Legend>"
      ]
     },
     "execution_count": null,
     "metadata": {},
     "output_type": "execute_result"
    },
    {
     "data": {
      "image/png": "[encoded data removed]",
      "text/plain": [
       "<Figure size 720x259.2 with 2 Axes>"
      ]
     },
     "metadata": {
      "needs_background": "light"
     },
     "output_type": "display_data"
    }
   ],
   "source": [
    "fig, axs = plt.subplots(1, 2, figsize=(10, 3.6))\n",
    "axs[0].scatter(x, y)\n",
    "axs[0].plot(x, 0.1*x + 2.6, label='y1 = 0.1x + 2.6', c='orange')\n",
    "axs[0].legend()\n",
    "axs[1].scatter(x, y)\n",
    "axs[1].plot(x, 2*x + 0.5, label='y2 = 2*x + 0.5',  c='orange')\n",
    "axs[1].legend()"
   ]
  },
  {
   "cell_type": "markdown",
   "id": "d87f9503-057f-4f4b-b54d-acc439ea31bf",
   "metadata": {},
   "source": [
    "Clearly one does a better job than the other at describing the trend in this data. But how do we quantify this? There are several measures used in this sort of case, with a popular one being the 'Root Mean Squared Error'. It sounds intimidating, but all we do is take the errors (how far each point is from the line), square them, sum the squares and then take the square root of that. More points further from the line -> higher errors (squaring takes care of any minus signs that would otherwise cause issues with points above/below the line) -> a higher final value for the RMSE. So lower is better. This is our loss function. \n",
    "\n",
    "Here's one way to implement this in code (there are also built-in functions for this and many other ways you could write it):"
   ]
  },
  {
   "cell_type": "code",
   "execution_count": null,
   "id": "ddff10d8-4c50-4aa2-9799-3c0e15eb9f7f",
   "metadata": {},
   "outputs": [],
   "source": [
    "def rmse(y, y_pred):\n",
    "  return torch.mean((y-y_pred)**2)**0.5 # See how many ways you can write this"
   ]
  },
  {
   "cell_type": "markdown",
   "id": "03b23ef7-b463-466d-86a5-395184dd89ca",
   "metadata": {},
   "source": [
    "Using this loss function, we can quantify how well those lines match the data:"
   ]
  },
  {
   "cell_type": "code",
   "execution_count": null,
   "id": "69323b36-f343-4a67-a7c7-770df4c11bbc",
   "metadata": {},
   "outputs": [
    {
     "name": "stdout",
     "output_type": "stream",
     "text": [
      "RMSE for y_hat1 = 0.1x + 2.6: tensor(1.1623)\n",
      "RMSE for y_hat2 = 2*x + 0.5: tensor(0.4500)\n"
     ]
    }
   ],
   "source": [
    "y1 = 0.1*x + 2.6\n",
    "y2 = 2*x + 0.5\n",
    "print('RMSE for y_hat1 = 0.1x + 2.6:', rmse(y, y1))\n",
    "print('RMSE for y_hat2 = 2*x + 0.5:', rmse(y, y2))"
   ]
  },
  {
   "cell_type": "markdown",
   "id": "d4929d35-2b9b-4d9b-985a-b62cb14ba923",
   "metadata": {},
   "source": [
    "The second line has a lower loss, and is therefore a better fit. Tweak the parameters and see if you can do even better.\n",
    "\n",
    "**THINK/DISCUSS**: What is your thought process as you try this? Are you doing something like the gradient descent described earlier?"
   ]
  },
  {
   "cell_type": "markdown",
   "id": "6983ea48-417b-4c4e-89d7-61c457894147",
   "metadata": {},
   "source": [
    "###2.4 Calculating Gradients\n",
    "\n",
    "So, how do we find the gradients we keep talking about? If you're good at differentiation, you can look at a function and figure them out analytically. But this quickly breaks down when the function is complex or involves many steps. Fortunately, PyTorch does something called automatic differentiation, where it can keep track of every operation that happens to a tensor. It builds something called a computational graph, and when you want to calculate the gradients with respect to some final result you can simply call .backward() and PyTorch will trace the path back through this graph filling in the gradients at each step. We won't go too deep into this, but here's a simple example:"
   ]
  },
  {
   "cell_type": "code",
   "execution_count": null,
   "id": "7e8ea87e-c069-4e8a-889b-c049bb4ad3c0",
   "metadata": {},
   "outputs": [
    {
     "data": {
      "text/plain": [
       "tensor(-0.9871, grad_fn=<SinBackward0>)"
      ]
     },
     "execution_count": null,
     "metadata": {},
     "output_type": "execute_result"
    }
   ],
   "source": [
    "# Some operations to demonstrate autograd\n",
    "a = torch.tensor(5.7)\n",
    "a.requires_grad = True # This is important - by default PyTorch won't track gradients\n",
    "\n",
    "b = 5*a + 2\n",
    "\n",
    "c = torch.sin(2*b+0.1)\n",
    "\n",
    "c"
   ]
  },
  {
   "cell_type": "markdown",
   "id": "ac34eb44-86aa-40d0-878c-bd8aadbf1337",
   "metadata": {},
   "source": [
    "Notice that `grad_fn` bit there? Because c depends on something (b) that depends on a tensor that requires_grad (a), PyTorch keeps track of the function needed to calculate the gradients. We could then see the gradient of c with respect to a with:"
   ]
  },
  {
   "cell_type": "code",
   "execution_count": null,
   "id": "5fbda021-177e-443c-bef9-6a2bef5470c5",
   "metadata": {},
   "outputs": [
    {
     "data": {
      "text/plain": [
       "tensor(-1.6036)"
      ]
     },
     "execution_count": null,
     "metadata": {},
     "output_type": "execute_result"
    }
   ],
   "source": [
    "c.backward() # Tell pytorch to propagate the gradients backwards down the chain of operations\n",
    "a.grad # See the resulting gradient"
   ]
  },
  {
   "cell_type": "markdown",
   "id": "f9f32256-321c-4c4a-a15c-84ec59a87624",
   "metadata": {},
   "source": [
    "The derivative of c with respect to a is (10\\*cos(10\\*(a+0.41)) - plugging in a=5.7 we see that this does indeed give the answer dc/da = -1.603. This is quite magical - we can chain complex functions together and as long as eveything is differentiable we can rely on PyTorch to be able to work backwards and give us all the gradients we need."
   ]
  },
  {
   "cell_type": "markdown",
   "id": "df427dad-f1e4-404c-b989-d45b22a70c48",
   "metadata": {},
   "source": [
    "### Gradient Descent on our Toy Example\n",
    "\n",
    "Let's get back to that example we were playing with, trying to find the parameters for a line that best describes the trend in our data. \n",
    "\n",
    "We create our parameters `w` (initialized to 2 random floats) and tell pytorch to keep track of gradients. \n",
    "\n",
    "Then, in a loop, we repeatedly find the loss, find the gradients (`loss.backward()`) and update the parameters accordingly. We could do this ourselves but PyTorch provides an optimizer that handles the update for us - torch.optim.SGD. The learning rate `lr` determines how small of a step we take at each iteration. \n",
    "\n",
    "Once the loop has finished running, we plot the losses and see that we are indeed getting better and better over time."
   ]
  },
  {
   "cell_type": "code",
   "execution_count": null,
   "id": "56147c02-a970-493f-a0a8-023f6fadc6bb",
   "metadata": {},
   "outputs": [
    {
     "name": "stdout",
     "output_type": "stream",
     "text": [
      "loss at step 0 : tensor(1.7963, grad_fn=<PowBackward0>)\n",
      "loss at step 20 : tensor(0.5059, grad_fn=<PowBackward0>)\n",
      "loss at step 40 : tensor(0.3794, grad_fn=<PowBackward0>)\n",
      "loss at step 60 : tensor(0.3036, grad_fn=<PowBackward0>)\n",
      "loss at step 80 : tensor(0.2746, grad_fn=<PowBackward0>)\n"
     ]
    },
    {
     "data": {
      "text/plain": [
       "Text(0.5, 1.0, 'Loss over time')"
      ]
     },
     "execution_count": null,
     "metadata": {},
     "output_type": "execute_result"
    },
    {
     "data": {
      "image/png": "[encoded data removed]",
      "text/plain": [
       "<Figure size 432x288 with 1 Axes>"
      ]
     },
     "metadata": {
      "needs_background": "light"
     },
     "output_type": "display_data"
    }
   ],
   "source": [
    "w = torch.rand(2) # Our parameters\n",
    "w.requires_grad = True # Explain\n",
    "\n",
    "optimizer = torch.optim.SGD([w], lr=0.2) # What des SGD stand for?\n",
    "\n",
    "losses = [] # Keep track of our losses (RMSE values)\n",
    "ws = [] # Keep track of the values we predicted\n",
    "\n",
    "for i in range(100):\n",
    "\n",
    "  # Reset everything related to gradient calculations\n",
    "  optimizer.zero_grad()\n",
    "\n",
    "  # Get our outputs\n",
    "  y_hat = w[0]*x + w[1] \n",
    "\n",
    "  # Calculate our loss\n",
    "  loss = rmse(y, y_hat)\n",
    "\n",
    "  # Store the loss for later\n",
    "  losses.append(loss.detach().item())\n",
    "  ws.append(w.clone().detach().numpy())\n",
    "\n",
    "  # Print out updates ever few iterations\n",
    "  if i % 20 == 0:\n",
    "    print('loss at step', i, ':', loss)\n",
    "\n",
    "  # Backpropagate the loss and use it to update the parameters\n",
    "  loss.backward() # This does all the gradient calculations\n",
    "  optimizer.step() # The optimizer does the update. \n",
    "  \n",
    "\n",
    "plt.plot(losses)\n",
    "plt.title('Loss over time')"
   ]
  },
  {
   "cell_type": "code",
   "execution_count": null,
   "id": "2249e0a8-5242-4be6-8fc8-3937567f3110",
   "metadata": {},
   "outputs": [
    {
     "data": {
      "text/plain": [
       "tensor([2.9089, 0.2737], requires_grad=True)"
      ]
     },
     "execution_count": null,
     "metadata": {},
     "output_type": "execute_result"
    }
   ],
   "source": [
    "w # View the learned parameters"
   ]
  },
  {
   "cell_type": "code",
   "execution_count": null,
   "id": "d15cef30-1b03-44a8-889c-f3179fb5ab9a",
   "metadata": {},
   "outputs": [
    {
     "data": {
      "text/plain": [
       "tensor([-0.0262,  0.0145])"
      ]
     },
     "execution_count": null,
     "metadata": {},
     "output_type": "execute_result"
    }
   ],
   "source": [
    "w.grad # We can see the gradients of the loss with respect to w (now small since we're close to optimum)"
   ]
  },
  {
   "cell_type": "code",
   "execution_count": null,
   "id": "7d3fa01a-ee07-4fe8-8bcf-3e4c81852128",
   "metadata": {},
   "outputs": [
    {
     "data": {
      "text/plain": [
       "<matplotlib.legend.Legend>"
      ]
     },
     "execution_count": null,
     "metadata": {},
     "output_type": "execute_result"
    },
    {
     "data": {
      "image/png": "[encoded data removed]",
      "text/plain": [
       "<Figure size 432x288 with 1 Axes>"
      ]
     },
     "metadata": {
      "needs_background": "light"
     },
     "output_type": "display_data"
    }
   ],
   "source": [
    "# Plot predictions with these parameters\n",
    "plt.scatter(x, y, label='training data')\n",
    "y_hat = w[0]*x + w[1]\n",
    "plt.plot(x, y_hat.detach(), c='red', label='y_hat (with learned parameters)')\n",
    "plt.legend()"
   ]
  },
  {
   "cell_type": "code",
   "execution_count": null,
   "id": "6edde895-0ad0-4be2-aa3c-e49a2f4a972a",
   "metadata": {},
   "outputs": [
    {
     "data": {
      "image/png": "[encoded data removed]",
      "text/plain": [
       "<Figure size 432x288 with 2 Axes>"
      ]
     },
     "metadata": {
      "needs_background": "light"
     },
     "output_type": "display_data"
    }
   ],
   "source": [
    "#@title Show the loss landscape and our path through it:\n",
    "w1, w2 = torch.meshgrid(torch.arange(0, 6, 0.2), torch.arange(-3, 3, 0.2), indexing='ij') # Grids with both parameters\n",
    "width, height = w1.shape\n",
    "\n",
    "# Calculating y_hat for each seat of params and then the resulting RMSEs\n",
    "y_preds = x.unsqueeze(0).expand(width*height, -1) * w1.flatten().unsqueeze(0).expand(20, -1).T + w2.flatten().unsqueeze(0).expand(20, -1).T\n",
    "rmses = torch.mean((y.unsqueeze(0).expand(width*height, -1)-y_preds)**2, dim=1)**0.5\n",
    "\n",
    "# Showing the loss landscape\n",
    "plt.imshow(rmses.reshape(width, height).T, cmap='inferno', extent=[0, 6, -3, 3])\n",
    "plt.colorbar()\n",
    "plt.title('RMSE for different parameters')\n",
    "plt.xlabel('gradient (w[0])')\n",
    "plt.ylabel('intercept (w[1])')\n",
    "\n",
    "# Showing the path we took over time. We need x, -y due to the way imshow works \n",
    "plt.scatter([w[0] for w in ws], [-w[1] for w in ws], c='blue', label='w at different iterations')\n",
    "for i in [0, 10, 25, 50, 99]:\n",
    "  plt.annotate(i, (ws[i][0], -ws[i][1]), c='yellow')\n",
    "plt.legend()\n",
    "plt.show()"
   ]
  },
  {
   "cell_type": "markdown",
   "id": "201dc56b-2af2-4030-9c7c-866161b8a0ad",
   "metadata": {},
   "source": [
    "Instead of optimizer.step(), we could do `w -= w.grad * 0.2` where 0.2 is the learning rate and the minus sign is because we want to move in the direction that reduces loss (so opposite to the steepest gradient). \n",
    "\n",
    "EXERCISE: Try this and confirm for yourself that this works.\n",
    "\n",
    "THINK/DISCUSS: Does this make sense? Are there any issues? What happens when the gradients are small? What happens when our step size (learning rate) is too high?\n",
    "\n",
    "THINK/DISCUSS: What kinds of problems can we solve with this tool? Can you think of examples? What are the limitations?"
   ]
  },
  {
   "cell_type": "markdown",
   "id": "8defb56b-5f01-46e6-b926-d0b45e7740c4",
   "metadata": {},
   "source": [
    "### VIDEO: GD wrapup and ethics of optmization"
   ]
  },
  {
   "cell_type": "markdown",
   "id": "c6a66371-4a0e-458e-b268-d2c72d586a35",
   "metadata": {},
   "source": [
    "### Ethics - What are we optimizing for?\n",
    "Choosing a loss function might seem like a fairly mundane and technical questions, but the choice of what we're optimizing for can have real-world impacts. What situations have you seen or experienced when the wrong target was picked?\n",
    "\n",
    "TODO link more resources"
   ]
  },
  {
   "cell_type": "markdown",
   "id": "1733eeaa-4917-4405-991e-0903c68342fc",
   "metadata": {},
   "source": [
    "## Optimization Methods\n",
    "\n",
    "Improvements in optimization (momentum, adaptive methods, maybe even a bonus section on second order stuff like shampoo and a paper read of LocoProp) \n",
    "\n",
    "Gradient Descent (or Stochastic Gradient Descent, which is just GD on batches of data rather than the full dataset) is just one optimization method. There are many improvements that can be made. If you're interested, here is a great rundown of the many alternatives that are used today: https://ruder.io/optimizing-gradient-descent/\n",
    "\n",
    "One useful idea that is bundled with optimizers in PyTorch is that of regularization. It's a large topic, but in essence regularization is concerned with smoothing things out and simplifying models or parameter sets by avoiding any values that are too extreme.\n",
    "\n",
    "TODO link to a separate notebook exploring optimizers or leave for later (maybe the NN section)\n"
   ]
  },
  {
   "cell_type": "code",
   "execution_count": null,
   "id": "40cdaef5-51d4-4ebd-8295-e7f8b414fc69",
   "metadata": {},
   "outputs": [],
   "source": []
  },
  {
   "cell_type": "markdown",
   "id": "a96edf0c-e8f0-4df3-abeb-a342c1f527b0",
   "metadata": {},
   "source": [
    "## Exercise: optimize pixels in an image to match some loss (without explaining it)? OR have a black box function that goes from z -> orb, craft a loss for orb color and optimize z to get a particular orb color. Later in the GAN section we'll make the GAN which will hide behind the scenes and enable this!"
   ]
  },
  {
   "cell_type": "code",
   "execution_count": null,
   "id": "487116af-425c-406d-8562-4e2801ee368b",
   "metadata": {},
   "outputs": [],
   "source": []
  },
  {
   "cell_type": "markdown",
   "id": "ec0c2bc3-b809-41c5-9f13-543504b389f2",
   "metadata": {},
   "source": [
    "Maybe link Karpathy's intro talk w/ micrograd?\n",
    "\n",
    "Include an NN without explaining it as in NMA?\n",
    "\n"
   ]
  }
 ],
 "metadata": {
  "kernelspec": {
   "display_name": "Python 3 (ipykernel)",
   "language": "python",
   "name": "python3"
  }
 },
 "nbformat": 4,
 "nbformat_minor": 5
}
