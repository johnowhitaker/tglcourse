{
 "cells": [
  {
   "cell_type": "markdown",
   "id": "88bae123-337a-4142-8c70-3b99232cdec5",
   "metadata": {},
   "source": [
    "# Lesson 3: Neural Networks and Loss Functions\n",
    "\n",
    "nn.Module, specifying a loss function, MNIST classification."
   ]
  },
  {
   "cell_type": "code",
   "execution_count": null,
   "id": "9828fea1-1276-43ed-8181-ef5ef6b0a1c5",
   "metadata": {},
   "outputs": [],
   "source": []
  }
 ],
 "metadata": {
  "kernelspec": {
   "display_name": "Python 3 (ipykernel)",
   "language": "python",
   "name": "python3"
  }
 },
 "nbformat": 4,
 "nbformat_minor": 5
}
