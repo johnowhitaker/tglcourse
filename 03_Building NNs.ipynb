{
 "cells": [
  {
   "cell_type": "markdown",
   "id": "88bae123-337a-4142-8c70-3b99232cdec5",
   "metadata": {},
   "source": [
    "# Lesson 3: Neural Networks and Loss Functions\n"
   ]
  },
  {
   "cell_type": "markdown",
   "id": "467a711b-763d-4cb9-8197-dd78c6a32949",
   "metadata": {},
   "source": [
    "\n",
    "nn.Module, specifying a loss function, MNIST classification.\n",
    "\n",
    "Intro to CNNs\n",
    "\n",
    "Inspecting a modern network\n",
    "\n",
    "Bonus: Working with pretrained models\n",
    "\n",
    "Bonus: Intro to Dataloaders\n",
    "\n",
    "### Exercise: Fine-tune a pretrained model on a new classification task"
   ]
  },
  {
   "cell_type": "code",
   "execution_count": null,
   "id": "b059ef6c-9bf9-4115-a884-2017083daa63",
   "metadata": {},
   "outputs": [],
   "source": []
  }
 ],
 "metadata": {
  "kernelspec": {
   "display_name": "Python 3 (ipykernel)",
   "language": "python",
   "name": "python3"
  }
 },
 "nbformat": 4,
 "nbformat_minor": 5
}
