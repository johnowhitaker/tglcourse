{
 "cells": [
  {
   "cell_type": "code",
   "execution_count": null,
   "metadata": {},
   "outputs": [],
   "source": [
    "#| default_exp core"
   ]
  },
  {
   "cell_type": "markdown",
   "metadata": {},
   "source": [
    "# Getting Started\n",
    "\n",
    "> Introducing 'The Generative Landscape'"
   ]
  },
  {
   "cell_type": "markdown",
   "metadata": {},
   "source": [
    "## Introduction"
   ]
  },
  {
   "cell_type": "markdown",
   "metadata": {},
   "source": [
    "Generative models are cool [citation needed]\n",
    "\n",
    "It is important that this cool new tec be accessible. Part of that is open models and code, but that isn't much use if no-one but a select few can understand how they work. The goal of this course is to get you up to speed with the latest advancements in generative modelling, to the point where you can understand and contribute to the work being done in this area. \n",
    "\n",
    "... it's also a library!"
   ]
  },
  {
   "cell_type": "markdown",
   "metadata": {},
   "source": [
    "## How To Navigate This Course"
   ]
  },
  {
   "cell_type": "markdown",
   "metadata": {},
   "source": [
    "This course is split up into four main components:\n",
    "- 'Lessons' has the core material that makes up the bulk of the course content. You can work through all of these in order, or skip through to topics that interest you.\n",
    "- 'Bonus Skills' are additional topics that compliment the main material. Setting up cloud machines, or tracking experiments - things that will make your experience working with deep learning richer and more productive. This also includes some important extra topics such as ethics in generative modelling.\n",
    "- 'Projects' outlines some recommended exercises for you to do as you proceed through the course material. These will also be used to assess participation of you're interested in the certificate part (still TBC)\n",
    "- 'Discussions' features podcast-style interviews with interesting people working in this field, from artists to deep learning researchers. \n",
    "\n",
    "This whole course is written as notebooks, so you can open each lesson in colab using [the button] to start running the code, or see [setting up in paperspace] to see how you can run the course in the cloud...\n",
    "\n",
    "Here's an overview of the topics covered:\n",
    "TODO"
   ]
  },
  {
   "cell_type": "markdown",
   "metadata": {},
   "source": [
    "## Live Lessons + Discussion Groups\n",
    "\n",
    "The course is designed to be explored at your own pace, but we will be running a sort of 'study group' over on Discord with weekly discussions around some of the lessons. More details TBC>"
   ]
  },
  {
   "cell_type": "markdown",
   "metadata": {},
   "source": [
    "## Getting a Certificate"
   ]
  },
  {
   "cell_type": "markdown",
   "metadata": {},
   "source": [
    "We've teamed up with [X] to set up certificates for anyone who can show they've completed a good portion of this course. The way we'll assess this is via projects. You'll need to complete 3 mini-projects and share the associated reports/demos with [me] to qualify. "
   ]
  },
  {
   "cell_type": "markdown",
   "metadata": {},
   "source": [
    "## The Library"
   ]
  },
  {
   "cell_type": "markdown",
   "metadata": {},
   "source": [
    "As we progress through the lessons we'll begin to build a library of useful functions and classes that will come in handy for various generative modelling tasks. Thanks to the magic of NBDEV (more on that in the next section) these are automatically exported into the `genai` library, which you can use in your own projects. An overview is available [here - TODO].\n",
    "\n",
    "Installing is as simple as `pip install genai` (TODO)"
   ]
  },
  {
   "cell_type": "markdown",
   "metadata": {},
   "source": [
    "## Contributing"
   ]
  },
  {
   "cell_type": "markdown",
   "metadata": {},
   "source": [
    "This entire course/library is built using NBDev. Every page is a notebook, and the docs, library code and webpage are all created from these source notebooks. \n",
    "\n",
    "[TODO guide] shows you how you might go about fixing a bug by cloning this repository, getting nbdev set up, making your change and submitting it via pull request.\n",
    "\n",
    "You can also raise an issue [link] with suggested corrections or improvements (this is the preferred way I think)\n",
    "\n",
    "Also accepting feedback via Discord\n",
    "\n",
    "Also recommendations for discussion guests."
   ]
  }
 ],
 "metadata": {
  "kernelspec": {
   "display_name": "Python 3 (ipykernel)",
   "language": "python",
   "name": "python3"
  }
 },
 "nbformat": 4,
 "nbformat_minor": 4
}
