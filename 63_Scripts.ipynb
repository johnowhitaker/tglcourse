{
 "cells": [
  {
   "cell_type": "markdown",
   "id": "50575ce6-19fe-48fd-9aaa-484cd2dc2410",
   "metadata": {},
   "source": [
    "# Creating Scripts"
   ]
  },
  {
   "cell_type": "code",
   "execution_count": null,
   "id": "238b8a1e-e99d-4669-83ca-5503f0718f30",
   "metadata": {},
   "outputs": [
    {
     "data": {
      "text/html": [
       "\n",
       "        <iframe\n",
       "            width=\"560\"\n",
       "            height=\"315\"\n",
       "            src=\"https://youtube.com/embed/Hue1kqlOdfc\"\n",
       "            frameborder=\"0\"\n",
       "            allowfullscreen\n",
       "            \n",
       "        ></iframe>\n",
       "        "
      ],
      "text/plain": [
       "<IPython.lib.display.IFrame>"
      ]
     },
     "execution_count": null,
     "metadata": {},
     "output_type": "execute_result"
    }
   ],
   "source": [
    "#|hide\n",
    "from IPython.display import IFrame\n",
    "IFrame('https://youtube.com/embed/Hue1kqlOdfc', width=\"560\", height=\"315\")"
   ]
  },
  {
   "cell_type": "markdown",
   "id": "d65cc54e-f161-4f03-93fc-1b95b8665f16",
   "metadata": {},
   "source": [
    "Notebooks are great for exploration. And with NBDev they're pretty amazing for development work too! But sometimes you just want a nice command-line script so that you can run your code with some thing like:\n",
    "```\n",
    "python my_script.py --input cat.png --width 128 \n",
    "```\n",
    "\n",
    "In this quick notebook I'll show you my new favourite way of doing this, using [`fastcore.script`](https://fastcore.fast.ai/script.html). The example from their docs shows how simple this can be. We write the following to a file:"
   ]
  },
  {
   "cell_type": "code",
   "execution_count": null,
   "id": "28f3f988-019a-4e7b-af7f-251856ef2491",
   "metadata": {},
   "outputs": [
    {
     "name": "stdout",
     "output_type": "stream",
     "text": [
      "Overwriting scripts/example_script.py\n"
     ]
    }
   ],
   "source": [
    "%%writefile scripts/example_script.py\n",
    "from fastcore.script import *\n",
    "@call_parse\n",
    "def main(msg:str,     # The message\n",
    "         upper:bool): # Convert to uppercase?\n",
    "    \"Print `msg`, optionally converting to uppercase\"\n",
    "    print(msg.upper() if upper else msg)"
   ]
  },
  {
   "cell_type": "markdown",
   "id": "cc7ea617-34d6-4008-b455-a293a1f3be34",
   "metadata": {},
   "source": [
    "Now we can run this like so:"
   ]
  },
  {
   "cell_type": "code",
   "execution_count": null,
   "id": "e7544c37-df5c-4f24-a913-b54e3cab15cd",
   "metadata": {},
   "outputs": [
    {
     "name": "stdout",
     "output_type": "stream",
     "text": [
      "HELLO WORLD\n"
     ]
    }
   ],
   "source": [
    "!python scripts/example_script.py --upper 'Hello World'"
   ]
  },
  {
   "cell_type": "markdown",
   "id": "ef16f794-935f-43d4-9d9c-e4a1abc42004",
   "metadata": {},
   "source": [
    "And those type hints and comments in the function definition above? They become part of the help text:"
   ]
  },
  {
   "cell_type": "code",
   "execution_count": null,
   "id": "d3dceea4-2dd3-46d2-a9aa-c806cf43e6f4",
   "metadata": {},
   "outputs": [
    {
     "name": "stdout",
     "output_type": "stream",
     "text": [
      "usage: example_script.py [-h] [--upper] msg\n",
      "\n",
      "Print `msg`, optionally converting to uppercase\n",
      "\n",
      "positional arguments:\n",
      "  msg         The message\n",
      "\n",
      "options:\n",
      "  -h, --help  show this help message and exit\n",
      "  --upper     Convert to uppercase? (default: False)\n"
     ]
    }
   ],
   "source": [
    "!python scripts/example_script.py -h"
   ]
  },
  {
   "cell_type": "markdown",
   "id": "3c06e56b-78c4-4fe0-8a83-4389b901106d",
   "metadata": {},
   "source": [
    "Pretty nifty right!\n",
    "\n",
    "Check out the `scripts/` directory for a bunch of examples which I made using this technique to go along with the course."
   ]
  }
 ],
 "metadata": {
  "kernelspec": {
   "display_name": "Python 3 (ipykernel)",
   "language": "python",
   "name": "python3"
  }
 },
 "nbformat": 4,
 "nbformat_minor": 5
}
