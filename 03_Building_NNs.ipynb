{
 "cells": [
  {
   "cell_type": "raw",
   "id": "5b143eb7-36fd-41a3-9779-e05057533010",
   "metadata": {},
   "source": [
    "---\n",
    "execute:\n",
    "  eval: false\n",
    "skip_exec: true\n",
    "skip_showdoc: true\n",
    "---"
   ]
  },
  {
   "cell_type": "markdown",
   "id": "88bae123-337a-4142-8c70-3b99232cdec5",
   "metadata": {},
   "source": [
    "# Lesson 3: Neural Networks and Loss Functions\n"
   ]
  },
  {
   "cell_type": "code",
   "execution_count": null,
   "id": "f651c93c-d655-4d83-ae2c-163b6b836d78",
   "metadata": {},
   "outputs": [],
   "source": [
    "#|hide\n",
    "import torch \n",
    "import random\n",
    "import numpy as np\n",
    "import matplotlib.pyplot as plt\n",
    "from PIL import Image\n",
    "import IPython.display as ipd\n",
    "import torch.nn as nn\n",
    "import torch.nn.functional as F\n",
    "from torch.utils.data import DataLoader\n",
    "import torchvision\n",
    "from torchvision import datasets, transforms\n",
    "from torchvision.models import vgg16\n",
    "from tqdm.notebook import tqdm\n",
    "\n",
    "from tglcourse.data_utils import get_mnist_dl, get_cifar10_dl\n",
    "\n",
    "# Setting device\n",
    "device = torch.device('cuda:0' if torch.cuda.is_available() else 'cpu')"
   ]
  },
  {
   "cell_type": "markdown",
   "id": "8ca4d296-e577-4e4c-b7fb-a857e50b8170",
   "metadata": {},
   "source": [
    "TODO video intro"
   ]
  },
  {
   "cell_type": "markdown",
   "id": "86340eb2-3bd4-4deb-840e-5adb6aab59f3",
   "metadata": {},
   "source": [
    "## A Simple Neural Network\n",
    "Let's start by making a smallish network to solve a small (contrived) problem. We'll generate some data, and as in the first lesson we'd like our network to learn the relationship between our input data (x) and output data (y)."
   ]
  },
  {
   "cell_type": "code",
   "execution_count": null,
   "id": "42e52a86-dcf2-4d2a-afd1-3f358b183dc4",
   "metadata": {},
   "outputs": [
    {
     "data": {
      "image/png": "[encoded data removed]",
      "text/plain": [
       "<Figure size 576x360 with 1 Axes>"
      ]
     },
     "metadata": {
      "needs_background": "light"
     },
     "output_type": "display_data"
    }
   ],
   "source": [
    "# Generating some data (inputs and targets)\n",
    "n_samples = 64\n",
    "inputs = torch.linspace(-1.0, 1.0, n_samples).reshape(n_samples, 1)\n",
    "noise = torch.randn(n_samples, 1) / 5\n",
    "targets = torch.sin(3.14 * inputs) + noise\n",
    "plt.figure(figsize=(8, 5))\n",
    "plt.scatter(inputs, targets, c='c')\n",
    "plt.xlabel('x (inputs)')\n",
    "plt.ylabel('y (targets)')\n",
    "plt.show()"
   ]
  },
  {
   "cell_type": "markdown",
   "id": "31f21683-8a4e-42b1-b378-79387c4a9cc2",
   "metadata": {},
   "source": [
    "Here's how we can make a neural network, leaning on PyTorch's handy functions:"
   ]
  },
  {
   "cell_type": "code",
   "execution_count": null,
   "id": "9af1b519-cc38-4534-80d9-67dd0d3aa932",
   "metadata": {},
   "outputs": [],
   "source": [
    "## A Wide neural network with a single hidden layer\n",
    "class WideNet(nn.Module):\n",
    "\n",
    "  def __init__(self, n_cells=512): # Initialize our network\n",
    "    super().__init__()\n",
    "    self.layers = nn.Sequential(\n",
    "        nn.Linear(1, n_cells), # One input, n_cells outputs\n",
    "        nn.Tanh(), # Our non-linearity - there are many on offer!\n",
    "        nn.Linear(n_cells, 1), # n_cells inputs, one output\n",
    "    )\n",
    "\n",
    "  def forward(self, x):\n",
    "    return self.layers(x)"
   ]
  },
  {
   "cell_type": "markdown",
   "id": "311a20af-55d0-427c-a1d4-49a03e5800fb",
   "metadata": {},
   "source": [
    "We're inheriting from the nn.Module class, which gives us some bonus features. For example, instead of directly calling the forward method (which passes the data through the different layers) we can just create our network and call it like a function:"
   ]
  },
  {
   "cell_type": "code",
   "execution_count": null,
   "id": "16434305-32ff-47cb-b604-fd755584b730",
   "metadata": {},
   "outputs": [
    {
     "name": "stdout",
     "output_type": "stream",
     "text": [
      "Input shape: torch.Size([64, 1])\n",
      "Output shape: torch.Size([64, 1])\n",
      "PyTorch sumary of wn:\n"
     ]
    },
    {
     "data": {
      "text/plain": [
       "WideNet(\n",
       "  (layers): Sequential(\n",
       "    (0): Linear(in_features=1, out_features=512, bias=True)\n",
       "    (1): Tanh()\n",
       "    (2): Linear(in_features=512, out_features=1, bias=True)\n",
       "  )\n",
       ")"
      ]
     },
     "execution_count": null,
     "metadata": {},
     "output_type": "execute_result"
    }
   ],
   "source": [
    "wn = WideNet()\n",
    "print('Input shape:', inputs.shape)\n",
    "out = wn(inputs) # This passes our data in as the input to the forward method defined above\n",
    "print('Output shape:', out.shape)\n",
    "print('PyTorch sumary of wn:')\n",
    "wn"
   ]
  },
  {
   "cell_type": "markdown",
   "id": "760939fb-a392-4eaa-96ee-a74bb15a4e0d",
   "metadata": {},
   "source": [
    "This network includes some layers that have learnable parameters. We can access all of these via `wn.parameters()` - in this case we get four sets of parameters - the weights and biases for each of the two linear layers. Feel free to experiment with the network definition and see how this changes:"
   ]
  },
  {
   "cell_type": "code",
   "execution_count": null,
   "id": "ca6ee324-2555-4b28-a5c4-77b039550481",
   "metadata": {},
   "outputs": [
    {
     "data": {
      "text/plain": [
       "[torch.Size([512, 1]),\n",
       " torch.Size([512]),\n",
       " torch.Size([1, 512]),\n",
       " torch.Size([1])]"
      ]
     },
     "execution_count": null,
     "metadata": {},
     "output_type": "execute_result"
    }
   ],
   "source": [
    "[p.shape for p in wn.parameters()]"
   ]
  },
  {
   "cell_type": "markdown",
   "id": "ddf132a5-5484-42b8-a82e-10e8a4c432f3",
   "metadata": {},
   "source": [
    "\n",
    "Time for our training loop - compare this with the optimization loop we in the previous lesson (spoiler: they're the same!). We're optimizing the parameters of our neural network - all the weights and biases in the different layers."
   ]
  },
  {
   "cell_type": "code",
   "execution_count": null,
   "id": "bcbde99e-a5ea-41f1-9566-be938bad843b",
   "metadata": {},
   "outputs": [
    {
     "data": {
      "text/plain": [
       "[<matplotlib.lines.Line2D>]"
      ]
     },
     "execution_count": null,
     "metadata": {},
     "output_type": "execute_result"
    },
    {
     "data": {
      "image/png": "[encoded data removed]",
      "text/plain": [
       "<Figure size 432x288 with 1 Axes>"
      ]
     },
     "metadata": {
      "needs_background": "light"
     },
     "output_type": "display_data"
    }
   ],
   "source": [
    "#|eval:false\n",
    "\n",
    "# Create our network\n",
    "wide_net = WideNet()\n",
    "\n",
    "# Create a mse loss function\n",
    "loss_function = nn.MSELoss()\n",
    "\n",
    "# Stochstic Gradient Descent optimizer\n",
    "optimizer = torch.optim.Adam(wide_net.parameters(), lr=1e-3)\n",
    "\n",
    "# The training loop\n",
    "losses = []  # keeping recods of loss\n",
    "for i in range(500): # 500 'epochs' of training\n",
    "  optimizer.zero_grad()  # set gradients to 0\n",
    "  predictions = wide_net(inputs)  # Compute model prediction (output)\n",
    "  loss = loss_function(predictions, targets)  # Compute the loss\n",
    "  loss.backward()  # Compute gradients (backward pass)\n",
    "  optimizer.step()  # update parameters (optimizer takes a step)\n",
    "\n",
    "  # Storing our loss for later viewing\n",
    "  losses.append(loss.item())\n",
    "\n",
    "# Plot the losses over time\n",
    "plt.plot(losses) # Plot the losses over time"
   ]
  },
  {
   "cell_type": "markdown",
   "id": "ecfe93bc-fe50-4d6a-8e89-dffbc0781b08",
   "metadata": {},
   "source": [
    "**THINK/DISCUSS**: Go line-by-line through the code above - does it make sense?\n",
    "\n",
    "Notice we don't have to set requires_grad manually on any of the parameters, since the learnable parameters in each layer are grouped automatically by `wide_net.parameters()` (inspect that and see what it contains). "
   ]
  },
  {
   "cell_type": "code",
   "execution_count": null,
   "id": "dd59ef7d-c40d-4ccd-9377-d455a9a1f218",
   "metadata": {},
   "outputs": [
    {
     "data": {
      "image/png": "[encoded data removed]",
      "text/plain": [
       "<Figure size 432x288 with 1 Axes>"
      ]
     },
     "metadata": {
      "needs_background": "light"
     },
     "output_type": "display_data"
    }
   ],
   "source": [
    "#|eval:false\n",
    "plt.scatter(inputs, targets)\n",
    "plt.plot(inputs, wide_net(inputs).detach(), c='red', label='Predictions')\n",
    "# Create a new, untrained widenet and plot those predictions for comparison\n",
    "new_wn = WideNet()\n",
    "plt.plot(inputs, new_wn(inputs).detach(), c='yellow', label='Predictions (untrained network)')\n",
    "plt.legend()\n",
    "plt.show()"
   ]
  },
  {
   "cell_type": "code",
   "execution_count": null,
   "id": "89c91404-36cb-4717-9278-ed2dd45a8f7f",
   "metadata": {},
   "outputs": [],
   "source": [
    "# Exercise: Create a neural network with two hidden layers and train it on this same task..."
   ]
  },
  {
   "cell_type": "markdown",
   "id": "435e164f-8350-416a-b8de-848cf57fb0ce",
   "metadata": {},
   "source": [
    "## A Lightning Overview of ConvNets\n",
    "So-called 'dense' networks are useful in some cases, but we need to be mindful of the number of parameters required to solve certain types of problems. For example, consider the case of image recognition - our inputs consist of thousands of individual pixel values. A dense network that could take in 500px images and then run them through many hidden layers ends up with millions or billions of parameters, which can make training tricky.\n",
    "\n",
    "In addition, each pixel feeds into a different part of the network. When we look at how the vision system works in the brain, or just think about what we'd want in a computer vision system, we'll start to hit requirements that might not be easy to satisfy with a simple MLP network. Fortunately, we have some tricks to imporve things! Here's another video that takes us through a key idea in deep learning for images: CNNs\n",
    "\n",
    "Here's another video from the (free and I CC-licenced) neuromatch course that gives a little more background:"
   ]
  },
  {
   "cell_type": "code",
   "execution_count": null,
   "id": "9f1548a1-b596-4e67-bd55-63e02fda4de1",
   "metadata": {},
   "outputs": [
    {
     "data": {
      "text/html": [
       "\n",
       "        <iframe\n",
       "            width=\"560\"\n",
       "            height=\"315\"\n",
       "            src=\"https://www.youtube.com/embed/AXO-iflKa58\"\n",
       "            frameborder=\"0\"\n",
       "            allowfullscreen\n",
       "            \n",
       "        ></iframe>\n",
       "        "
      ],
      "text/plain": [
       "<IPython.lib.display.IFrame>"
      ]
     },
     "metadata": {},
     "output_type": "display_data"
    }
   ],
   "source": [
    "html = ipd.display(ipd.IFrame(src=\"https://www.youtube.com/embed/AXO-iflKa58\", width=\"560\", height=\"315\"))\n",
    "html"
   ]
  },
  {
   "cell_type": "markdown",
   "id": "f1abe586-bb95-4a78-9724-75789e082341",
   "metadata": {},
   "source": [
    "The following interactive website is a great way to get an intuition for both how convolution works. You can see each learned filter and the corresponding output. It also shows a second key idea: pooling. By 'downsampling' the outputs of successinve convolution layers we end up with fewer and fewer activations, each representing more and more of the input image. Play around a bit until you're sort of happy with the basic concepts (see the video for more discussion and explanations) and then move on to the next section, where we'll build our own very similar network."
   ]
  },
  {
   "cell_type": "code",
   "execution_count": null,
   "id": "78e1c7a2-8652-4a1f-93fb-16212ad3a9d1",
   "metadata": {},
   "outputs": [],
   "source": [
    "# html = ipd.display(ipd.HTML('<iframe width=\"1200\" height=\"600\" src=\"https://adamharley.com/nn_vis/cnn/3d.html\" title=\"CNN Visualization\" frameborder=\"0\" allow=\"accelerometer; autoplay; clipboard-write; encrypted-media; gyroscope; picture-in-picture\" allowfullscreen></iframe>'))\n",
    "# html"
   ]
  },
  {
   "cell_type": "markdown",
   "id": "2f652a16-cca3-493e-a389-f9c367e6f620",
   "metadata": {},
   "source": [
    "For more on what convolution is, how the different hyperparameters (padding, stride etc) do and a general overview of CNNs, see https://poloclub.github.io/cnn-explainer/"
   ]
  },
  {
   "cell_type": "markdown",
   "id": "13114805-ade3-44f9-a47a-9569f05a994d",
   "metadata": {},
   "source": [
    "## The Dataset\n",
    "We'll use the classic MNIST dataset (as shown in the video and examples above). But these same ideas apply to more complex image recognition"
   ]
  },
  {
   "cell_type": "code",
   "execution_count": null,
   "id": "8ea8feed-ee11-4167-8d0a-3e8fbd9ceb13",
   "metadata": {},
   "outputs": [
    {
     "name": "stderr",
     "output_type": "stream",
     "text": [
      "Reusing dataset mnist (/root/.cache/huggingface/datasets/mnist/mnist/1.0.0/fda16c03c4ecfb13f165ba7e29cf38129ce035011519968cdaf74894ce91c9d4)\n",
      "Reusing dataset mnist (/root/.cache/huggingface/datasets/mnist/mnist/1.0.0/fda16c03c4ecfb13f165ba7e29cf38129ce035011519968cdaf74894ce91c9d4)\n"
     ]
    },
    {
     "data": {
      "image/png": "[encoded data removed]",
      "text/plain": [
       "<Figure size 864x288 with 4 Axes>"
      ]
     },
     "metadata": {
      "needs_background": "light"
     },
     "output_type": "display_data"
    }
   ],
   "source": [
    "#@title Loading the data\n",
    "mnist_dl_train = get_mnist_dl(batch_size=128, split='train')\n",
    "mnist_dl_test = get_mnist_dl(batch_size=128, split='test')\n",
    "\n",
    "# Get one batch of data\n",
    "batch = next(iter(mnist_dl_train))\n",
    "\n",
    "data_shape = (1, 28, 28)\n",
    "\n",
    "# Plot a few examples\n",
    "fig, axs = plt.subplots(1, 4, figsize=(12, 4))\n",
    "for i in range(4):\n",
    "    im, label = batch['image'][i], batch['label'][i]\n",
    "    axs[i].imshow(im.squeeze(), cmap='gray')\n",
    "    axs[i].set_title(label)"
   ]
  },
  {
   "cell_type": "markdown",
   "id": "923df59f-c0b5-4c66-9aaf-38b69cf5b7d1",
   "metadata": {},
   "source": [
    "## Defining Our Network\n",
    "The convolution operation is handled by the nn.Conv2d layer. Uncomment the next line to view some info about this:"
   ]
  },
  {
   "cell_type": "code",
   "execution_count": null,
   "id": "954013dd-1d1f-4114-ac12-b5c78d1ddc1d",
   "metadata": {},
   "outputs": [],
   "source": [
    "# ?nn.Conv2d"
   ]
  },
  {
   "cell_type": "markdown",
   "id": "59a1deac-2112-46e9-b6f6-9699bd43a413",
   "metadata": {},
   "source": [
    "Let's use nn.Conv2D to convolve this image with some random kernels:"
   ]
  },
  {
   "cell_type": "code",
   "execution_count": null,
   "id": "2b991d0c-c6b1-4356-a573-cd8d831d49e4",
   "metadata": {},
   "outputs": [
    {
     "name": "stdout",
     "output_type": "stream",
     "text": [
      "Input shape:  torch.Size([1, 1, 28, 28])\n",
      "Output shape:  torch.Size([1, 12, 24, 24])\n"
     ]
    }
   ],
   "source": [
    "conv_test = nn.Conv2d(in_channels=1, out_channels=12, kernel_size=5, padding=0)\n",
    "image = batch['image'][0].unsqueeze(0) # unsqueeze the first image to make this a 'batch of size 1'\n",
    "print('Input shape: ', image.shape) # One channel greyscale image\n",
    "print('Output shape: ', conv_test(image).shape) # 12 output channels (from 12 kernels)"
   ]
  },
  {
   "cell_type": "markdown",
   "id": "c207fe93-cbbe-4148-8fb5-e98565427543",
   "metadata": {},
   "source": [
    "Note the initial shape is slightly smaller - how does padding change this? Does the output shape make sense?\n",
    "\n",
    "This layer has some trainable parameters: the kernels. Let's check these out:"
   ]
  },
  {
   "cell_type": "code",
   "execution_count": null,
   "id": "677eead1-f886-4f00-afd2-36f098ab695b",
   "metadata": {},
   "outputs": [
    {
     "data": {
      "text/plain": [
       "torch.Size([12, 1, 5, 5])"
      ]
     },
     "execution_count": null,
     "metadata": {},
     "output_type": "execute_result"
    }
   ],
   "source": [
    "conv_test.weight.shape # 12 filters, each 1x5x5 "
   ]
  },
  {
   "cell_type": "markdown",
   "id": "51a48a3d-3f35-4eb5-9d69-8581aa204ebd",
   "metadata": {},
   "source": [
    "**THINK**: Does the number of parameters in this layer depend on the input image size?"
   ]
  },
  {
   "cell_type": "markdown",
   "id": "604b7206-f01d-4227-84a6-d2d22223e00f",
   "metadata": {},
   "source": [
    "Here's a network that uses these layers (along with nn.MaxPool2d for the downsampling/pooling). We could use nn.Sequential as in the previous example, but I'd like to show another common style here. We define all the layers we'll need in __init__ but only in the forward() method do we actually specify how that data should flow through the network."
   ]
  },
  {
   "cell_type": "code",
   "execution_count": null,
   "id": "43107487-10ca-4f9d-b7d7-5b180b6bd53c",
   "metadata": {},
   "outputs": [],
   "source": [
    "# Network definition\n",
    "class MiniCNN(nn.Module):\n",
    "    def __init__(self):\n",
    "        super(MiniCNN, self).__init__()\n",
    "        self.conv1 = nn.Conv2d(1, 32, 3)\n",
    "        self.conv2 = nn.Conv2d(32, 64, 3)\n",
    "        self.fc1 = nn.Linear(9216, 128)\n",
    "        self.fc2 = nn.Linear(128, 10) # 10 outputs (for 10 digits)\n",
    "        self.pool = nn.MaxPool2d(2)\n",
    "\n",
    "    def forward(self, x):\n",
    "        x = self.conv1(x)\n",
    "        x = F.relu(x)\n",
    "        x = self.conv2(x)\n",
    "        x = F.relu(x)\n",
    "        x = self.pool(x)\n",
    "        x = torch.flatten(x, 1)\n",
    "        x = self.fc1(x)\n",
    "        x = F.relu(x)\n",
    "        x = self.fc2(x)\n",
    "        return x"
   ]
  },
  {
   "cell_type": "markdown",
   "id": "6257d6f9-8274-4c39-a5af-cece42b1f2e2",
   "metadata": {},
   "source": [
    "## The Training Loop\n",
    "\n",
    "![training](https://media3.giphy.com/media/xT0xekSmUwcoD6SxzO/giphy.gif)\n",
    "\n",
    "Here's a training loop that should now be getting quite familiar. A few noteworthy things:\n",
    "- We can't push all the images through in one go, so within each epoch (i.e. each full psas through the data) we do multiple batches. This is when 'Gradient Descent' becomes 'Stochastic Gradient Descent' or 'Mini-batch GD' depending on who you're talking to. PyTorch does the batching for us via something called a `DataLoader`. \n",
    "- We'd like to train on the GPU, so we need to make sure both the model and the data are on the right device with `.to(device)` (device is defined earlier).\n",
    "- We're using a loss function that is good for classification tasks: `nn.CrossEntropyLoss()`. Accuracy has 'steps' and so it makes differentiation tricky. By treating the outputs of the network as probabilities we can see how confident it is that something is in a specific class while keeping everything continuous and differentiable. Don't worry too much about this :)"
   ]
  },
  {
   "cell_type": "code",
   "execution_count": null,
   "id": "a955a062-c8e1-4f79-8977-5a01bde5b494",
   "metadata": {},
   "outputs": [
    {
     "data": {
      "application/vnd.jupyter.widget-view+json": {
       "model_id": "34912bbb5e584576be26e743002213b9",
       "version_major": 2,
       "version_minor": 0
      },
      "text/plain": [
       "  0%|          | 0/469 [00:00<?, ?batch/s]"
      ]
     },
     "metadata": {},
     "output_type": "display_data"
    },
    {
     "data": {
      "text/plain": [
       "[<matplotlib.lines.Line2D>]"
      ]
     },
     "execution_count": null,
     "metadata": {},
     "output_type": "execute_result"
    },
    {
     "data": {
      "image/png": "[encoded data removed]",
      "text/plain": [
       "<Figure size 432x288 with 1 Axes>"
      ]
     },
     "metadata": {
      "needs_background": "light"
     },
     "output_type": "display_data"
    }
   ],
   "source": [
    "#|eval: false\n",
    "\n",
    "# Set up model, loss and optimizer\n",
    "model = MiniCNN().to(device)\n",
    "criterion = nn.CrossEntropyLoss()\n",
    "optimizer = torch.optim.SGD(model.parameters(), lr=0.01)\n",
    "\n",
    "losses = []\n",
    "\n",
    "# The training loop\n",
    "for batch in tqdm(mnist_dl_train, unit='batch'):\n",
    "    data, target = batch['image'], batch['label']\n",
    "    data, target = data.to(device), target.to(device)\n",
    "    optimizer.zero_grad()\n",
    "    output = model(data)\n",
    "    loss = criterion(output, target)\n",
    "    loss.backward()\n",
    "    optimizer.step()\n",
    "\n",
    "    # Log the loss\n",
    "    losses.append(loss.item()) # .item makes a copy of just the value, detached from any gradient calculations.\n",
    "\n",
    "plt.plot(losses)"
   ]
  },
  {
   "cell_type": "markdown",
   "id": "6d00079a-49d9-49ba-99e2-d933722ce707",
   "metadata": {},
   "source": [
    "ASIDE: If you're on a machine with a GPU, remove all to(device) in the above code - is it slower on CPU?"
   ]
  },
  {
   "cell_type": "markdown",
   "id": "12b4720b-6f8e-46b4-bccb-f5a092faa661",
   "metadata": {},
   "source": [
    "## Evaluation - how well does it do?\n",
    "\n",
    "![testing](https://media3.giphy.com/media/JRPftUYuIRw3axuh5y/giphy-downsized-large.gif)"
   ]
  },
  {
   "cell_type": "code",
   "execution_count": null,
   "id": "fc849e61-d639-4276-a318-f6a11a74ec19",
   "metadata": {},
   "outputs": [
    {
     "data": {
      "application/vnd.jupyter.widget-view+json": {
       "model_id": "e7a6bdd4de234a338d87d8294216a41d",
       "version_major": 2,
       "version_minor": 0
      },
      "text/plain": [
       "  0%|          | 0/79 [00:00<?, ?it/s]"
      ]
     },
     "metadata": {},
     "output_type": "display_data"
    },
    {
     "name": "stdout",
     "output_type": "stream",
     "text": [
      "Test accuracy: 88.07%\n"
     ]
    }
   ],
   "source": [
    "#|eval: false\n",
    "\n",
    "## Testing\n",
    "correct = 0\n",
    "total = 0\n",
    "\n",
    "with torch.no_grad():\n",
    "  # Iterate through test set minibatchs\n",
    "  for batch in tqdm(mnist_dl_test):\n",
    "    data, labels = batch.values() # TODO fix this in data eg\n",
    "    data, labels = data.to(device), labels.to(device) # Move the data to GPU for faster execution.\n",
    "    y = model(data) # Forward pass\n",
    "    predictions = torch.argmax(y, dim=1) # The model has ten outputs, one for each digit. Here we take the index with the highest output\n",
    "    correct += torch.sum((predictions == labels).float())\n",
    "    total += labels.shape[0]\n",
    "\n",
    "print(f'Test accuracy: {correct/total * 100:.2f}%')"
   ]
  },
  {
   "cell_type": "code",
   "execution_count": null,
   "id": "df5f6b8a-2b17-47e2-b408-b4b4152cb727",
   "metadata": {},
   "outputs": [],
   "source": [
    "#Exercise: See how good you can get! Tweak the architecture, the hyperparameters, the training time, the optimizer... go wild ;)\n",
    "# You may want to try doing multiple passes through the dataloader - aka multiple epochs."
   ]
  },
  {
   "cell_type": "markdown",
   "id": "d0bef709-d2e6-445e-b959-a3cb21259a48",
   "metadata": {},
   "source": [
    "Phew! Welcome to deep learning :) \n",
    "\n",
    "We're learning just enough to move on with the course, but these are some big topics and we're barely scratching the surface. If you're interested in more of the theory or implementing some of these ideas from scratch, you might like to check out the content at https://deeplearning.neuromatch.io/ or one of the many deep learning courses on various MOOC platforms. If you'd like a more top-down approach to doing practical deep learning realy well, I can't recommend the [fastai course](https://course.fast.ai) highly enough. \n",
    "\n",
    "There is also a great from-scratch lesson from Andrej Karpathy going into all the nitty-gritty details of how gradients are calculated and so on: https://www.youtube.com/watch?v=VMj-3S1tku0 TODO embed and explain more.\n"
   ]
  },
  {
   "cell_type": "markdown",
   "id": "8573a6b3-632c-473d-8ec8-903fe900f7f7",
   "metadata": {},
   "source": [
    "## Loss Functions\n",
    "\n",
    "TODO video\n",
    "\n",
    "Explain CE and MSE at least"
   ]
  },
  {
   "cell_type": "code",
   "execution_count": null,
   "id": "45018f11-4a87-4f20-98a8-c3468991ff41",
   "metadata": {},
   "outputs": [
    {
     "name": "stdout",
     "output_type": "stream",
     "text": [
      "Result using nn.MSELoss()(predictions, targets): tensor(0.0175)\n",
      "Result using ((targets - predictions)**2).mean(): tensor(0.0175)\n"
     ]
    }
   ],
   "source": [
    "targets = torch.tensor([0.2, 0.7, 0.1])\n",
    "predictions = torch.tensor([0.25, 0.6, 0.3])\n",
    "print('Result using nn.MSELoss()(predictions, targets):', nn.MSELoss()(predictions, targets))\n",
    "print('Result using ((targets - predictions)**2).mean():', ((targets - predictions)**2).mean())"
   ]
  },
  {
   "cell_type": "markdown",
   "id": "957b0763-7c16-4b23-b58e-340c7dadf248",
   "metadata": {},
   "source": [
    "Does order matter for MSELoss?"
   ]
  },
  {
   "cell_type": "markdown",
   "id": "645732c3-3e6d-4e4d-ba9a-ea8c344a289a",
   "metadata": {},
   "source": [
    "Cross_Entropy Loss\n",
    "\n",
    "TODO link with Log Loss, NLL and other terms?"
   ]
  },
  {
   "cell_type": "code",
   "execution_count": null,
   "id": "dff2f745-7fb1-4fc6-bf98-9f9478f197d8",
   "metadata": {},
   "outputs": [
    {
     "name": "stdout",
     "output_type": "stream",
     "text": [
      "Result using nn.CrossEntropyLoss()(labels, predictions): tensor(0.0892)\n",
      "Softmax output:\n",
      " tensor([[0.8450, 0.0660, 0.0891],\n",
      "        [0.0689, 0.0486, 0.8825],\n",
      "        [0.0274, 0.9533, 0.0193],\n",
      "        [0.9846, 0.0081, 0.0073]])\n",
      "Relevant Probabilities: tensor([0.8450, 0.8825, 0.9533, 0.9846])\n",
      "Negative Liklihoods: tensor([0.1685, 0.1250, 0.0478, 0.0156])\n",
      "Mean NL on softmax outputs: tensor(0.0892)\n"
     ]
    }
   ],
   "source": [
    "labels = torch.tensor([0, 2, 1, 0])\n",
    "predictions = torch.tensor([[1.95, -0.6, -0.3],\n",
    "                            [-0.25, -0.6, 2.3],\n",
    "                            [0.05, 3.6, -0.3],\n",
    "                            [3.7, -1.1, -1.2]])\n",
    "print('Result using nn.CrossEntropyLoss()(labels, predictions):', nn.CrossEntropyLoss()(predictions, labels))\n",
    "\n",
    "# Softmax of raw preds (usually model outputs)\n",
    "probs = nn.Softmax(dim=1)(predictions)\n",
    "print('Softmax output:\\n', probs)\n",
    "\n",
    "# Get the probabilities corresponding to the correct labels\n",
    "relevant_probs = probs[range(labels.shape[0]), labels]\n",
    "print('Relevant Probabilities:', relevant_probs)\n",
    "\n",
    "# Calculate \n",
    "neg_log = -relevant_probs.log()\n",
    "print('Negative Liklihoods:', neg_log)\n",
    "print('Mean NL on softmax outputs:', neg_log.mean())"
   ]
  },
  {
   "cell_type": "code",
   "execution_count": null,
   "id": "f2e5614d-d79a-4751-b5d9-3bc0e04dab4f",
   "metadata": {},
   "outputs": [
    {
     "data": {
      "text/plain": [
       "tensor([[1, 0, 0, 0, 0, 0, 0, 0, 0, 0],\n",
       "        [0, 1, 0, 0, 0, 0, 0, 0, 0, 0],\n",
       "        [0, 0, 0, 0, 0, 0, 0, 1, 0, 0],\n",
       "        [0, 0, 0, 1, 0, 0, 0, 0, 0, 0],\n",
       "        [0, 0, 0, 0, 0, 0, 0, 0, 0, 1]])"
      ]
     },
     "execution_count": null,
     "metadata": {},
     "output_type": "execute_result"
    }
   ],
   "source": [
    "# Exercise: Can you use MSE loss for classification?\n",
    "\n",
    "# You can encode some class labels like so:\n",
    "labels = torch.tensor([0, 1, 7, 3, 9])\n",
    "one_hot_encoded = F.one_hot(labels, num_classes=10)\n",
    "one_hot_encoded"
   ]
  },
  {
   "cell_type": "code",
   "execution_count": null,
   "id": "db14b0f3-d878-4b9d-8e37-e6ffffcb2d5e",
   "metadata": {},
   "outputs": [],
   "source": [
    "# Exercise try a version of widenet on mnist as well - how good can you get it?"
   ]
  },
  {
   "cell_type": "markdown",
   "id": "5146de4d-da41-42f4-97ed-969df785f09f",
   "metadata": {},
   "source": [
    "## Pretrained Networks\n",
    "\n",
    "Training a network from scratch can be time-consuming and require LOTs of data..."
   ]
  },
  {
   "cell_type": "code",
   "execution_count": null,
   "id": "efb761a2-3f39-4929-8970-6aedcef2c721",
   "metadata": {},
   "outputs": [
    {
     "name": "stderr",
     "output_type": "stream",
     "text": [
      "Reusing dataset cifar10 (/root/.cache/huggingface/datasets/cifar10/plain_text/1.0.0/447d6ec4733dddd1ce3bb577c7166b986eaa4c538dcd9e805ba61f35674a9de4)\n",
      "Loading cached shuffled indices for dataset at /root/.cache/huggingface/datasets/cifar10/plain_text/1.0.0/447d6ec4733dddd1ce3bb577c7166b986eaa4c538dcd9e805ba61f35674a9de4/cache-16b9e105e7ead8c5.arrow\n"
     ]
    },
    {
     "data": {
      "text/plain": [
       "(torch.Size([128, 3, 32, 32]),\n",
       " tensor([1, 2, 6, 7, 9, 4, 7, 6, 4, 2, 2, 0, 4, 8, 4, 2, 5, 7, 2, 9, 9, 8, 8, 1,\n",
       "         4, 3, 7, 3, 5, 6, 9, 3, 6, 4, 3, 4, 7, 9, 3, 3, 0, 6, 4, 3, 5, 1, 9, 6,\n",
       "         2, 2, 1, 0, 6, 7, 4, 3, 1, 4, 4, 2, 2, 5, 4, 5, 7, 0, 3, 0, 8, 4, 5, 7,\n",
       "         9, 0, 9, 9, 9, 4, 8, 3, 3, 6, 5, 5, 3, 2, 8, 1, 4, 3, 4, 2, 7, 8, 2, 0,\n",
       "         9, 6, 8, 7, 4, 3, 2, 0, 2, 0, 3, 2, 4, 9, 2, 5, 9, 6, 0, 6, 0, 7, 2, 2,\n",
       "         1, 7, 5, 9, 6, 8, 6, 4]))"
      ]
     },
     "execution_count": null,
     "metadata": {},
     "output_type": "execute_result"
    }
   ],
   "source": [
    "dataloader = get_cifar10_dl(batch_size=128, split='train')\n",
    "batch = next(iter(dataloader))\n",
    "batch['image'].shape, batch['label']"
   ]
  },
  {
   "cell_type": "code",
   "execution_count": null,
   "id": "c8103fb5-ba1f-4173-a246-f8f8b23e2ac7",
   "metadata": {},
   "outputs": [
    {
     "data": {
      "text/plain": [
       "<matplotlib.image.AxesImage>"
      ]
     },
     "execution_count": null,
     "metadata": {},
     "output_type": "execute_result"
    },
    {
     "data": {
      "image/png": "[encoded data removed]",
      "text/plain": [
       "<Figure size 432x288 with 1 Axes>"
      ]
     },
     "metadata": {
      "needs_background": "light"
     },
     "output_type": "display_data"
    }
   ],
   "source": [
    "plt.imshow(torchvision.utils.make_grid(batch['image'][:16], nrow=4).permute(1, 2, 0))"
   ]
  },
  {
   "cell_type": "code",
   "execution_count": null,
   "id": "8717d832-237c-43f0-b2a3-45ee80420674",
   "metadata": {},
   "outputs": [],
   "source": [
    "# from tglcourse.utils import *\n",
    "# tensor_to_pil(torchvision.utils.make_grid(batch['image'][:16], nrow=4))"
   ]
  },
  {
   "cell_type": "code",
   "execution_count": null,
   "id": "f4cd2e40-113f-4e33-8449-306b6f04fd51",
   "metadata": {},
   "outputs": [],
   "source": [
    "pretrained_model = vgg16()\n",
    "# pretrained_model # Incomment to view layers"
   ]
  },
  {
   "cell_type": "markdown",
   "id": "31cdd25b-9b8d-43ec-ba78-595b620da479",
   "metadata": {},
   "source": [
    "TODO explain:"
   ]
  },
  {
   "cell_type": "code",
   "execution_count": null,
   "id": "aa851d9e-4d23-412e-be72-a82b2495e556",
   "metadata": {},
   "outputs": [],
   "source": [
    "# Exercise: skip this so that the whole network is trained. What happens?\n",
    "for p in pretrained_model.parameters():\n",
    "    p.requires_grad = False"
   ]
  },
  {
   "cell_type": "code",
   "execution_count": null,
   "id": "e51bc1d9-9139-4c66-ab2b-65b3444ee872",
   "metadata": {},
   "outputs": [],
   "source": [
    "num_classes = 10\n",
    "num_ftrs = pretrained_model.classifier[6].in_features\n",
    "pretrained_model.classifier[6] = nn.Linear(num_ftrs,num_classes)"
   ]
  },
  {
   "cell_type": "code",
   "execution_count": null,
   "id": "dc5b8c24-6137-488a-b21a-543a00b0cda9",
   "metadata": {},
   "outputs": [
    {
     "name": "stdout",
     "output_type": "stream",
     "text": [
      "[False, False, False, False, False, False, False, False, False, False, False, False, False, False, False, False, False, False, False, False, False, False, False, False, False, False, False, False, False, False, True, True]\n"
     ]
    }
   ],
   "source": [
    "print([p.requires_grad for p in pretrained_model.parameters()])"
   ]
  },
  {
   "cell_type": "code",
   "execution_count": null,
   "id": "4c4172bf-a4db-4b8d-9a42-326caf0abea3",
   "metadata": {},
   "outputs": [
    {
     "data": {
      "text/plain": [
       "torch.Size([128, 10])"
      ]
     },
     "execution_count": null,
     "metadata": {},
     "output_type": "execute_result"
    }
   ],
   "source": [
    "pretrained_model(batch['image']).shape # 10 outputs for each input image"
   ]
  },
  {
   "cell_type": "code",
   "execution_count": null,
   "id": "ed13d832-1960-477d-b282-f63ec49e0a76",
   "metadata": {},
   "outputs": [
    {
     "data": {
      "application/vnd.jupyter.widget-view+json": {
       "model_id": "b80df51c7e27496e9fa8d76f94b107a0",
       "version_major": 2,
       "version_minor": 0
      },
      "text/plain": [
       "  0%|          | 0/391 [00:00<?, ?batch/s]"
      ]
     },
     "metadata": {},
     "output_type": "display_data"
    },
    {
     "data": {
      "application/vnd.jupyter.widget-view+json": {
       "model_id": "55c1d7a269004bbd995793645b571762",
       "version_major": 2,
       "version_minor": 0
      },
      "text/plain": [
       "  0%|          | 0/391 [00:00<?, ?batch/s]"
      ]
     },
     "metadata": {},
     "output_type": "display_data"
    },
    {
     "data": {
      "application/vnd.jupyter.widget-view+json": {
       "model_id": "017a7655093f4fbc9c0a9d0c742edd3c",
       "version_major": 2,
       "version_minor": 0
      },
      "text/plain": [
       "  0%|          | 0/391 [00:00<?, ?batch/s]"
      ]
     },
     "metadata": {},
     "output_type": "display_data"
    },
    {
     "data": {
      "text/plain": [
       "[<matplotlib.lines.Line2D>]"
      ]
     },
     "execution_count": null,
     "metadata": {},
     "output_type": "execute_result"
    },
    {
     "data": {
      "image/png": "[encoded data removed]",
      "text/plain": [
       "<Figure size 432x288 with 1 Axes>"
      ]
     },
     "metadata": {
      "needs_background": "light"
     },
     "output_type": "display_data"
    }
   ],
   "source": [
    "#|eval: false\n",
    "pretrained_model.to(device)\n",
    "criterion = nn.CrossEntropyLoss()\n",
    "optimizer = torch.optim.Adam(pretrained_model.parameters(), lr=5e-3)\n",
    "losses = []\n",
    "for epoch in range(3):\n",
    "    for batch in tqdm(dataloader, unit='batch'):\n",
    "        data, target = batch['image'], batch['label']\n",
    "        data, target = data.to(device), target.to(device)\n",
    "        optimizer.zero_grad()\n",
    "        output = pretrained_model(data)\n",
    "        loss = criterion(output, target)\n",
    "        loss.backward()\n",
    "        optimizer.step()\n",
    "        losses.append(loss.item())\n",
    "plt.plot(losses)"
   ]
  },
  {
   "cell_type": "code",
   "execution_count": null,
   "id": "ea754698-403f-4846-93ce-8ab9ef6355f6",
   "metadata": {},
   "outputs": [
    {
     "name": "stdout",
     "output_type": "stream",
     "text": [
      "True labels tensor([1, 2, 6, 7, 9, 4, 7, 6, 4, 2, 2, 0, 4, 8, 4, 2, 5, 7, 2, 9, 9, 8, 8, 1,\n",
      "        4, 3, 7, 3, 5, 6, 9, 3, 6, 4, 3, 4, 7, 9, 3, 3, 0, 6, 4, 3, 5, 1, 9, 6,\n",
      "        2, 2, 1, 0, 6, 7, 4, 3, 1, 4, 4, 2, 2, 5, 4, 5, 7, 0, 3, 0, 8, 4, 5, 7,\n",
      "        9, 0, 9, 9, 9, 4, 8, 3, 3, 6, 5, 5, 3, 2, 8, 1, 4, 3, 4, 2, 7, 8, 2, 0,\n",
      "        9, 6, 8, 7, 4, 3, 2, 0, 2, 0, 3, 2, 4, 9, 2, 5, 9, 6, 0, 6, 0, 7, 2, 2,\n",
      "        1, 7, 5, 9, 6, 8, 6, 4])\n",
      "Predicted labels: tensor([9, 5, 0, 9, 1, 4, 0, 6, 4, 4, 6, 0, 9, 9, 5, 2, 6, 9, 8, 8, 9, 9, 6, 8,\n",
      "        6, 9, 0, 9, 6, 6, 9, 9, 8, 0, 6, 6, 9, 3, 8, 9, 8, 0, 6, 8, 6, 6, 5, 9,\n",
      "        8, 6, 8, 0, 6, 2, 8, 0, 9, 6, 0, 6, 5, 5, 6, 5, 6, 0, 5, 8, 8, 6, 7, 8,\n",
      "        9, 5, 5, 9, 9, 6, 0, 4, 9, 5, 6, 6, 6, 9, 8, 8, 3, 6, 6, 9, 6, 8, 6, 8,\n",
      "        9, 6, 8, 9, 6, 5, 9, 0, 6, 0, 0, 4, 8, 5, 9, 5, 0, 6, 0, 0, 3, 1, 5, 9,\n",
      "        7, 5, 6, 0, 6, 8, 9, 6], device='cuda:0')\n"
     ]
    }
   ],
   "source": [
    "batch = next(iter(dataloader))\n",
    "print('True labels', batch['label'])\n",
    "preds = pretrained_model(batch['image'].to(device))\n",
    "pred_labels = torch.argmax(preds, dim=-1)\n",
    "print('Predicted labels:', pred_labels)"
   ]
  },
  {
   "cell_type": "code",
   "execution_count": null,
   "id": "21060eb8-3900-470f-8a6b-6afee365b507",
   "metadata": {},
   "outputs": [
    {
     "name": "stderr",
     "output_type": "stream",
     "text": [
      "Reusing dataset cifar10 (/root/.cache/huggingface/datasets/cifar10/plain_text/1.0.0/447d6ec4733dddd1ce3bb577c7166b986eaa4c538dcd9e805ba61f35674a9de4)\n",
      "Loading cached shuffled indices for dataset at /root/.cache/huggingface/datasets/cifar10/plain_text/1.0.0/447d6ec4733dddd1ce3bb577c7166b986eaa4c538dcd9e805ba61f35674a9de4/cache-16b9e105e7ead8c5.arrow\n"
     ]
    },
    {
     "data": {
      "application/vnd.jupyter.widget-view+json": {
       "model_id": "b57a8acd413e4be3acd2a01b66ca325a",
       "version_major": 2,
       "version_minor": 0
      },
      "text/plain": [
       "  0%|          | 0/391 [00:00<?, ?it/s]"
      ]
     },
     "metadata": {},
     "output_type": "display_data"
    },
    {
     "name": "stdout",
     "output_type": "stream",
     "text": [
      "Test accuracy: 20.19%\n"
     ]
    }
   ],
   "source": [
    "test_dataloader = get_cifar10_dl(batch_size=128, split='train')\n",
    "correct = 0\n",
    "total = 0\n",
    "with torch.no_grad():\n",
    "    for batch in tqdm(test_dataloader):\n",
    "        data, labels = batch.values() # TODO fix this in data eg\n",
    "        data, labels = data.to(device), labels.to(device) # Move the data to GPU for faster execution.\n",
    "        y = pretrained_model(data) # Forward pass\n",
    "        predictions = torch.argmax(y, dim=1) # The model has ten outputs, one for each digit. Here we take the index with the highest output\n",
    "        correct += torch.sum((predictions == labels).float())\n",
    "        total += labels.shape[0]\n",
    "\n",
    "print(f'Test accuracy: {correct/total * 100:.2f}%')"
   ]
  },
  {
   "cell_type": "code",
   "execution_count": null,
   "id": "05eb3ca5-78d6-402d-8af5-edadc36cfb4c",
   "metadata": {},
   "outputs": [
    {
     "data": {
      "application/vnd.jupyter.widget-view+json": {
       "model_id": "8cd627ef5af54aa383db2a3da9e0da68",
       "version_major": 2,
       "version_minor": 0
      },
      "text/plain": [
       "  0%|          | 0/391 [00:00<?, ?batch/s]"
      ]
     },
     "metadata": {},
     "output_type": "display_data"
    },
    {
     "data": {
      "application/vnd.jupyter.widget-view+json": {
       "model_id": "e4abab20d1434e34b74b68b20cc8a3dd",
       "version_major": 2,
       "version_minor": 0
      },
      "text/plain": [
       "  0%|          | 0/391 [00:00<?, ?batch/s]"
      ]
     },
     "metadata": {},
     "output_type": "display_data"
    },
    {
     "data": {
      "application/vnd.jupyter.widget-view+json": {
       "model_id": "cecfb9a26a874812b0b65b50cd0fa55e",
       "version_major": 2,
       "version_minor": 0
      },
      "text/plain": [
       "  0%|          | 0/391 [00:00<?, ?batch/s]"
      ]
     },
     "metadata": {},
     "output_type": "display_data"
    },
    {
     "data": {
      "text/plain": [
       "[<matplotlib.lines.Line2D>]"
      ]
     },
     "execution_count": null,
     "metadata": {},
     "output_type": "execute_result"
    },
    {
     "data": {
      "image/png": "[encoded data removed]",
      "text/plain": [
       "<Figure size 432x288 with 1 Axes>"
      ]
     },
     "metadata": {
      "needs_background": "light"
     },
     "output_type": "display_data"
    }
   ],
   "source": [
    "#|eval: false\n",
    "for p in pretrained_model.parameters():\n",
    "    p.requires_grad = True\n",
    "criterion = nn.CrossEntropyLoss()\n",
    "optimizer = torch.optim.Adam(pretrained_model.parameters(), lr=1e-4)\n",
    "losses = []\n",
    "for epoch in range(3):\n",
    "    for batch in tqdm(dataloader, unit='batch'):\n",
    "        data, target = batch['image'], batch['label']\n",
    "        data, target = data.to(device), target.to(device)\n",
    "        optimizer.zero_grad()\n",
    "        output = pretrained_model(data)\n",
    "        loss = criterion(output, target)\n",
    "        loss.backward()\n",
    "        optimizer.step()\n",
    "        losses.append(loss.item())\n",
    "plt.plot(losses)"
   ]
  },
  {
   "cell_type": "code",
   "execution_count": null,
   "id": "47fdef01-35b8-40d1-ba77-a7c66e11baba",
   "metadata": {},
   "outputs": [
    {
     "name": "stderr",
     "output_type": "stream",
     "text": [
      "Reusing dataset cifar10 (/root/.cache/huggingface/datasets/cifar10/plain_text/1.0.0/447d6ec4733dddd1ce3bb577c7166b986eaa4c538dcd9e805ba61f35674a9de4)\n",
      "Loading cached shuffled indices for dataset at /root/.cache/huggingface/datasets/cifar10/plain_text/1.0.0/447d6ec4733dddd1ce3bb577c7166b986eaa4c538dcd9e805ba61f35674a9de4/cache-16b9e105e7ead8c5.arrow\n"
     ]
    },
    {
     "data": {
      "application/vnd.jupyter.widget-view+json": {
       "model_id": "11fe4a0f3d7d47c3951ee56e23d24dab",
       "version_major": 2,
       "version_minor": 0
      },
      "text/plain": [
       "  0%|          | 0/391 [00:00<?, ?it/s]"
      ]
     },
     "metadata": {},
     "output_type": "display_data"
    },
    {
     "name": "stdout",
     "output_type": "stream",
     "text": [
      "Test accuracy: 10.06%\n"
     ]
    }
   ],
   "source": [
    "test_dataloader = get_cifar10_dl(batch_size=128, split='train')\n",
    "correct = 0\n",
    "total = 0\n",
    "with torch.no_grad():\n",
    "    for batch in tqdm(test_dataloader):\n",
    "        data, labels = batch.values() # TODO fix this in data eg\n",
    "        data, labels = data.to(device), labels.to(device) # Move the data to GPU for faster execution.\n",
    "        y = pretrained_model(data) # Forward pass\n",
    "        predictions = torch.argmax(y, dim=1) # The model has ten outputs, one for each digit. Here we take the index with the highest output\n",
    "        correct += torch.sum((predictions == labels).float())\n",
    "        total += labels.shape[0]\n",
    "\n",
    "print(f'Test accuracy: {correct/total * 100:.2f}%')"
   ]
  },
  {
   "cell_type": "code",
   "execution_count": null,
   "id": "f88033ac-53fc-4163-bc6b-d541ea872a02",
   "metadata": {},
   "outputs": [],
   "source": [
    "# TODO mention longer training loops and more memory used for unfrozen model. "
   ]
  },
  {
   "cell_type": "code",
   "execution_count": null,
   "id": "b059ef6c-9bf9-4115-a884-2017083daa63",
   "metadata": {},
   "outputs": [],
   "source": [
    "# TODO also need to explore different optimizers and regularization somewhere"
   ]
  },
  {
   "cell_type": "markdown",
   "id": "467a711b-763d-4cb9-8197-dd78c6a32949",
   "metadata": {},
   "source": [
    "Bonus notebook: Dataloaders\n",
    "\n",
    "Bonus Notebook: Fine-tuning a pretrained network with FastAI\n",
    "\n",
    "Exercise: Fine-tuning a pretrained network on a new task?\n",
    "\n",
    "Uploading models to the hub?"
   ]
  },
  {
   "cell_type": "markdown",
   "id": "4e39ed23-fa18-4314-af4e-518b09369d94",
   "metadata": {},
   "source": [
    "Page stats: Total Hits: [![HitCount](https://hits.dwyl.com/johnowhitaker/tglcourse.svg?style=flat-square&show=unique)](http://hits.dwyl.com/johnowhitaker/tglcourse)\n",
    "Page visitors:\n",
    "![visitor badge](https://page-views.glitch.me/badge?page_id=tglcourse.l03)"
   ]
  }
 ],
 "metadata": {
  "kernelspec": {
   "display_name": "Python 3 (ipykernel)",
   "language": "python",
   "name": "python3"
  }
 },
 "nbformat": 4,
 "nbformat_minor": 5
}
