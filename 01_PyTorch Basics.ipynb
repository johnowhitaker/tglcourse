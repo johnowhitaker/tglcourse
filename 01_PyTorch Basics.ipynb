{
 "cells": [
  {
   "cell_type": "code",
   "execution_count": null,
   "id": "b15498da-c97a-4596-b9c5-d910093502a0",
   "metadata": {},
   "outputs": [],
   "source": [
    "#|default_exp utils"
   ]
  },
  {
   "cell_type": "markdown",
   "id": "8e92424c-7a9b-44c8-99a3-470de25395ba",
   "metadata": {},
   "source": [
    "# Lesson 1: PyTorch Basics\n",
    "\n",
    "If you've never used pytorch..."
   ]
  },
  {
   "cell_type": "code",
   "execution_count": null,
   "id": "302688cf-56bd-4d35-92a2-4cd43b486ef6",
   "metadata": {},
   "outputs": [],
   "source": [
    "#|export\n",
    "import torch\n",
    "import torchvision\n",
    "import numpy as np\n",
    "from matplotlib import pyplot as plt\n",
    "from PIL import Image"
   ]
  },
  {
   "cell_type": "markdown",
   "id": "cdc56e39-12ec-4c49-924e-f0e690fc0cfc",
   "metadata": {},
   "source": [
    "![PyTorch Logo](data:image/png;base64,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)\n",
    "\n",
    "PyTorch is primarily a deep learning framework. It has been designed to make creating and working with deep neural networks as easy, fast and flexible as possible. Today we'll look at one of the core components that makes this possible: tensors. We'll start by looking at how to contruct and manipulate tensors, and then apply some of these ideas by representing images as tensors and seeing what we can do with that."
   ]
  },
  {
   "cell_type": "markdown",
   "id": "6bffddab-871a-4a8e-86b3-43b790e53386",
   "metadata": {},
   "source": [
    "## Creating Tensors"
   ]
  },
  {
   "cell_type": "markdown",
   "id": "04c343f1-feaa-4228-90e0-f209f4103e4c",
   "metadata": {},
   "source": [
    "We can construct a tensor directly from some common python iterables, such as list and tuple. Nested iterables can also be handled as long as the dimensions make sense."
   ]
  },
  {
   "cell_type": "code",
   "execution_count": null,
   "id": "692724da-b67a-472f-aa26-a6a19149cc60",
   "metadata": {},
   "outputs": [
    {
     "name": "stdout",
     "output_type": "stream",
     "text": [
      "Tensor a: tensor([0, 1, 2])\n",
      "Tensor b: tensor([[1.0000, 1.1000],\n",
      "        [1.2000, 1.3000]])\n",
      "Tensor c: tensor([[1., 1., 1.],\n",
      "        [1., 1., 1.]], dtype=torch.float64)\n"
     ]
    }
   ],
   "source": [
    "# tensor from a list\n",
    "a = torch.tensor([0, 1, 2])\n",
    "print(f\"Tensor a: {a}\")\n",
    "\n",
    "#tensor from a tuple of tuples\n",
    "b = ((1.0, 1.1), (1.2, 1.3))\n",
    "b = torch.tensor(b)\n",
    "print(f\"Tensor b: {b}\")\n",
    "\n",
    "# tensor from a numpy array\n",
    "c = np.ones([2, 3])\n",
    "c = torch.tensor(c)\n",
    "print(f\"Tensor c: {c}\")"
   ]
  },
  {
   "cell_type": "markdown",
   "id": "3ca960ef-d9e9-4add-bd46-fb1eea0cd0db",
   "metadata": {},
   "source": [
    "It's easy to get confused as to what 'shape' a tensor has. So debugging tip #1: when in doubt, print out the shape!"
   ]
  },
  {
   "cell_type": "code",
   "execution_count": null,
   "id": "3d65f5a2-c132-443b-be7c-ceb408eaa5ed",
   "metadata": {},
   "outputs": [
    {
     "name": "stdout",
     "output_type": "stream",
     "text": [
      "torch.Size([2, 2])\n"
     ]
    }
   ],
   "source": [
    "print(b.shape)"
   ]
  },
  {
   "cell_type": "markdown",
   "id": "1efbb6d6-9f70-47d2-bdaa-4fde3006ed37",
   "metadata": {},
   "source": [
    "There are also various constructor methods you can use. The arguments determine the size - explore changing these are see what happens to the output:"
   ]
  },
  {
   "cell_type": "code",
   "execution_count": null,
   "id": "5a6e0813-5a77-4871-aa53-c59e52cde5fc",
   "metadata": {},
   "outputs": [
    {
     "name": "stdout",
     "output_type": "stream",
     "text": [
      "Tensor x: tensor([[1., 1., 1.],\n",
      "        [1., 1., 1.],\n",
      "        [1., 1., 1.],\n",
      "        [1., 1., 1.],\n",
      "        [1., 1., 1.]])\n",
      "Tensor y: tensor([0., 0.])\n",
      "Tensor z: tensor([[[-9.6687e+05,  4.5768e-41, -9.6687e+05,  4.5768e-41,  4.4842e-44]]])\n"
     ]
    }
   ],
   "source": [
    "x = torch.ones(5, 3)\n",
    "y = torch.zeros(2)\n",
    "z = torch.empty(1, 1, 5)\n",
    "print(f\"Tensor x: {x}\")\n",
    "print(f\"Tensor y: {y}\")\n",
    "print(f\"Tensor z: {z}\")"
   ]
  },
  {
   "cell_type": "markdown",
   "id": "582bf508-b595-4a9d-bdd3-7d39cd921df4",
   "metadata": {},
   "source": [
    "Notice that `.empty()` does not return zeros, but seemingly random small numbers. Unlike `.zeros()`, which initialises the elements of the tensor with zeros, `.empty()` just allocates the memory. It is hence a bit faster if you are looking to just create a tensor.\n",
    "\n",
    "There are also constructors for random numbers:"
   ]
  },
  {
   "cell_type": "code",
   "execution_count": null,
   "id": "48364eb3-b174-4ef3-8d8f-871f9cb136f3",
   "metadata": {},
   "outputs": [
    {
     "name": "stdout",
     "output_type": "stream",
     "text": [
      "Tensor a: tensor([[0.4667, 0.2377, 0.6470]])\n",
      "Tensor b: tensor([[ 0.4998,  0.0493,  0.3098,  2.1031],\n",
      "        [-0.6930,  0.0779,  1.4219, -0.4984],\n",
      "        [ 0.4873,  2.1178,  0.7367, -0.5286]])\n"
     ]
    }
   ],
   "source": [
    "# uniform distribution\n",
    "a = torch.rand(1, 3)\n",
    "\n",
    "# normal distribution\n",
    "b = torch.randn(3, 4)\n",
    "\n",
    "print(f\"Tensor a: {a}\")\n",
    "print(f\"Tensor b: {b}\")"
   ]
  },
  {
   "cell_type": "markdown",
   "id": "ecf65c1b-5b6e-4b20-8499-d0baa8a667e5",
   "metadata": {},
   "source": [
    "**THINK**: What's the difference? If you're curious, use `plt.hist(torch.randn(100))` to view the distribution.\n",
    "\n",
    "There are also constructors that allow us to construct a tensor according to the above constructors, but with dimensions equal to another tensor:"
   ]
  },
  {
   "cell_type": "code",
   "execution_count": null,
   "id": "2522d0ad-9308-4be1-b811-cd1142c4b0a6",
   "metadata": {},
   "outputs": [
    {
     "name": "stdout",
     "output_type": "stream",
     "text": [
      "Tensor c: tensor([[0., 0., 0.]])\n",
      "Tensor d: tensor([[0.1912, 0.0762, 0.2309]])\n"
     ]
    }
   ],
   "source": [
    "c = torch.zeros_like(a)\n",
    "d = torch.rand_like(c)\n",
    "print(f\"Tensor c: {c}\")\n",
    "print(f\"Tensor d: {d}\")"
   ]
  },
  {
   "cell_type": "markdown",
   "id": "f84bca95-17c9-4579-a450-1c94442344a2",
   "metadata": {},
   "source": [
    "Finally,  `.arange()` and `.linspace()` behave how you would expect them to if you are familar with numpy."
   ]
  },
  {
   "cell_type": "code",
   "execution_count": null,
   "id": "3b22c242-9302-4e6e-a86b-30d76bff0f5f",
   "metadata": {},
   "outputs": [
    {
     "name": "stdout",
     "output_type": "stream",
     "text": [
      "Tensor a: tensor([0, 1, 2, 3, 4, 5, 6, 7, 8, 9])\n",
      "\n",
      "Tensor b: tensor([0.0000, 0.5000, 1.0000, 1.5000, 2.0000, 2.5000, 3.0000, 3.5000, 4.0000,\n",
      "        4.5000, 5.0000])\n",
      "\n"
     ]
    }
   ],
   "source": [
    "a = torch.arange(0, 10, step=1) # Equivalent to np.arange(0, 10, step=1)\n",
    "b = torch.linspace(0, 5, steps=11) # np.linspace(0, 5, num=11)\n",
    "\n",
    "print(f\"Tensor a: {a}\\n\")\n",
    "print(f\"Tensor b: {b}\\n\")"
   ]
  },
  {
   "cell_type": "markdown",
   "id": "a06bf158-644a-449d-ad4a-7034fe607bae",
   "metadata": {},
   "source": [
    "## Tensor Operations\n"
   ]
  },
  {
   "cell_type": "markdown",
   "id": "1a0b727f-884b-4305-8adf-842270c46802",
   "metadata": {},
   "source": [
    "We can perform operations on tensors using methods under torch.. However, in PyTorch most common Python operators are overridden, so we can use those instead. The common standard arithmetic operators (+, -, *, /, and **) have all been lifted to elementwise operations."
   ]
  },
  {
   "cell_type": "code",
   "execution_count": null,
   "id": "d720768e-c6a4-4d29-bb74-bc2ada89e029",
   "metadata": {},
   "outputs": [
    {
     "name": "stdout",
     "output_type": "stream",
     "text": [
      "Addition via torch.add: tensor([ 2,  4,  7, 12])\n",
      "Addition using \"+\": tensor([ 2,  4,  7, 12])\n",
      "Some other operations:\n"
     ]
    },
    {
     "data": {
      "text/plain": [
       "(tensor([ 2,  4,  7, 12]),\n",
       " tensor([0, 0, 1, 4]),\n",
       " tensor([ 1,  4, 12, 32]),\n",
       " tensor([1.0000, 1.0000, 1.3333, 2.0000]),\n",
       " tensor([   1,    4,   64, 4096]))"
      ]
     },
     "execution_count": null,
     "metadata": {},
     "output_type": "execute_result"
    }
   ],
   "source": [
    "x = torch.tensor([1, 2, 4, 8])\n",
    "y = torch.tensor([1, 2, 3, 4])\n",
    "print('Addition via torch.add:', torch.add(x, y))\n",
    "print('Addition using \"+\":', x+y) # The same\n",
    "print('Some other operations:')\n",
    "x + y, x - y, x * y, x / y, x**y  # The ** operator is exponentiation"
   ]
  },
  {
   "cell_type": "markdown",
   "id": "0c0569bb-9dac-4dae-a95b-d7cafe6c2a9a",
   "metadata": {},
   "source": [
    "**THINK**: What does 'element-wise' mean? Inspect the outputs above."
   ]
  },
  {
   "cell_type": "markdown",
   "id": "da6117f5-03a0-49dc-ac16-a6f14a3df494",
   "metadata": {},
   "source": [
    "Tensors also have many built-in methods such as `.mean()` or `.sum()` (see the full list here: https://pytorch.org/docs/stable/tensors.html). Whenever you're working with a multi-dimensional tensor, pay attention to the dimensions and think about what result you're aiming to achieve."
   ]
  },
  {
   "cell_type": "code",
   "execution_count": null,
   "id": "5fac65be-e0b9-4d27-8ffd-b67d40da67e6",
   "metadata": {},
   "outputs": [
    {
     "name": "stdout",
     "output_type": "stream",
     "text": [
      "x:\n",
      " tensor([[0.0145, 0.3146, 0.5263],\n",
      "        [0.0637, 0.4827, 0.9685],\n",
      "        [0.5460, 0.2917, 0.4807]])\n",
      "Sum of every element of x: 3.6887564659118652\n",
      "Sum of the columns of x: tensor([0.6242, 1.0890, 1.9756])\n",
      "Sum of the rows of x: tensor([0.8554, 1.5149, 1.3185])\n"
     ]
    }
   ],
   "source": [
    "x = torch.rand(3, 3)\n",
    "print('x:\\n', x)\n",
    "print(f\"Sum of every element of x: {x.sum()}\")\n",
    "print(f\"Sum of the columns of x: {x.sum(axis=0)}\")\n",
    "print(f\"Sum of the rows of x: {x.sum(axis=1)}\")"
   ]
  },
  {
   "cell_type": "markdown",
   "id": "a11165bf-94dd-46ab-b6b3-ebf509ae863b",
   "metadata": {},
   "source": [
    "Remember we said most operations default to 'element-wise'? What if we want the matrix operation? Torch has you covered there as well. `torch.matmul()` or the `@` symbol let you do matrix multiplication. For dot multiplication, you can use torch.dot(). \n",
    "\n",
    "Transposes of 2D tensors are obtained using `torch.t()` or `Tensor.T`. Note the lack of brackets for `Tensor.T` - it is an attribute, not a method."
   ]
  },
  {
   "cell_type": "code",
   "execution_count": null,
   "id": "a2763f05-6314-4f55-9ecd-0968f26c8471",
   "metadata": {},
   "outputs": [
    {
     "name": "stdout",
     "output_type": "stream",
     "text": [
      "a.shape: torch.Size([2, 3]) b.shape: torch.Size([3, 2])\n",
      "tensor([[0.9549, 0.9102],\n",
      "        [0.9102, 1.4344]])\n"
     ]
    }
   ],
   "source": [
    "a = torch.rand(2, 3)\n",
    "b = a.T\n",
    "print('a.shape:', a.shape, 'b.shape:', b.shape)\n",
    "print(a@b) # Matrix multiplication of a 2x3 with a 3x2 matrix gives a 2x2 result."
   ]
  },
  {
   "cell_type": "markdown",
   "id": "db03fc95-839d-4a92-ac33-44ec083a4852",
   "metadata": {},
   "source": [
    "## Manipulating Tensors"
   ]
  },
  {
   "cell_type": "markdown",
   "id": "38bc2f11-a56c-497f-bd56-b66ac7c55e17",
   "metadata": {},
   "source": [
    "Beyond mathematical operations, we often want to access specific items or sets if items in a tensor, or perform operations like changing the shape of a tensor. Here are a few examples of some common tasks. These may feel simple if you're used to something like numpy, but it's worth making sure you know how to do these basic operations (or at least, you know where to find these examples again to refer to them!) since we'll use these a lot in the coming lessons. "
   ]
  },
  {
   "cell_type": "code",
   "execution_count": null,
   "id": "631eaac4-396c-4385-8153-8ffc1f981558",
   "metadata": {},
   "outputs": [
    {
     "name": "stdout",
     "output_type": "stream",
     "text": [
      "tensor([0, 1, 2, 3, 4, 5, 6, 7, 8, 9])\n",
      "tensor(9)\n",
      "tensor([1, 2])\n",
      "tensor([0, 1, 2, 3, 4, 5, 6, 7])\n"
     ]
    }
   ],
   "source": [
    "# Indexing tensors\n",
    "x = torch.arange(0, 10)\n",
    "print(x)\n",
    "print(x[-1])\n",
    "print(x[1:3]) # From index 1 up to but NOT INCLUDING index 3\n",
    "print(x[:-2])"
   ]
  },
  {
   "cell_type": "markdown",
   "id": "07ea048b-a341-46df-8121-a3e2d1034812",
   "metadata": {},
   "source": [
    "Reshaping works as long as the shapes make send. (3, 4) -> (4, 3) is fine, but (3, 4) -> (8, 2) won't work since there aren't enough elements!"
   ]
  },
  {
   "cell_type": "code",
   "execution_count": null,
   "id": "8d8f9b62-0e83-47fb-86f3-90798613e594",
   "metadata": {},
   "outputs": [
    {
     "name": "stdout",
     "output_type": "stream",
     "text": [
      "Original z (6, 2) : \n",
      " tensor([[ 0,  1],\n",
      "        [ 2,  3],\n",
      "        [ 4,  5],\n",
      "        [ 6,  7],\n",
      "        [ 8,  9],\n",
      "        [10, 11]])\n",
      "Flattened z: \n",
      " tensor([ 0,  1,  2,  3,  4,  5,  6,  7,  8,  9, 10, 11])\n",
      "Reshaped (3x4) z: \n",
      " tensor([[ 0,  1,  2,  3],\n",
      "        [ 4,  5,  6,  7],\n",
      "        [ 8,  9, 10, 11]])\n"
     ]
    }
   ],
   "source": [
    "# TODO rework example\n",
    "\n",
    "# Reshaping\n",
    "z = torch.arange(12).reshape(6, 2)\n",
    "print(f\"Original z (6, 2) : \\n {z}\")\n",
    "\n",
    "# 2D -> 1D\n",
    "z = z.flatten()\n",
    "print(f\"Flattened z: \\n {z}\")\n",
    "\n",
    "# and back to 2D\n",
    "z = z.reshape(3, 4)\n",
    "print(f\"Reshaped (3x4) z: \\n {z}\")"
   ]
  },
  {
   "cell_type": "markdown",
   "id": "f436d2b4-38ef-4f05-b024-8e6833ca5b62",
   "metadata": {},
   "source": [
    "Concatenating tensors is done with torch.cat - take a look at this examples and take note of how the dimension specified affects the output:"
   ]
  },
  {
   "cell_type": "code",
   "execution_count": null,
   "id": "c601aa52-feda-4b77-ab55-3d11481e4f88",
   "metadata": {},
   "outputs": [
    {
     "name": "stdout",
     "output_type": "stream",
     "text": [
      "Concatenated by rows: shape[6, 4] \n",
      " tensor([[ 0.,  1.,  2.,  3.],\n",
      "        [ 4.,  5.,  6.,  7.],\n",
      "        [ 8.,  9., 10., 11.],\n",
      "        [ 2.,  1.,  4.,  3.],\n",
      "        [ 1.,  2.,  3.,  4.],\n",
      "        [ 4.,  3.,  2.,  1.]])\n",
      "\n",
      " Concatenated by colums: shape[3, 8]  \n",
      " tensor([[ 0.,  1.,  2.,  3.,  2.,  1.,  4.,  3.],\n",
      "        [ 4.,  5.,  6.,  7.,  1.,  2.,  3.,  4.],\n",
      "        [ 8.,  9., 10., 11.,  4.,  3.,  2.,  1.]])\n"
     ]
    }
   ],
   "source": [
    "# Create two tensors of the same shape\n",
    "x = torch.arange(12, dtype=torch.float32).reshape((3, 4))\n",
    "y = torch.tensor([[2.0, 1, 4, 3], [1, 2, 3, 4], [4, 3, 2, 1]])\n",
    "\n",
    "\n",
    "#concatenate them along rows\n",
    "cat_rows = torch.cat((x, y), dim=0)\n",
    "\n",
    "# concatenate along columns\n",
    "cat_cols = torch.cat((x, y), dim=1)\n",
    "\n",
    "# printing outputs\n",
    "print('Concatenated by rows: shape{} \\n {}'.format(list(cat_rows.shape), cat_rows))\n",
    "print('\\n Concatenated by colums: shape{}  \\n {}'.format(list(cat_cols.shape), cat_cols))"
   ]
  },
  {
   "cell_type": "markdown",
   "id": "345afd39-94b9-48d0-9b26-018ab180e40b",
   "metadata": {},
   "source": [
    "## Squeezing Tensors\n",
    "\n",
    "When processing batches of data, you will quite often be left with singleton dimensions. e.g. [1,10] or [256, 1, 3]. This dimension can quite easily mess up your matrix operations if you don’t plan on it being there…\n",
    "\n",
    "In order to compress tensors along their singleton dimensions we can use the .`squeeze()` method. We can use the `.unsqueeze()` method to do the opposite."
   ]
  },
  {
   "cell_type": "code",
   "execution_count": null,
   "id": "e06cf169-7c3e-4275-a67b-72763a6cf0d7",
   "metadata": {},
   "outputs": [
    {
     "name": "stdout",
     "output_type": "stream",
     "text": [
      "torch.Size([1, 10])\n",
      "x[0]: tensor([ 0.7679, -1.0114,  1.2988, -0.3686,  1.2923, -1.4343,  0.8621, -0.2018,\n",
      "         0.8366, -1.2692])\n"
     ]
    }
   ],
   "source": [
    "x = torch.randn(1, 10)\n",
    "print(x.shape)\n",
    "print(f\"x[0]: {x[0]}\") # printing the zeroth element of the tensor will not give us the first number!"
   ]
  },
  {
   "cell_type": "code",
   "execution_count": null,
   "id": "2e9b494d-48ac-4b61-b9e5-57c8b69f4808",
   "metadata": {},
   "outputs": [
    {
     "name": "stdout",
     "output_type": "stream",
     "text": [
      "torch.Size([10])\n",
      "x[0]: 0.7679434418678284\n"
     ]
    }
   ],
   "source": [
    "# lets get rid of that singleton dimension and see what happens now\n",
    "x = x.squeeze(0)\n",
    "print(x.shape)\n",
    "print(f\"x[0]: {x[0]}\")"
   ]
  },
  {
   "cell_type": "code",
   "execution_count": null,
   "id": "8d1787b6-e569-4862-90e8-331b5e7c26c9",
   "metadata": {},
   "outputs": [
    {
     "name": "stdout",
     "output_type": "stream",
     "text": [
      "shape of y: torch.Size([5, 5])\n",
      "shape of y: torch.Size([5, 1, 5])\n"
     ]
    }
   ],
   "source": [
    "y = torch.randn(5, 5)\n",
    "print(f\"shape of y: {y.shape}\")\n",
    "\n",
    "# lets insert a singleton dimension\n",
    "y = y.unsqueeze(1) # Note the argument here is 1 - try 0 and 2 and make sure you get a feel for what unsqueeze does. \n",
    "print(f\"shape of y: {y.shape}\")"
   ]
  },
  {
   "cell_type": "markdown",
   "id": "faf201aa-ca63-4334-800a-f67931299cc3",
   "metadata": {},
   "source": [
    "## Images as Tensors"
   ]
  },
  {
   "cell_type": "markdown",
   "id": "bd357c5d-bcd0-4bd5-a115-c4ca4f992aff",
   "metadata": {},
   "source": [
    "TODO explanation"
   ]
  },
  {
   "cell_type": "markdown",
   "id": "0e0cd39e-9873-4b0c-863b-16a961377fdf",
   "metadata": {},
   "source": [
    "### Images as arrays of numbers"
   ]
  },
  {
   "cell_type": "code",
   "execution_count": null,
   "id": "f41d0b3c-5838-4996-8cab-bef92e8cf790",
   "metadata": {},
   "outputs": [
    {
     "data": {
      "image/png": "[encoded data removed]",
      "text/plain": [
       "<PIL.Image.Image image mode=RGB size=128x128 at 0x7F95C42313F0>"
      ]
     },
     "execution_count": null,
     "metadata": {},
     "output_type": "execute_result"
    }
   ],
   "source": [
    "im = Image.open('images/frog.png').convert('RGB').resize((128, 128))\n",
    "im"
   ]
  },
  {
   "cell_type": "code",
   "execution_count": null,
   "id": "3d568932-7e7b-407b-b3fa-cd5f67341b1b",
   "metadata": {},
   "outputs": [
    {
     "data": {
      "text/plain": [
       "(128, 128, 3)"
      ]
     },
     "execution_count": null,
     "metadata": {},
     "output_type": "execute_result"
    }
   ],
   "source": [
    "np.array(im).shape # Remove .convert('RGB') in the cell above and see how this changes"
   ]
  },
  {
   "cell_type": "markdown",
   "id": "f1f791b3-0c0f-404d-bb50-9699a2abb510",
   "metadata": {},
   "source": [
    "We'll want to do this a bunch during the course, so let's create a function to load an image using PIL and export it so that we can later access it in other notebooks:"
   ]
  },
  {
   "cell_type": "code",
   "execution_count": null,
   "id": "7b1148f1-6333-4554-9584-652944413c59",
   "metadata": {},
   "outputs": [],
   "source": [
    "#|export\n",
    "def load_image_pil(fn, size=None):\n",
    "    im = Image.open(fn).convert('RGB')\n",
    "    if size != None:\n",
    "        im = im.resize(size)\n",
    "    return im"
   ]
  },
  {
   "cell_type": "markdown",
   "id": "b61bcb76-d3f7-4af1-bf21-a66b070048c0",
   "metadata": {},
   "source": [
    "And to test that it works:"
   ]
  },
  {
   "cell_type": "code",
   "execution_count": null,
   "id": "bd7e837c-ffb7-46fc-83c4-a421d9e7c6e0",
   "metadata": {},
   "outputs": [
    {
     "data": {
      "image/png": "[encoded data removed]",
      "text/plain": [
       "<PIL.Image.Image image mode=RGB size=32x32 at 0x7F95C420B100>"
      ]
     },
     "execution_count": null,
     "metadata": {},
     "output_type": "execute_result"
    }
   ],
   "source": [
    "load_image_pil('images/frog.png', size=(32, 32))"
   ]
  },
  {
   "cell_type": "markdown",
   "id": "cc8f11d9-7320-4ca1-a367-f6695f02854c",
   "metadata": {},
   "source": [
    "### Converting to Tensors"
   ]
  },
  {
   "cell_type": "markdown",
   "id": "94298832-f9b5-47e4-827f-d2b7cd8dcde2",
   "metadata": {},
   "source": [
    "Mention torchvision.transforms.ToTensor()?"
   ]
  },
  {
   "cell_type": "code",
   "execution_count": null,
   "id": "ce3eb34d-c4a0-4343-9312-c90194b11e08",
   "metadata": {},
   "outputs": [
    {
     "data": {
      "text/plain": [
       "torch.Size([3, 128, 128])"
      ]
     },
     "execution_count": null,
     "metadata": {},
     "output_type": "execute_result"
    }
   ],
   "source": [
    "tensor_im = torch.tensor(np.array(im)).permute(2, 0, 1)/255.0\n",
    "tensor_im.shape"
   ]
  },
  {
   "cell_type": "markdown",
   "id": "c8e8d23a-b210-4ade-a632-d060e33ba7c6",
   "metadata": {},
   "source": [
    "TODO Explain order"
   ]
  },
  {
   "cell_type": "code",
   "execution_count": null,
   "id": "7a64b21b-5e69-4f83-906a-41af2d391cb0",
   "metadata": {},
   "outputs": [],
   "source": [
    "#|export\n",
    "def pil_to_tensor(im):\n",
    "    return torch.tensor(np.array(im)).permute(2, 0, 1)/255.0\n",
    "\n",
    "def tensor_to_pil(tensor_im):\n",
    "    tensor_im = tensor_im.squeeze() # In case there is a batch dimension\n",
    "    tensor_im = tensor_im.permute(1, 2, 0)\n",
    "    tensor_im = tensor_im.clip(0, 1)*255 # Note that we clip to (0, 1) \n",
    "    im_array = np.array(tensor_im).astype(np.uint8)\n",
    "    im = Image.fromarray(im_array)\n",
    "    return im"
   ]
  },
  {
   "cell_type": "markdown",
   "id": "490f1fbe-ae32-474a-8ec0-70a3b0e69e39",
   "metadata": {},
   "source": [
    "TODO docstrings, load_image_as_tensor"
   ]
  },
  {
   "cell_type": "code",
   "execution_count": null,
   "id": "388caf04-e0e7-44e1-a5ce-00dacca86cff",
   "metadata": {},
   "outputs": [],
   "source": [
    "# TODO Show cropping, accessing a specific channel, converting to BW and back\n",
    "\n",
    "# SHow plt.imshow?"
   ]
  },
  {
   "cell_type": "code",
   "execution_count": null,
   "id": "4035788c-304d-4471-bffc-35f6274a7682",
   "metadata": {},
   "outputs": [
    {
     "name": "stdout",
     "output_type": "stream",
     "text": [
      "torch.Size([3, 128, 128])\n",
      "<class 'PIL.Image.Image'>\n"
     ]
    },
    {
     "data": {
      "image/png": "[encoded data removed]",
      "text/plain": [
       "<PIL.Image.Image image mode=RGB size=128x128 at 0x7F95C4231240>"
      ]
     },
     "execution_count": null,
     "metadata": {},
     "output_type": "execute_result"
    }
   ],
   "source": [
    "im = load_image_pil('images/frog.png', size=(128, 128))\n",
    "tensor_im = pil_to_tensor(im)\n",
    "print(tensor_im.shape)\n",
    "im_out = tensor_to_pil(tensor_im)\n",
    "print(type(im_out))\n",
    "im_out"
   ]
  },
  {
   "cell_type": "markdown",
   "id": "5c78e249-6074-4b2a-a735-430139254e78",
   "metadata": {},
   "source": [
    "### Exercise: Least Average Image\n",
    "Given a set of images, for each pixel find the furthest from the mean.\n",
    "Result: a pretty cool looking image with textures etc from the different inputs\n",
    "\n",
    "Code hints and solution hidden \\."
   ]
  },
  {
   "cell_type": "code",
   "execution_count": null,
   "id": "bc7c61f5-25a9-4009-bf94-76ccd0f25f93",
   "metadata": {},
   "outputs": [],
   "source": [
    "# TODO introduce torchvision here maybe?"
   ]
  },
  {
   "cell_type": "code",
   "execution_count": null,
   "id": "613f5004-45fd-4a7f-b348-ce5d41dc5cba",
   "metadata": {},
   "outputs": [],
   "source": []
  }
 ],
 "metadata": {
  "kernelspec": {
   "display_name": "Python 3 (ipykernel)",
   "language": "python",
   "name": "python3"
  }
 },
 "nbformat": 4,
 "nbformat_minor": 5
}
