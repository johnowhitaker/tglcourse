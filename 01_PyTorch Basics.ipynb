{
 "cells": [
  {
   "cell_type": "markdown",
   "id": "8e92424c-7a9b-44c8-99a3-470de25395ba",
   "metadata": {},
   "source": [
    "# Lesson 1: PyTorch Basics\n",
    "\n",
    "If you've never used pytorch..."
   ]
  },
  {
   "cell_type": "code",
   "execution_count": null,
   "id": "692724da-b67a-472f-aa26-a6a19149cc60",
   "metadata": {},
   "outputs": [
    {
     "name": "stdout",
     "output_type": "stream",
     "text": [
      "Demo of making tensors\n"
     ]
    }
   ],
   "source": [
    "print('Demo of making tensors')"
   ]
  },
  {
   "cell_type": "markdown",
   "id": "5c78e249-6074-4b2a-a735-430139254e78",
   "metadata": {},
   "source": [
    "- Creating and manipulating tensors\n",
    "- Working with images (introduce pil_to_tensor and tensor_to_pil)\n",
    "- Batches, torchvision transforms\n",
    "\n",
    "### Exercise: Least Average Image\n",
    "Given a set of images, for each pixel find the furthest from the mean.\n",
    "Result: a pretty cool looking image with textures etc from the different inputs\n",
    "\n",
    "Code hints and solution hidden \\.\n",
    "\n",
    "\n",
    "### BONUS: Exporting functions for later use\n",
    "\n",
    "Explain NBDEV, export the pil_to_tensor, tensor_to_pil and maybe a show_grid function to utils (scrap the idea of core)"
   ]
  },
  {
   "cell_type": "code",
   "execution_count": null,
   "id": "2be45b38-d42a-46d7-90d2-01e003a3e603",
   "metadata": {},
   "outputs": [],
   "source": []
  }
 ],
 "metadata": {
  "kernelspec": {
   "display_name": "Python 3 (ipykernel)",
   "language": "python",
   "name": "python3"
  }
 },
 "nbformat": 4,
 "nbformat_minor": 5
}
