{
 "cells": [
  {
   "cell_type": "markdown",
   "id": "8e92424c-7a9b-44c8-99a3-470de25395ba",
   "metadata": {},
   "source": [
    "# Lesson 1: PyTorch Basics\n",
    "\n",
    "If you've never used pytorch..."
   ]
  },
  {
   "cell_type": "code",
   "execution_count": null,
   "id": "692724da-b67a-472f-aa26-a6a19149cc60",
   "metadata": {},
   "outputs": [
    {
     "name": "stdout",
     "output_type": "stream",
     "text": [
      "Demo of making tensors\n"
     ]
    }
   ],
   "source": [
    "print('Demo of making tensors')"
   ]
  }
 ],
 "metadata": {
  "kernelspec": {
   "display_name": "Python 3 (ipykernel)",
   "language": "python",
   "name": "python3"
  }
 },
 "nbformat": 4,
 "nbformat_minor": 5
}
