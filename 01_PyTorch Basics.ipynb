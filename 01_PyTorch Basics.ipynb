{
 "cells": [
  {
   "cell_type": "markdown",
   "id": "8e92424c-7a9b-44c8-99a3-470de25395ba",
   "metadata": {},
   "source": [
    "# Lesson 1: PyTorch Basics\n",
    "\n",
    "If you've never used pytorch..."
   ]
  },
  {
   "cell_type": "code",
   "execution_count": 1,
   "id": "692724da-b67a-472f-aa26-a6a19149cc60",
   "metadata": {},
   "outputs": [
    {
     "name": "stdout",
     "output_type": "stream",
     "text": [
      "Demo of making tensors\n"
     ]
    }
   ],
   "source": [
    "print('Demo of making tensors')"
   ]
  }
 ],
 "metadata": {
  "kernelspec": {
   "display_name": "Python 3 (ipykernel)",
   "language": "python",
   "name": "python3"
  },
  "language_info": {
   "codemirror_mode": {
    "name": "ipython",
    "version": 3
   },
   "file_extension": ".py",
   "mimetype": "text/x-python",
   "name": "python",
   "nbconvert_exporter": "python",
   "pygments_lexer": "ipython3",
   "version": "3.10.4"
  }
 },
 "nbformat": 4,
 "nbformat_minor": 5
}
