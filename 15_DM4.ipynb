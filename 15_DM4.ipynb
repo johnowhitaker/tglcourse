{
 "cells": [
  {
   "cell_type": "markdown",
   "id": "7c5468c3-5505-46b8-9d8e-9922753cbcea",
   "metadata": {},
   "source": [
    "# Lesson 15: Diffusion for Audio"
   ]
  },
  {
   "cell_type": "markdown",
   "id": "0113479e-2a00-44df-9230-929ecfe60188",
   "metadata": {},
   "source": [
    "\n",
    "Class conditioned birdcalls\n"
   ]
  },
  {
   "cell_type": "code",
   "execution_count": null,
   "id": "237c0b0d-d826-440c-878f-d0ffd5e9db37",
   "metadata": {},
   "outputs": [],
   "source": []
  }
 ],
 "metadata": {
  "kernelspec": {
   "display_name": "Python 3 (ipykernel)",
   "language": "python",
   "name": "python3"
  }
 },
 "nbformat": 4,
 "nbformat_minor": 5
}
