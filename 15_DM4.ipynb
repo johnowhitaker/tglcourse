{
 "cells": [
  {
   "cell_type": "markdown",
   "id": "7c5468c3-5505-46b8-9d8e-9922753cbcea",
   "metadata": {},
   "source": [
    "# Lesson 15: Diffusion for Audio"
   ]
  },
  {
   "cell_type": "markdown",
   "id": "0113479e-2a00-44df-9230-929ecfe60188",
   "metadata": {},
   "source": [
    "\n",
    "Class conditioned birdcalls\n"
   ]
  },
  {
   "cell_type": "markdown",
   "id": "89d063a0-7793-4247-b30c-f90f841def11",
   "metadata": {},
   "source": [
    "Page stats: Total Hits: [![HitCount](https://hits.dwyl.com/johnowhitaker/tglcourse.svg?style=flat-square&show=unique)](http://hits.dwyl.com/johnowhitaker/tglcourse)\n",
    "Page visitors:\n",
    "![visitor badge](https://page-views.glitch.me/badge?page_id=tglcourse.l15)"
   ]
  },
  {
   "cell_type": "code",
   "execution_count": null,
   "id": "52ccdc2e-21c3-434e-a249-4ced368ab30a",
   "metadata": {},
   "outputs": [],
   "source": []
  }
 ],
 "metadata": {
  "kernelspec": {
   "display_name": "Python 3 (ipykernel)",
   "language": "python",
   "name": "python3"
  }
 },
 "nbformat": 4,
 "nbformat_minor": 5
}
