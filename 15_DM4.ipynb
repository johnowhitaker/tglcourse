{
 "cells": [
  {
   "cell_type": "markdown",
   "id": "7c5468c3-5505-46b8-9d8e-9922753cbcea",
   "metadata": {},
   "source": [
    "# Lesson 15: Diffusion for Audio"
   ]
  },
  {
   "cell_type": "markdown",
   "id": "0113479e-2a00-44df-9230-929ecfe60188",
   "metadata": {},
   "source": [
    "## The Plan\n",
    "\n",
    "- Diffusion for other modalities, \n",
    "- Class-conditioned Birdcall Generation\n",
    "\n",
    "\n"
   ]
  },
  {
   "cell_type": "code",
   "execution_count": null,
   "id": "237c0b0d-d826-440c-878f-d0ffd5e9db37",
   "metadata": {},
   "outputs": [],
   "source": []
  }
 ],
 "metadata": {
  "kernelspec": {
   "display_name": "Python 3 (ipykernel)",
   "language": "python",
   "name": "python3"
  },
  "language_info": {
   "codemirror_mode": {
    "name": "ipython",
    "version": 3
   },
   "file_extension": ".py",
   "mimetype": "text/x-python",
   "name": "python",
   "nbconvert_exporter": "python",
   "pygments_lexer": "ipython3",
   "version": "3.9.13"
  }
 },
 "nbformat": 4,
 "nbformat_minor": 5
}
