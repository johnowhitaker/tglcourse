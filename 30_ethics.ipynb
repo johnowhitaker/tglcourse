{
 "cells": [
  {
   "cell_type": "markdown",
   "id": "3c05dc87-c316-4f0a-861f-d06226601256",
   "metadata": {},
   "source": [
    "# Ethics in Generative Modelling"
   ]
  },
  {
   "cell_type": "markdown",
   "id": "e780b6ae-1cf5-41fb-baec-b6ac30695003",
   "metadata": {},
   "source": [
    "Hopefully find some people for good discussions here :)"
   ]
  },
  {
   "cell_type": "code",
   "execution_count": null,
   "id": "3bf94c5a-7b85-46f2-99cb-4a027e0fab82",
   "metadata": {},
   "outputs": [],
   "source": []
  }
 ],
 "metadata": {
  "kernelspec": {
   "display_name": "Python 3 (ipykernel)",
   "language": "python",
   "name": "python3"
  },
  "language_info": {
   "codemirror_mode": {
    "name": "ipython",
    "version": 3
   },
   "file_extension": ".py",
   "mimetype": "text/x-python",
   "name": "python",
   "nbconvert_exporter": "python",
   "pygments_lexer": "ipython3",
   "version": "3.10.4"
  }
 },
 "nbformat": 4,
 "nbformat_minor": 5
}
