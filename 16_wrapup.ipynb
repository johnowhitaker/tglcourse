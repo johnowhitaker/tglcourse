{
 "cells": [
  {
   "cell_type": "markdown",
   "id": "87e6b821-da09-4698-a56c-aabb3017dfa0",
   "metadata": {},
   "source": [
    "# Lesson 16: The Next Generation"
   ]
  },
  {
   "cell_type": "markdown",
   "id": "89b0279e-405a-4980-b6f5-6e2a79fb513d",
   "metadata": {},
   "source": [
    "Talk about finding your path, next steps, other directions\n",
    "\n"
   ]
  },
  {
   "cell_type": "markdown",
   "id": "6289d397-9698-426b-8b2f-2721c8ab64cc",
   "metadata": {},
   "source": [
    "Page stats: Total Hits: [![HitCount](https://hits.dwyl.com/johnowhitaker/tglcourse.svg?style=flat-square&show=unique)](http://hits.dwyl.com/johnowhitaker/tglcourse)\n",
    "Page visitors:\n",
    "![visitor badge](https://page-views.glitch.me/badge?page_id=tglcourse.l16)"
   ]
  }
 ],
 "metadata": {
  "kernelspec": {
   "display_name": "Python 3 (ipykernel)",
   "language": "python",
   "name": "python3"
  }
 },
 "nbformat": 4,
 "nbformat_minor": 5
}
