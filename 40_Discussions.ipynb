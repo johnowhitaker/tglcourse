{
 "cells": [
  {
   "cell_type": "markdown",
   "id": "ed54c7d8-541d-4601-9668-edad523cc090",
   "metadata": {},
   "source": [
    "# Discussions"
   ]
  },
  {
   "cell_type": "markdown",
   "id": "beeeb34a-0dd0-4257-aa12-05dabafcbf5b",
   "metadata": {},
   "source": [
    "## Interviews with cool people go here :)"
   ]
  },
  {
   "cell_type": "code",
   "execution_count": null,
   "id": "5185b6ea-9115-4ca8-b220-b400981dcb98",
   "metadata": {},
   "outputs": [],
   "source": []
  }
 ],
 "metadata": {
  "kernelspec": {
   "display_name": "Python 3 (ipykernel)",
   "language": "python",
   "name": "python3"
  }
 },
 "nbformat": 4,
 "nbformat_minor": 5
}
