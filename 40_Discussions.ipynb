{
 "cells": [
  {
   "cell_type": "markdown",
   "id": "ed54c7d8-541d-4601-9668-edad523cc090",
   "metadata": {},
   "source": [
    "# Interviews with cool people go here"
   ]
  },
  {
   "cell_type": "code",
   "execution_count": null,
   "id": "1439a1b5-b432-4162-a2b1-7767c11dc650",
   "metadata": {},
   "outputs": [],
   "source": []
  }
 ],
 "metadata": {
  "kernelspec": {
   "display_name": "Python 3 (ipykernel)",
   "language": "python",
   "name": "python3"
  }
 },
 "nbformat": 4,
 "nbformat_minor": 5
}
