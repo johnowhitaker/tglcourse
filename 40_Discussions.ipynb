{
 "cells": [
  {
   "cell_type": "markdown",
   "id": "ed54c7d8-541d-4601-9668-edad523cc090",
   "metadata": {},
   "source": [
    "# Discussions"
   ]
  },
  {
   "cell_type": "code",
   "execution_count": null,
   "id": "f28d325b-4660-4030-a837-25631e49b6a2",
   "metadata": {},
   "outputs": [],
   "source": [
    "#|hide\n",
    "import IPython.display as ipd"
   ]
  },
  {
   "cell_type": "markdown",
   "id": "beeeb34a-0dd0-4257-aa12-05dabafcbf5b",
   "metadata": {},
   "source": [
    "## Introduction\n",
    "\n",
    "Most of this course is me (Jonathan Whitaker) talking into my webcam. I do my best to cover the different topics we explore in this course, but you're ultimately getting a single viewpoint on all of this - not ideal! There are thousands of people with unique backgrounds and perspectives working in this space, and this discussions series is an attempt to bring in some of those different voices and ideas. If there is someone you think should be on this list, please reach out and let me know! I'm still figuring out the recording workflow, so some early interviews might have slightly sub-optimal audio - I'll add transcripts ASAP. "
   ]
  },
  {
   "cell_type": "markdown",
   "id": "db04fd16-84c7-484c-850a-5dbfe7cb8abb",
   "metadata": {},
   "source": [
    "## Apolinário Passos - ML Art Engineer @ Huggingface\n",
    "\n",
    "Apolinário is one of the best folks to follow to keep track of what is happening in this space. His 'MindsEye' tool and more recently the 'Majesty Diffusion' notebook have helped to make some of the latest AI art techniques easier to use for non-technical users. These days he works at HuggingFace in the intersection between the technical side and the artistic community. In this conversation we discuss his journey and work, how to stay on top of new releases and how to get involved."
   ]
  },
  {
   "cell_type": "code",
   "execution_count": null,
   "id": "26b1410c-e7a1-4135-bc9e-a259d8a26ac0",
   "metadata": {},
   "outputs": [
    {
     "data": {
      "text/html": [
       "\n",
       "        <iframe\n",
       "            width=\"560\"\n",
       "            height=\"315\"\n",
       "            src=\"https://www.youtube.com/embed/ki3256BIEkk\"\n",
       "            frameborder=\"0\"\n",
       "            allowfullscreen\n",
       "            \n",
       "        ></iframe>\n",
       "        "
      ],
      "text/plain": [
       "<IPython.lib.display.IFrame>"
      ]
     },
     "metadata": {},
     "output_type": "display_data"
    }
   ],
   "source": [
    "#|echo: false\n",
    "ipd.display(ipd.IFrame(src=\"https://www.youtube.com/embed/ki3256BIEkk\", width=\"560\", height=\"315\"))"
   ]
  },
  {
   "cell_type": "markdown",
   "id": "08a1898b-9197-4a7d-967e-5b258e1860fc",
   "metadata": {},
   "source": [
    "Links:\n",
    "- Apolinário's website: [multimodal.art/](https://multimodal.art/) \n",
    "- His [@multimodalart Twitter account](https://twitter.com/multimodalart)\n"
   ]
  },
  {
   "cell_type": "markdown",
   "id": "90b6df6a-39ef-4afd-a86f-c47dd450d6be",
   "metadata": {},
   "source": [
    "## @EnzymeZoo - Artist and Developer (Deforum)\n",
    "\n",
    "@EnzymeZoo is an artist and developer. In this discussion we chat about the community development work that goes into creating a tool like the [Deforum notebook](https://deforum.github.io/). We explore how that project came together, how you can get involved and @EnzymeZoos general thoughts on AI art and creativity."
   ]
  },
  {
   "cell_type": "code",
   "execution_count": null,
   "id": "fb8d0476-faed-448d-bdc9-72428c998e66",
   "metadata": {},
   "outputs": [
    {
     "data": {
      "text/html": [
       "\n",
       "        <iframe\n",
       "            width=\"560\"\n",
       "            height=\"315\"\n",
       "            src=\"https://www.youtube.com/embed/6tMLIxlE_6I\"\n",
       "            frameborder=\"0\"\n",
       "            allowfullscreen\n",
       "            \n",
       "        ></iframe>\n",
       "        "
      ],
      "text/plain": [
       "<IPython.lib.display.IFrame>"
      ]
     },
     "metadata": {},
     "output_type": "display_data"
    }
   ],
   "source": [
    "#|echo: false\n",
    "ipd.display(ipd.IFrame(src=\"https://www.youtube.com/embed/6tMLIxlE_6I\", width=\"560\", height=\"315\"))"
   ]
  },
  {
   "cell_type": "markdown",
   "id": "79f8a55d-0b0c-46c9-bc56-e293a2f45c96",
   "metadata": {},
   "source": [
    "Links:\n",
    "- [Deforum Discord](https://discord.gg/deforum) (user discord, but from there you can find the developer group as well)\n",
    "- [Jax diffusion](https://colab.research.google.com/github/huemin-art/jax-guided-diffusion/blob/v2.7/Huemin_Jax_Diffusion_2_7.ipynb) notebook\n",
    "- [Disco Diffusion](https://colab.research.google.com/github/alembics/disco-diffusion/blob/main/Disco_Diffusion.ipynb) notebook\n",
    "- List of tools by @pharmapsychotic which has many more notebooks and guides: https://pharmapsychotic.com/tools.html\n",
    "- An artist making very cool animations with Deforum that @EnzymeZoo shared: [@Infinite Vibes](https://twitter.com/Infinite__Vibes)\n",
    "- More [creations using deforum on Twitter](https://twitter.com/search?q=%23DeforumDiffusion&src=typeahead_click)\n",
    "\n",
    "After we stopped recording @EnzymeZoo also asked that I mention/thank Stability AI. The release of Stable Diffusion was the catalyst for Deforum springing into existence, and they have since started supporting some of the developers behind this and other notebooks. "
   ]
  },
  {
   "cell_type": "markdown",
   "id": "0b3f2054-b768-40d8-897b-4eca408ec9dc",
   "metadata": {},
   "source": [
    "## Teodora Szasz\n",
    "\n",
    "Teodora works at the University of Chicago helping researchers from different departments incorporate deep learning into their work. She also runs workshops on topics like AI Art and creative coding! In this discussion we chat about her background and research, then zero in on her research into representation in media and how generative models might help create stories with characters that more people can identify with."
   ]
  },
  {
   "cell_type": "code",
   "execution_count": null,
   "id": "2a0c3a82-8f0d-4ae9-852f-cf7cfd51e775",
   "metadata": {},
   "outputs": [
    {
     "data": {
      "text/html": [
       "\n",
       "        <iframe\n",
       "            width=\"560\"\n",
       "            height=\"315\"\n",
       "            src=\"https://www.youtube.com/embed/g-zzeJzXOi8\"\n",
       "            frameborder=\"0\"\n",
       "            allowfullscreen\n",
       "            \n",
       "        ></iframe>\n",
       "        "
      ],
      "text/plain": [
       "<IPython.lib.display.IFrame>"
      ]
     },
     "metadata": {},
     "output_type": "display_data"
    }
   ],
   "source": [
    "#|echo: false\n",
    "ipd.display(ipd.IFrame(src=\"https://www.youtube.com/embed/g-zzeJzXOi8\", width=\"560\", height=\"315\"))"
   ]
  },
  {
   "cell_type": "markdown",
   "id": "cf692520-b523-4817-bb4c-4d896f716f95",
   "metadata": {},
   "source": [
    "Links:\n",
    "- A [video](https://www.youtube.com/embed/UWISNkpHjbY) on the childrens book project\n",
    "- Toedora's Twitter [@TeodoraSzasz](https://twitter.com/TeodoraSzasz)\n",
    "- https://github.com/joojs/fairface"
   ]
  },
  {
   "cell_type": "markdown",
   "id": "c4059934-c8f9-4ef9-80ed-d04bd09fbaa4",
   "metadata": {},
   "source": [
    "Page stats: Total Hits: [![HitCount](https://hits.dwyl.com/johnowhitaker/tglcourse.svg?style=flat-square&show=unique)](http://hits.dwyl.com/johnowhitaker/tglcourse)\n",
    "Page visitors:\n",
    "![visitor badge](https://page-views.glitch.me/badge?page_id=tglcourse.discussions)"
   ]
  }
 ],
 "metadata": {
  "kernelspec": {
   "display_name": "Python 3 (ipykernel)",
   "language": "python",
   "name": "python3"
  }
 },
 "nbformat": 4,
 "nbformat_minor": 5
}
