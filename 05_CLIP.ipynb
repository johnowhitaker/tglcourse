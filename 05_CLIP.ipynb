{
 "cells": [
  {
   "cell_type": "markdown",
   "id": "c751f886-c89a-4d2d-b176-807620f754e0",
   "metadata": {},
   "source": [
    "# Lesson 5: Exploring Multiple Modalities with CLIP"
   ]
  },
  {
   "cell_type": "markdown",
   "id": "becc9d57-4105-46aa-a109-f9448278ab0b",
   "metadata": {},
   "source": [
    "CLIP:\n",
    "- concepts\n",
    "- embedding text and images\n",
    "- measuring similarity\n",
    "- Use as a loss (imstack demo)\n",
    "- Need for transformations\n",
    "- export some functions for later\n",
    "- CLOOB"
   ]
  },
  {
   "cell_type": "code",
   "execution_count": null,
   "id": "b2f4ec36-1119-42d6-83e2-8c25f1118a11",
   "metadata": {},
   "outputs": [],
   "source": []
  }
 ],
 "metadata": {
  "kernelspec": {
   "display_name": "Python 3 (ipykernel)",
   "language": "python",
   "name": "python3"
  },
  "language_info": {
   "codemirror_mode": {
    "name": "ipython",
    "version": 3
   },
   "file_extension": ".py",
   "mimetype": "text/x-python",
   "name": "python",
   "nbconvert_exporter": "python",
   "pygments_lexer": "ipython3",
   "version": "3.10.4"
  }
 },
 "nbformat": 4,
 "nbformat_minor": 5
}
