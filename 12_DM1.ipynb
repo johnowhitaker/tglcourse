{
 "cells": [
  {
   "cell_type": "raw",
   "id": "d280d497-85d2-432a-98a3-4794e9186119",
   "metadata": {},
   "source": [
    "---\n",
    "execute:\n",
    "  eval: false\n",
    "skip_exec: true\n",
    "skip_showdoc: true\n",
    "---"
   ]
  },
  {
   "cell_type": "code",
   "execution_count": null,
   "id": "fd211d64",
   "metadata": {},
   "outputs": [],
   "source": [
    "#|hide\n",
    "import IPython.display as ipd"
   ]
  },
  {
   "cell_type": "markdown",
   "id": "6cf04b2c",
   "metadata": {},
   "source": [
    "# An Introduction to Diffusion Models"
   ]
  },
  {
   "cell_type": "markdown",
   "id": "01c5a192",
   "metadata": {},
   "source": [
    "The next 3 lessons are a collaboration with Hugging Face and form the [Hugging Face Diffusion Models Course](https://github.com/huggingface/diffusion-models-class/tree/main/unit1). You can view the introduction to each Unit (lesson) here or on [GitHub](https://github.com/huggingface/diffusion-models-class/tree/main/unit1) and the links to the notebooks load them from the Hugging Face repository so that they're always up-to-date. In this lesson, you will learn the basics of how diffusion models work and how to create your own using the 🤗 Diffusers library."
   ]
  },
  {
   "cell_type": "markdown",
   "id": "9463dcc5",
   "metadata": {},
   "source": [
    "## Get Started\n",
    "\n",
    "- [Sign up for the Hugging Face course](https://huggingface.us17.list-manage.com/subscribe?u=7f57e683fa28b51bfc493d048&id=ef963b4162) so that you can be notified when new material is released\n",
    "- Read through the introductory material below as well as any of the additional resources that sound interesting\n",
    "- Check out the _**Introduction to Diffusers**_  notebook below to put theory into practice with the 🤗 Diffusers library\n",
    "- Train and share your own diffusion model using the notebook or the linked training script\n",
    "- (Optional) Dive deeper with the _**Diffusion Models from Scratch**_ notebook if you're interested in seeing a minimal from-scratch implementation and exploring the different design decisions involved\n",
    "- (Optional) Check out the video below for an informal run-through the material for this unit. "
   ]
  },
  {
   "cell_type": "code",
   "execution_count": null,
   "id": "e47a5e38",
   "metadata": {},
   "outputs": [
    {
     "data": {
      "text/html": [
       "\n",
       "        <iframe\n",
       "            width=\"560\"\n",
       "            height=\"315\"\n",
       "            src=\"https://www.youtube.com/embed/09o5cv6u76c\"\n",
       "            frameborder=\"0\"\n",
       "            allowfullscreen\n",
       "            \n",
       "        ></iframe>\n",
       "        "
      ],
      "text/plain": [
       "<IPython.lib.display.IFrame>"
      ]
     },
     "metadata": {},
     "output_type": "display_data"
    }
   ],
   "source": [
    "#|echo: false\n",
    "ipd.display(ipd.IFrame(src=\"https://www.youtube.com/embed/09o5cv6u76c\", width=\"560\", height=\"315\"))"
   ]
  },
  {
   "cell_type": "markdown",
   "id": "8acbc1be",
   "metadata": {},
   "source": [
    " \n",
    "## What Are Diffusion Models?\n",
    "\n",
    "Diffusion models are a relatively recent addition to a group of algorithms known as 'generative models'. The goal of generative modeling is to learn to **generate** data, such as images or audio, given a number of training examples. A good generative model will create a **diverse** set of outputs that resemble the training data without being exact copies. How do diffusion models achieve this? Let's focus on the image generation case for illustrative purposes.\n",
    "\n",
    "<p align=\"center\">\n",
    "    <img src=\"https://user-images.githubusercontent.com/10695622/174349667-04e9e485-793b-429a-affe-096e8199ad5b.png\" width=\"800\"/>\n",
    "    <br>\n",
    "    <em> Figure from DDPM paper (https://arxiv.org/abs/2006.11239). </em>\n",
    "<p>\n",
    "\n",
    "The secret to diffusion models' success is the iterative nature of the diffusion process. Generation begins with random noise, but this is gradually refined over a number of steps until an output image emerges. At each step, the model estimates how we could go from the current input to a completely denoised version. However, since we only make a small change at every step, any errors in this estimate at the early stages (where predicting the final output is extremely difficult) can be corrected in later updates. \n",
    "\n",
    "Training the model is relatively straightforward compared to some other types of generative model. We repeatedly\n",
    "1) Load in some images from the training data\n",
    "2) Add noise, in different amounts. Remember, we want the model to do a good job estimating how to 'fix' (denoise) both extremely noisy images and images that are close to perfect.\n",
    "3) Feed the noisy versions of the inputs into the model\n",
    "4) Evaluate how well the model does at denoising these inputs\n",
    "5) Use this information to update the model weights\n",
    "\n",
    "To generate new images with a trained model, we begin with a completely random input and repeatedly feed it through the model, updating it each time by a small amount based on the model prediction. As we'll see, there are a number of sampling methods that try to streamline this process so that we can generate good images with as few steps as possible.\n",
    "\n",
    "We will show each of these steps in detail in the hands-on notebooks here in unit 1. In unit 2, we will look at how this process can be modified to add additional control over the model outputs through extra conditioning (such as a class label) or with techniques such as guidance. And units 3 and 4 will explore an extremely powerful diffusion model called Stable Diffusion, which can generate images given text descriptions.  \n",
    "\n",
    "## Hands-On Notebooks\n",
    "\n",
    "At this point, you know enough to get started with the accompanying notebooks! The two notebooks here come at the same idea in different ways. \n",
    " \n",
    "| Chapter                                     | Colab                                                                                                                                                                                               | Kaggle                                                                                                                                                                                                   | Gradient                                                                                                                                                                               | Studio Lab                                                                                                                                                                                                   |\n",
    "|:--------------------------------------------|:----------------------------------------------------------------------------------------------------------------------------------------------------------------------------------------------------|:---------------------------------------------------------------------------------------------------------------------------------------------------------------------------------------------------------|:---------------------------------------------------------------------------------------------------------------------------------------------------------------------------------------|:-------------------------------------------------------------------------------------------------------------------------------------------------------------------------------------------------------------|\n",
    "| Introduction to Diffusers                                | [![Open In Colab](https://colab.research.google.com/assets/colab-badge.svg)](https://colab.research.google.com/github/huggingface/diffusion-models-class/blob/main/unit1/01_introduction_to_diffusers.ipynb)              | [![Kaggle](https://kaggle.com/static/images/open-in-kaggle.svg)](https://kaggle.com/kernels/welcome?src=https://github.com/huggingface/diffusion-models-class/blob/main/unit1/01_introduction_to_diffusers.ipynb)              | [![Gradient](https://assets.paperspace.io/img/gradient-badge.svg)](https://console.paperspace.com/github/huggingface/diffusion-models-class/blob/main/unit1/01_introduction_to_diffusers.ipynb)              | [![Open In SageMaker Studio Lab](https://studiolab.sagemaker.aws/studiolab.svg)](https://studiolab.sagemaker.aws/import/github/huggingface/diffusion-models-class/blob/main/unit1/01_introduction_to_diffusers.ipynb)              |\n",
    "| Diffusion Models from Scratch                                | [![Open In Colab](https://colab.research.google.com/assets/colab-badge.svg)](https://colab.research.google.com/github/huggingface/diffusion-models-class/blob/main/unit1/02_diffusion_models_from_scratch.ipynb)              | [![Kaggle](https://kaggle.com/static/images/open-in-kaggle.svg)](https://kaggle.com/kernels/welcome?src=https://github.com/huggingface/diffusion-models-class/blob/main/unit1/02_diffusion_models_from_scratch.ipynb)              | [![Gradient](https://assets.paperspace.io/img/gradient-badge.svg)](https://console.paperspace.com/github/huggingface/diffusion-models-class/blob/main/unit1/02_diffusion_models_from_scratch.ipynb)              | [![Open In SageMaker Studio Lab](https://studiolab.sagemaker.aws/studiolab.svg)](https://studiolab.sagemaker.aws/import/github/huggingface/diffusion-models-class/blob/main/unit1/02_diffusion_models_from_scratch.ipynb)              |\n",
    "\n",
    "In _**Introduction to Diffusers**_, we show the different steps described above using building blocks from the diffusers library. You'll quickly see how to create, train and sample your own diffusion models on whatever data you choose. By the end of the notebook, you'll be able to read and modify the example training script to train diffusion models and share them with the world! This notebook also introduces the main exercise associated with this unit, where we will collectively attempt to figure out good 'training recipes' for diffusion models at different scales - see the next section for more info.\n",
    "\n",
    "In _**Diffusion Models from Scratch**_, we show those same steps (adding noise to data, creating a model, training and sampling) but implemented from scratch in PyTorch as simply as possible. Then we compare this 'toy example' with the diffusers version, noting how the two differ and where improvements have been made. The goal here is to gain familiarity with the different components and the design decisions that go into them so that when you look at a new implementation you can quickly identify the key ideas.\n",
    "\n",
    "## Project Time\n",
    "\n",
    "Now that you've got the basics down, have a go at training one or more diffusion models! Some suggestions are included at the end of the _**Introduction to Diffusers**_ notebook. Make sure to share your results, training recipes and findings with the community so that we can collectively figure out the best ways to train these models.\n",
    "\n",
    "## Some Additional Resources\n",
    " \n",
    "[The Annotated Diffusion Model](https://huggingface.co/blog/annotated-diffusion) is a very in-depth walk-through of the code and theory behind DDPMs with \n",
    " maths and code showing all the different components. It also links to a number of papers for further reading.\n",
    " \n",
    "Hugging Face documentation on [Unconditional Image-Generation](https://huggingface.co/docs/diffusers/training/unconditional_training) for some examples of how to train diffusion models using the official training example script, including code showing how to create your own dataset. \n",
    "\n",
    "AI Coffee Break video on Diffusion Models: https://www.youtube.com/watch?v=344w5h24-h8\n",
    "\n",
    "Yannic Kilcher Video on DDPMs: https://www.youtube.com/watch?v=W-O7AZNzbzQ\n",
    "\n",
    "Found more great resources? Let us know and we'll add them to this list."
   ]
  },
  {
   "cell_type": "markdown",
   "id": "0ad3a52f-f979-43d9-871d-1e770efc0458",
   "metadata": {},
   "source": [
    "Page stats: Total Hits: [![HitCount](https://hits.dwyl.com/johnowhitaker/tglcourse.svg?style=flat-square&show=unique)](http://hits.dwyl.com/johnowhitaker/tglcourse)\n",
    "Page visitors:\n",
    "![visitor badge](https://page-views.glitch.me/badge?page_id=tglcourse.l12)"
   ]
  }
 ],
 "metadata": {
  "kernelspec": {
   "display_name": "Python 3 (ipykernel)",
   "language": "python",
   "name": "python3"
  }
 },
 "nbformat": 4,
 "nbformat_minor": 5
}
