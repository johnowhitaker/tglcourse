{
 "cells": [
  {
   "cell_type": "markdown",
   "id": "d96a6636-7e52-4116-ba9c-68875d45ed01",
   "metadata": {},
   "source": [
    "# Intro\n",
    "\n",
    "## Useful Resources\n",
    "\n",
    "## Student Work (sharing cool demos)\n",
    "\n",
    "## Tracking Experiments\n",
    "\n",
    "## Sharing Demos\n",
    "\n",
    "## Working with Pretrained Models\n",
    "\n",
    "## Reading other people's code\n",
    "\n",
    "## Debugging Tips\n",
    "\n",
    "## ..."
   ]
  },
  {
   "cell_type": "code",
   "execution_count": null,
   "id": "4ffd4dc2-b6ba-47a3-a031-e25d40e782f4",
   "metadata": {},
   "outputs": [],
   "source": [
    "# Modern ConvNets\n",
    "# Datasets\n",
    "# Loss Functions?\n"
   ]
  },
  {
   "cell_type": "code",
   "execution_count": null,
   "id": "25053068-788b-4924-888f-8d90e73a4575",
   "metadata": {},
   "outputs": [],
   "source": []
  }
 ],
 "metadata": {
  "kernelspec": {
   "display_name": "Python 3 (ipykernel)",
   "language": "python",
   "name": "python3"
  }
 },
 "nbformat": 4,
 "nbformat_minor": 5
}
