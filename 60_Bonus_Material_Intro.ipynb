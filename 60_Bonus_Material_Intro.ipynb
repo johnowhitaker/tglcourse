{
 "cells": [
  {
   "cell_type": "markdown",
   "id": "d96a6636-7e52-4116-ba9c-68875d45ed01",
   "metadata": {},
   "source": [
    "# Bonus Material"
   ]
  },
  {
   "cell_type": "markdown",
   "id": "15072aac-c9ae-4bed-af38-e178c3084cf0",
   "metadata": {},
   "source": [
    "This section contains all the useful bits that didn't quite fit in the core course curriculum. It's a little sparse right now, but post launch there are a host of extra topics planned :)"
   ]
  }
 ],
 "metadata": {
  "kernelspec": {
   "display_name": "Python 3 (ipykernel)",
   "language": "python",
   "name": "python3"
  }
 },
 "nbformat": 4,
 "nbformat_minor": 5
}
