{
 "cells": [
  {
   "cell_type": "markdown",
   "metadata": {},
   "source": [
    "# Getting Started\n",
    "\n",
    "> Introducing 'The Generative Landscape'"
   ]
  },
  {
   "cell_type": "markdown",
   "metadata": {},
   "source": [
    "## Introduction"
   ]
  },
  {
   "cell_type": "markdown",
   "metadata": {},
   "source": [
    "Generative models are cool [no citation needed].\n",
    "\n",
    "It is important that this cool new tech be accessible. Part of that is open models and code, but that isn't much use if no-one but a select few can understand how they work. The goal of this course is to get you up to speed with the latest advancements in generative modelling, to the point where you can understand and contribute to the work being done in this area. "
   ]
  },
  {
   "cell_type": "markdown",
   "metadata": {},
   "source": [
    "## How To Navigate This Course"
   ]
  },
  {
   "cell_type": "markdown",
   "metadata": {},
   "source": [
    "This course is split up into four main components:\n",
    "- 'Lessons' has the core material that makes up the bulk of the course content. You can work through all of these in order, or skip through to topics that interest you.\n",
    "- 'Bonus Material' covers additional topics that compliment the main lessons. Setting up cloud machines, or tracking experiments - things that will make your experience working with deep learning richer and more productive. This also includes some important extra topics such as ethics in generative modelling.\n",
    "- 'Projects' outlines some recommended exercises for you to do as you proceed through the course material. These will also be used to assess participation if we decide to figure out some sort of certification (TBD). \n",
    "- 'Discussions' features podcast-style interviews with interesting people working in this field, from artists to deep learning researchers. \n",
    "\n",
    "This whole course is written as notebooks, so you can open each lesson in colab using [TODO open in colab button] to start running the code, or see [TODO make setting up in paperspace] to see how you can run the course in the cloud.\n",
    "\n",
    "The recommended way to work through the course is to start at Lesson 1. If you already have some PyTorch skills you'll be able to skim the first few lessons quite rapidly, but I still recommend taking a look and trying the exercises at the end of each notebook. Specific bonus materials and projects will get referenced from within the lessons once you get to the stage where they are relevant. Of course, you are also welcome to ignore this route and skip around wherever your interest takes you."
   ]
  },
  {
   "cell_type": "markdown",
   "metadata": {},
   "source": [
    "## The Library"
   ]
  },
  {
   "cell_type": "markdown",
   "metadata": {},
   "source": [
    "As we progress through the lessons we'll begin to build a library of useful functions and classes that will come in handy for various generative modelling tasks. Thanks to the magic of NBDEV these are automatically exported into the `tglcourse` library, which you can use in your own projects. An overview is available [here - TODO].\n",
    "\n",
    "Installing is as simple as `pip install tglcourse`. This is also the easiest way to get all of the requirements set up if you're trying to run the lesson notebooks locally."
   ]
  },
  {
   "cell_type": "markdown",
   "metadata": {},
   "source": [
    "## Live Lessons + Discussion Groups\n",
    "\n",
    "The course is designed to be explored at your own pace, but we will be running a sort of 'study group' over on Discord with weekly discussions around some of the lessons. Final details are still TBC, but I'll probably do one or more live run-throughs of the lesson notebooks and then make those recordings available alongside the lesson notebooks for those who prefer a longer-form video to keep them company as they explore the code. "
   ]
  },
  {
   "cell_type": "markdown",
   "metadata": {},
   "source": [
    "## Contributing"
   ]
  },
  {
   "cell_type": "markdown",
   "metadata": {},
   "source": [
    "This entire course/library is built using NBDev. Every page is a notebook, and the docs, library code and webpage are all created from these source notebooks. \n",
    "\n",
    "If you spot a bug or have a request for an improvement, you can open an issue on GitHub to let me know, or send a message via Discord. \n",
    "\n",
    "I'd also love to hear about any guests you think would be good to have on for the discussion series, or any extra topics you'd like to see covered."
   ]
  },
  {
   "cell_type": "markdown",
   "metadata": {},
   "source": [
    "Page stats: Total Hits: [![HitCount](https://hits.dwyl.com/johnowhitaker/tglcourse.svg?style=flat-square&show=unique)](http://hits.dwyl.com/johnowhitaker/tglcourse)\n",
    "Page visitors:\n",
    "![visitor badge](https://page-views.glitch.me/badge?page_id=tglcourse.getting_started)"
   ]
  }
 ],
 "metadata": {
  "kernelspec": {
   "display_name": "Python 3 (ipykernel)",
   "language": "python",
   "name": "python3"
  }
 },
 "nbformat": 4,
 "nbformat_minor": 4
}
