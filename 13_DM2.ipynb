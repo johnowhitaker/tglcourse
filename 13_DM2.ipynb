{
 "cells": [
  {
   "cell_type": "markdown",
   "id": "7c5468c3-5505-46b8-9d8e-9922753cbcea",
   "metadata": {},
   "source": [
    "# Lesson 13: Going Deeper with Diffusion Models: Conditioning, Guidance and Latent Diffusion"
   ]
  },
  {
   "cell_type": "code",
   "execution_count": null,
   "id": "c687a3d6-4083-4cba-8e6d-7ca79828f6c9",
   "metadata": {},
   "outputs": [],
   "source": []
  },
  {
   "cell_type": "code",
   "execution_count": null,
   "id": "237c0b0d-d826-440c-878f-d0ffd5e9db37",
   "metadata": {},
   "outputs": [],
   "source": []
  }
 ],
 "metadata": {
  "kernelspec": {
   "display_name": "Python 3 (ipykernel)",
   "language": "python",
   "name": "python3"
  }
 },
 "nbformat": 4,
 "nbformat_minor": 5
}
