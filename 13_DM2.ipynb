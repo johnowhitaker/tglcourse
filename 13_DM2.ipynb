{
 "cells": [
  {
   "cell_type": "markdown",
   "id": "7c5468c3-5505-46b8-9d8e-9922753cbcea",
   "metadata": {},
   "source": [
    "# Lesson 13: Going Deeper with Diffusion Models: Conditioning, Guidance and Latent Diffusion"
   ]
  },
  {
   "cell_type": "markdown",
   "id": "0113479e-2a00-44df-9230-929ecfe60188",
   "metadata": {},
   "source": [
    "## The Plan\n",
    "\n",
    "- Load a diffusers pipeline and generate an image\n",
    "\n",
    "- Sampling loop with a new sampler (plus DDIM explanation?)\n",
    "\n",
    "- Fine-tune on a new dataset\n",
    "\n",
    "- Guide with a loss or two (start simple, then CLIP)\n",
    "\n",
    "- Condition on a class \n",
    "\n",
    "- Classifier-free guidance\n",
    "\n",
    "- Latent Diffusion Model\n",
    "\n",
    "- Progressive Distillation\n",
    "\n",
    "\n"
   ]
  },
  {
   "cell_type": "code",
   "execution_count": null,
   "id": "237c0b0d-d826-440c-878f-d0ffd5e9db37",
   "metadata": {},
   "outputs": [],
   "source": []
  }
 ],
 "metadata": {
  "kernelspec": {
   "display_name": "Python 3 (ipykernel)",
   "language": "python",
   "name": "python3"
  }
 },
 "nbformat": 4,
 "nbformat_minor": 5
}
