{
 "cells": [
  {
   "cell_type": "markdown",
   "id": "b32abc01-b8f8-430f-944f-45304dcdd111",
   "metadata": {},
   "source": [
    "# Lesson 9: Introduction to Sequence Modelling"
   ]
  },
  {
   "cell_type": "code",
   "execution_count": null,
   "id": "a5312c67-4a43-44f3-bc2b-bd8054a1072b",
   "metadata": {},
   "outputs": [],
   "source": []
  }
 ],
 "metadata": {
  "kernelspec": {
   "display_name": "Python 3 (ipykernel)",
   "language": "python",
   "name": "python3"
  },
  "language_info": {
   "codemirror_mode": {
    "name": "ipython",
    "version": 3
   },
   "file_extension": ".py",
   "mimetype": "text/x-python",
   "name": "python",
   "nbconvert_exporter": "python",
   "pygments_lexer": "ipython3",
   "version": "3.10.4"
  }
 },
 "nbformat": 4,
 "nbformat_minor": 5
}
