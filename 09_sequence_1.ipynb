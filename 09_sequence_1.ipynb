{
 "cells": [
  {
   "cell_type": "markdown",
   "id": "b32abc01-b8f8-430f-944f-45304dcdd111",
   "metadata": {},
   "source": [
    "# Lesson 9: Introduction to Sequence Modelling"
   ]
  },
  {
   "cell_type": "markdown",
   "id": "8d00f482-958b-456a-9eed-356615e02a57",
   "metadata": {},
   "source": [
    "\n",
    "Idea\n",
    "\n",
    "RNNs\n",
    "\n",
    "Working with embeddings\n",
    "\n",
    "Language modelling \n",
    "\n",
    "Bonus: LSTMs?"
   ]
  },
  {
   "cell_type": "markdown",
   "id": "a2fbaa58-e6d4-4ea2-9d37-d9df4143542f",
   "metadata": {},
   "source": [
    "Page stats: Total Hits: [![HitCount](https://hits.dwyl.com/johnowhitaker/tglcourse.svg?style=flat-square&show=unique)](http://hits.dwyl.com/johnowhitaker/tglcourse)\n",
    "Page visitors:\n",
    "![visitor badge](https://page-views.glitch.me/badge?page_id=tglcourse.l09)"
   ]
  }
 ],
 "metadata": {
  "kernelspec": {
   "display_name": "Python 3 (ipykernel)",
   "language": "python",
   "name": "python3"
  }
 },
 "nbformat": 4,
 "nbformat_minor": 5
}
