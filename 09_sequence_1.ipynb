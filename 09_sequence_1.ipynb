{
 "cells": [
  {
   "cell_type": "raw",
   "id": "18b204ac-058f-4041-9349-33e9152655bf",
   "metadata": {},
   "source": [
    "---\n",
    "execute:\n",
    "  eval: false\n",
    "skip_exec: true\n",
    "skip_showdoc: true\n",
    "---"
   ]
  },
  {
   "cell_type": "markdown",
   "id": "b32abc01-b8f8-430f-944f-45304dcdd111",
   "metadata": {},
   "source": [
    "# Lesson 9: Introduction to Sequence Modelling"
   ]
  },
  {
   "cell_type": "markdown",
   "id": "11efb243-db58-4b98-aea8-648a091cc79b",
   "metadata": {},
   "source": [
    "Intro - lots of things come as sequences, and text is common!"
   ]
  },
  {
   "cell_type": "markdown",
   "id": "7e4ded1f-8b94-4865-901f-8ced5b332e1e",
   "metadata": {},
   "source": [
    "## Embeddings: Working With Tokens\n",
    "\n",
    "Concept of embeddings\n",
    "\n",
    "Reference https://deeplearning.neuromatch.io/tutorials/W2D5_TimeSeriesAndNaturalLanguageProcessing/student/W2D5_Tutorial1.html and maybe link Lyle's 'Embeddings Rule' video?\n"
   ]
  },
  {
   "cell_type": "code",
   "execution_count": null,
   "id": "51a8aa97-3b6f-4d81-bb98-360994facb1b",
   "metadata": {},
   "outputs": [],
   "source": [
    "import torch\n",
    "from torch import nn\n",
    "from datasets import load_dataset\n",
    "from tokenizers import Tokenizer\n",
    "from tokenizers.models import BPE\n",
    "from tokenizers.trainers import BpeTrainer\n",
    "from transformers import PreTrainedTokenizerFast"
   ]
  },
  {
   "cell_type": "markdown",
   "id": "18c15b27-4d9b-4477-a1c6-d9b4635e2df5",
   "metadata": {},
   "source": [
    "## Modelling Sequences: Language Models\n",
    "\n",
    "Explain the objective"
   ]
  },
  {
   "cell_type": "markdown",
   "id": "fedefc9c-408d-4d5f-87ba-c6627c1eab5a",
   "metadata": {},
   "source": [
    "## Tokenizing Text\n",
    "\n",
    "How do we split up text into tokens? We often talk about 'words' being the unit of text, but if we just go with a token for each word that we might encounter you'll end up with a massive (1M) vocabulary filled with mostly obscure/misspelled words. But on the other hand letters would mean using far more tokens to represent the same sentence. \n",
    "\n",
    "One solution.. explain wordpiece and co\n",
    "\n",
    "Tokenizers: https://huggingface.co/docs/tokenizers/index\n",
    "\n"
   ]
  },
  {
   "cell_type": "code",
   "execution_count": null,
   "id": "817e3eef-7297-42fa-8663-2474b6f745c2",
   "metadata": {},
   "outputs": [],
   "source": [
    "tokenizer = Tokenizer.from_pretrained(\"bert-base-uncased\")"
   ]
  },
  {
   "cell_type": "code",
   "execution_count": null,
   "id": "269a78ad-2bef-4d45-9459-8182de8160ea",
   "metadata": {},
   "outputs": [
    {
     "name": "stdout",
     "output_type": "stream",
     "text": [
      "Encoding: Encoding(num_tokens=9, attributes=[ids, type_ids, tokens, offsets, attention_mask, special_tokens_mask, overflowing])\n",
      "ids: [101, 2054, 1037, 3835, 13109, 9541, 3468, 999, 102]\n"
     ]
    }
   ],
   "source": [
    "encoding = tokenizer.encode('What a nice flooble!')\n",
    "print('Encoding:', encoding)\n",
    "\n",
    "ids = encoding.ids\n",
    "print('ids:', ids)"
   ]
  },
  {
   "cell_type": "code",
   "execution_count": null,
   "id": "ceb4e19c-0a8e-438d-960f-b5565d4593d4",
   "metadata": {},
   "outputs": [
    {
     "name": "stdout",
     "output_type": "stream",
     "text": [
      "101:\n",
      "2054:what\n",
      "1037:a\n",
      "3835:nice\n",
      "13109:fl\n",
      "9541:##oo\n",
      "3468:##ble\n",
      "999:!\n",
      "102:\n"
     ]
    }
   ],
   "source": [
    "for t in ids:\n",
    "    print(f'{t}:{tokenizer.decode([t])}')"
   ]
  },
  {
   "cell_type": "markdown",
   "id": "e3f5a4ad-6e41-49ee-859a-e10ab4806c48",
   "metadata": {},
   "source": [
    "We have special tokens for start (101), end (102), symbols like '!' (999) and separate tokens for a string like 'oo' or 'ble' if they don't occur at the start of a word. Common words get a token, uncommon ones like flooble are broken down into components. THe full vocabulary size of this tokenizer is about 30,000 tokens:"
   ]
  },
  {
   "cell_type": "code",
   "execution_count": null,
   "id": "98c058da-95dc-4dc0-8c4c-05822a0d37d5",
   "metadata": {},
   "outputs": [
    {
     "data": {
      "text/plain": [
       "30522"
      ]
     },
     "execution_count": null,
     "metadata": {},
     "output_type": "execute_result"
    }
   ],
   "source": [
    "len(tokenizer.get_vocab().items()) # The vocab size of this tokenizer"
   ]
  },
  {
   "cell_type": "markdown",
   "id": "2c1a74ea-a098-432e-b32e-9fc124207f58",
   "metadata": {},
   "source": [
    "## Creating Our Own Tokenizer\n",
    "\n",
    "Explain"
   ]
  },
  {
   "cell_type": "code",
   "execution_count": null,
   "id": "4c581b33-c92e-4525-b744-a0bba43db8c4",
   "metadata": {},
   "outputs": [
    {
     "name": "stderr",
     "output_type": "stream",
     "text": [
      "Using custom data configuration tglcourse--abc_tunes-5a89386c12e016f6\n",
      "Reusing dataset parquet (/root/.cache/huggingface/datasets/tglcourse___parquet/tglcourse--abc_tunes-5a89386c12e016f6/0.0.0/7328ef7ee03eaf3f86ae40594d46a1cec86161704e02dd19f232d81eee72ade8)\n"
     ]
    },
    {
     "data": {
      "text/plain": [
       "{'Title': \"Pat Hogan's One\",\n",
       " 'Time Signature': '2/4',\n",
       " 'L': '1/8',\n",
       " 'Key': 'Edor',\n",
       " 'Tune': 'D>D FA|dc BA|BE EF|GA/G/ FE|D>D FA|dcBA|Be Bc|d2 d2:||:eB eB|eB B>c|dA dA|dA A2|eB eB|eB B>c|dB AF|E2 E2:|'}"
      ]
     },
     "execution_count": null,
     "metadata": {},
     "output_type": "execute_result"
    }
   ],
   "source": [
    "dataset = load_dataset('tglcourse/abc_tunes', split='train').shuffle()\n",
    "dataset[0]"
   ]
  },
  {
   "cell_type": "code",
   "execution_count": null,
   "id": "4462647f-6300-4c80-8c82-2c0697ad8a2d",
   "metadata": {},
   "outputs": [
    {
     "name": "stdout",
     "output_type": "stream",
     "text": [
      "\n",
      "\n",
      "\n"
     ]
    }
   ],
   "source": [
    "vocab_size = 100 # Explore different vocab sizes\n",
    "tokenizer = Tokenizer(BPE(unk_token=\"[UNK]\"))\n",
    "trainer =BpeTrainer(special_tokens=[\"[UNK]\", \"[PAD]\"],\n",
    "                    vocab_size=vocab_size) \n",
    "tokenizer.train_from_iterator(dataset['Tune'], trainer)"
   ]
  },
  {
   "cell_type": "code",
   "execution_count": null,
   "id": "4fd291f7-e810-4a5f-be37-20bef8ea30c1",
   "metadata": {},
   "outputs": [],
   "source": [
    "tokenizer = PreTrainedTokenizerFast(tokenizer_object=tokenizer,\n",
    "                                    pad_token=\"[PAD]\",\n",
    "                                    unk_token=\"[UNK]\")\n"
   ]
  },
  {
   "cell_type": "code",
   "execution_count": null,
   "id": "aefab8a5-cc4f-4530-a0a7-71efd5a66625",
   "metadata": {},
   "outputs": [],
   "source": [
    "# TODOSee the docs for pre-tokenizer options: https://huggingface.co/docs/tokenizers/quicktour"
   ]
  },
  {
   "cell_type": "code",
   "execution_count": null,
   "id": "5a71506c-a4c1-4fc5-9262-71cb47ec4af9",
   "metadata": {},
   "outputs": [],
   "source": [
    "# ??tokenizer.train"
   ]
  },
  {
   "cell_type": "markdown",
   "id": "7c04260a-56bf-4f17-b232-2ca00780d0cb",
   "metadata": {},
   "source": [
    "Printing out the decoded string (using '#' as a separator) we ca see how the tune has turned into discrete tokens, some of thich are individual notes but many of which are combined."
   ]
  },
  {
   "cell_type": "code",
   "execution_count": null,
   "id": "682db0a7-bc07-49f8-b645-fe86e8cd3da7",
   "metadata": {},
   "outputs": [
    {
     "name": "stdout",
     "output_type": "stream",
     "text": [
      "[40, 34, 40, 4, 42, 37, 95, 71, 70, 4, 38, 37, 95, 38, 41, 4, 41, 42, 95, 43, 37, 19, 43, 19, 4, 42, 41, 95, 40, 34, 40, 4, 42, 37, 95, 71, 70, 38, 37, 95, 38, 72, 4, 38, 70, 95, 71, 22, 4, 71, 22, 30, 95, 95, 30, 72, 38, 4, 72, 38, 95, 72, 38, 4, 38, 34, 70, 95, 71, 37, 4, 71, 37, 95, 71, 37, 4, 37, 22, 95, 72, 38, 4, 72, 38, 95, 72, 38, 4, 38, 34, 70, 95, 71, 38, 4, 37, 42, 95, 41, 22, 4, 41, 22, 30, 95]\n",
      "D#>#D# #F#A#|#d#c# #B#A#|#B#E# #E#F#|#G#A#/#G#/# #F#E#|#D#>#D# #F#A#|#d#c#B#A#|#B#e# #B#c#|#d#2# #d#2#:#|#|#:#e#B# #e#B#|#e#B# #B#>#c#|#d#A# #d#A#|#d#A# #A#2#|#e#B# #e#B#|#e#B# #B#>#c#|#d#B# #A#F#|#E#2# #E#2#:#|\n"
     ]
    }
   ],
   "source": [
    "ids = tokenizer.encode(dataset[0]['Tune']) # .ids if using the Tokenizer version\n",
    "print(ids)\n",
    "decoded = '#'.join([tokenizer.decode([t]) for t in ids])\n",
    "print(decoded)"
   ]
  },
  {
   "cell_type": "code",
   "execution_count": null,
   "id": "6fca74ec-9c92-41fd-839d-899a51e98e85",
   "metadata": {},
   "outputs": [
    {
     "name": "stdout",
     "output_type": "stream",
     "text": [
      "{'q': 84, '}': 96, 'í': 107, 'e': 72, '@': 36, 't': 87, 'ó': 109, 'U': 57, 'i': 76, '6': 26, '(': 12, 'b': 69, 'º': 101, '~': 97, 'f': 73, 'v': 89, '\\t': 3, 'Q': 53, 'S': 55, '0': 20, '#': 7, '4': 24, 'Z': 62, 'ä': 104, 'T': 56, 'D': 40, '\\x08': 2, '/': 19, '9': 29, 'G': 43, 'Y': 61, ')': 13, 'A': 37, '.': 18, 'I': 45, 'J': 46, 'á': 103, 'è': 105, 'V': 58, \"'\": 11, '^': 66, 'o': 82, '¬': 100, 'm': 80, '=': 33, 'p': 83, '!': 5, '[PAD]': 1, 'd': 71, 'z': 93, 'Ú': 102, '5': 25, ':': 30, '\"': 6, '+': 15, 'M': 49, '$': 8, '<': 32, '&': 10, 'H': 44, 'N': 50, 'h': 75, 'é': 106, 'ñ': 108, 'F': 42, '*': 14, '\\\\': 64, 'l': 79, '[UNK]': 0, '2': 22, 'L': 48, 'E': 41, 'K': 47, 'a': 68, '\\xa0': 98, 'R': 54, '7': 27, 'k': 78, '3': 23, ',': 16, '[': 63, '%': 9, 'ú': 110, 'n': 81, 'w': 90, 's': 86, 'c': 70, 'P': 52, '_': 67, 'y': 92, 'X': 60, ']': 65, 'r': 85, ';': 31, 'W': 59, '-': 17, 'u': 88, '8': 28, 'x': 91, 'g': 74, '{': 94, '|': 95, 'ª': 99, '>': 34, ' ': 4, '?': 35, '1': 21, 'B': 38, 'C': 39, 'O': 51, 'j': 77}\n"
     ]
    }
   ],
   "source": [
    "print(tokenizer.get_vocab())"
   ]
  },
  {
   "cell_type": "markdown",
   "id": "0d8e8521-0df7-4f8c-a76d-b26c40982207",
   "metadata": {},
   "source": [
    "## An Embedding Layer"
   ]
  },
  {
   "cell_type": "code",
   "execution_count": null,
   "id": "9f3f667a-d852-4d6a-b863-594e61cc0ac4",
   "metadata": {},
   "outputs": [
    {
     "data": {
      "text/plain": [
       "Embedding(100, 32)"
      ]
     },
     "execution_count": null,
     "metadata": {},
     "output_type": "execute_result"
    }
   ],
   "source": [
    "emb_dim = 32\n",
    "emb_layer = nn.Embedding(vocab_size, emb_dim)\n",
    "emb_layer"
   ]
  },
  {
   "cell_type": "code",
   "execution_count": null,
   "id": "baca3e06-2111-43b7-b5e0-24340cccd365",
   "metadata": {},
   "outputs": [
    {
     "data": {
      "text/plain": [
       "torch.Size([106, 32])"
      ]
     },
     "execution_count": null,
     "metadata": {},
     "output_type": "execute_result"
    }
   ],
   "source": [
    "emb_layer(torch.tensor(ids)).shape # Passing our tokens through"
   ]
  },
  {
   "cell_type": "markdown",
   "id": "b27b432e-b24a-4514-acff-f1174ebf9e6a",
   "metadata": {},
   "source": [
    "## A simple MLP\n",
    "\n",
    "Similar to Karpathy's makemore demo (TODO link)\n",
    "\n",
    "How do we work with sequences of different lengths? Padding + truncation seem non-ideal..."
   ]
  },
  {
   "cell_type": "code",
   "execution_count": null,
   "id": "44cc6b27-714c-4602-a583-c6cb28b60791",
   "metadata": {},
   "outputs": [
    {
     "data": {
      "text/plain": [
       "torch.Size([32, 64])"
      ]
     },
     "execution_count": null,
     "metadata": {},
     "output_type": "execute_result"
    }
   ],
   "source": [
    "batch_size=32\n",
    "seq_len=64\n",
    "batch_ids = torch.randint(vocab_size, (batch_size,seq_len))\n",
    "batch_ids.shape"
   ]
  },
  {
   "cell_type": "code",
   "execution_count": null,
   "id": "c9d8fe08-b14e-4a83-9ae0-d13931bce3a5",
   "metadata": {},
   "outputs": [
    {
     "data": {
      "text/plain": [
       "torch.Size([32, 64, 32])"
      ]
     },
     "execution_count": null,
     "metadata": {},
     "output_type": "execute_result"
    }
   ],
   "source": [
    "emb_layer(batch_ids).shape"
   ]
  },
  {
   "cell_type": "code",
   "execution_count": null,
   "id": "2b1c4035-4233-400f-b93c-5100189b402d",
   "metadata": {},
   "outputs": [
    {
     "data": {
      "text/plain": [
       "torch.Size([32, 2])"
      ]
     },
     "execution_count": null,
     "metadata": {},
     "output_type": "execute_result"
    }
   ],
   "source": [
    "# A minimal model (output sizes shown\n",
    "model = nn.Sequential(\n",
    "    nn.Embedding(vocab_size, emb_dim), # (batch_size, seq_length, emb_dim)\n",
    "    nn.Flatten(), # (batch_size, seq_length*emb_dim)\n",
    "    nn.Linear(emb_dim*seq_len, 64), # (batch_size, 64)\n",
    "    nn.ReLU(), # (batch_size, 64)\n",
    "    nn.Linear(64, 2), # (batch_size, 2)\n",
    "    \n",
    ")\n",
    "model(batch_ids).shape"
   ]
  },
  {
   "cell_type": "markdown",
   "id": "00720574-aab9-404a-8538-5b282399b8bb",
   "metadata": {},
   "source": [
    "Q: What happens when word position changes?\n",
    "Q: Would this work on different length sequences?\n",
    "Q: think of more Qs"
   ]
  },
  {
   "cell_type": "markdown",
   "id": "754d3f2c-4773-4e25-b1db-12498b7cbc34",
   "metadata": {},
   "source": [
    "## Recurrent Neural Networks and LSTMs\n",
    "\n",
    "Explain the basic architecture\n",
    "\n",
    "https://pytorch.org/docs/stable/generated/torch.nn.RNN.html\n",
    "\n",
    "![an unrolled RNN](https://colah.github.io/posts/2015-08-Understanding-LSTMs/img/RNN-unrolled.png)\n",
    "\n",
    "Maybe demo?\n",
    "\n",
    "Brief hand-wave explanation of LSTMs and link ULMFIT and co for the curious\n",
    "\n",
    "Great blog by colah https://colah.github.io/posts/2015-08-Understanding-LSTMs/\n",
    "Karpathy on RNN effectiveness: http://karpathy.github.io/2015/05/21/rnn-effectiveness/\n",
    "\n"
   ]
  },
  {
   "cell_type": "code",
   "execution_count": null,
   "id": "be36c3b0-25de-499d-bf0b-06defc913e40",
   "metadata": {},
   "outputs": [
    {
     "data": {
      "text/plain": [
       "(torch.Size([5, 8, 20]), torch.Size([1, 8, 20]))"
      ]
     },
     "execution_count": null,
     "metadata": {},
     "output_type": "execute_result"
    }
   ],
   "source": [
    "# Create the RNN\n",
    "input_size = 10 # Number of features in the input (embedding dim)\n",
    "hidden_size = 20 # Number of features in the hidden state h\n",
    "num_layers = 1 # Set to 2 for a 'stacked' RNN with 2 layers\n",
    "rnn = nn.RNN(input_size, hidden_size, num_layers) # The model\n",
    "\n",
    "# Run some dummy data through\n",
    "# Create the model with batch_first=True if you'd like the batch dimension to come first\n",
    "batch_size = 8\n",
    "input_length = 5\n",
    "x = torch.randn(5, batch_size, input_size)\n",
    "h0 = torch.randn(num_layers, batch_size, hidden_size)\n",
    "output, hn = rnn(x, h0)\n",
    "\n",
    "# Check the output shapes\n",
    "output.shape, hn.shape"
   ]
  },
  {
   "cell_type": "code",
   "execution_count": null,
   "id": "ebf33b33-6c86-4384-a86f-81083c7ff7b2",
   "metadata": {},
   "outputs": [],
   "source": [
    "class MyRNNClassifier(nn.Module):\n",
    "    def __init__(self, input_size=10, hidden_size=20, num_layers=2):\n",
    "        super().__init__()\n",
    "        self.emb_layer = nn.Embedding(vocab_size, input_size)\n",
    "        self.rnn = nn.RNN(input_size, hidden_size, num_layers=num_layers)\n",
    "        self.mlp = nn.Linear(hidden_size, 2)\n",
    "        \n",
    "    def forward(self, x):\n",
    "        x = self.emb_layer(x) # TO embeddings (batch_size, seq_len, input_size)\n",
    "        net_output, h = self.rnn(x) # Through RNN (batch_size, seq_len, hidden_size)\n",
    "        averaged_output = net_output.mean(dim=1) # Take the mean of the outputs ('mean pooling')\n",
    "        result = self.mlp(averaged_output) # THrough the linear layer or MLP to get 2 outputs (assuming binary classification)\n",
    "        return result\n",
    "    \n"
   ]
  },
  {
   "cell_type": "code",
   "execution_count": null,
   "id": "210c1f5e-5116-4793-a158-cb7bbc5a2472",
   "metadata": {},
   "outputs": [
    {
     "data": {
      "text/plain": [
       "torch.Size([32, 2])"
      ]
     },
     "execution_count": null,
     "metadata": {},
     "output_type": "execute_result"
    }
   ],
   "source": [
    "net = MyRNNClassifier()\n",
    "net(batch_ids).shape"
   ]
  },
  {
   "cell_type": "code",
   "execution_count": null,
   "id": "54f897aa-527f-4d9e-b9a9-5de126544f16",
   "metadata": {},
   "outputs": [
    {
     "data": {
      "text/plain": [
       "2522"
      ]
     },
     "execution_count": null,
     "metadata": {},
     "output_type": "execute_result"
    }
   ],
   "source": [
    "sum([p.numel() for p in net.parameters()])"
   ]
  },
  {
   "cell_type": "code",
   "execution_count": null,
   "id": "1f99478a-433a-40ed-b7e1-5d7390f5b4c5",
   "metadata": {},
   "outputs": [
    {
     "data": {
      "text/plain": [
       "[torch.Size([100, 10]),\n",
       " torch.Size([20, 10]),\n",
       " torch.Size([20, 20]),\n",
       " torch.Size([20]),\n",
       " torch.Size([20]),\n",
       " torch.Size([20, 20]),\n",
       " torch.Size([20, 20]),\n",
       " torch.Size([20]),\n",
       " torch.Size([20]),\n",
       " torch.Size([2, 20]),\n",
       " torch.Size([2])]"
      ]
     },
     "execution_count": null,
     "metadata": {},
     "output_type": "execute_result"
    }
   ],
   "source": [
    "[p.shape for p in net.parameters()]"
   ]
  },
  {
   "cell_type": "code",
   "execution_count": null,
   "id": "836d9c2f-83d8-45d3-9d43-0fe004ffe548",
   "metadata": {},
   "outputs": [],
   "source": [
    "# TODO try on some data"
   ]
  },
  {
   "cell_type": "markdown",
   "id": "e073b4c1-67da-416e-a3f1-021b5ecad590",
   "metadata": {},
   "source": [
    "**LSTMs**\n",
    "\n",
    "https://colah.github.io/posts/2015-08-Understanding-LSTMs/\n",
    "\n",
    "something something memory"
   ]
  },
  {
   "cell_type": "code",
   "execution_count": null,
   "id": "d7affb6d-47c6-4b1a-9c38-29869e2a9220",
   "metadata": {},
   "outputs": [],
   "source": [
    "class MyLSTMClassifier(nn.Module):\n",
    "    def __init__(self, input_size=10, hidden_size=20, num_layers=2):\n",
    "        super().__init__()\n",
    "        self.emb_layer = nn.Embedding(vocab_size, input_size)\n",
    "        self.rnn = nn.LSTM(input_size, hidden_size, num_layers=num_layers)\n",
    "        self.mlp = nn.Linear(hidden_size, 2)\n",
    "        \n",
    "    def forward(self, x):\n",
    "        x = self.emb_layer(x) # TO embeddings (batch_size, seq_len, input_size)\n",
    "        net_output, h = self.rnn(x) # Through RNN (batch_size, seq_len, hidden_size)\n",
    "        averaged_output = net_output.mean(dim=1) # Take the mean of the outputs ('mean pooling')\n",
    "        result = self.mlp(averaged_output) # THrough the linear layer or MLP to get 2 outputs (assuming binary classification)\n",
    "        return result\n",
    "    \n"
   ]
  },
  {
   "cell_type": "code",
   "execution_count": null,
   "id": "e06d5042-f359-4a5d-96fe-9239d85cf2b9",
   "metadata": {},
   "outputs": [
    {
     "data": {
      "text/plain": [
       "torch.Size([32, 2])"
      ]
     },
     "execution_count": null,
     "metadata": {},
     "output_type": "execute_result"
    }
   ],
   "source": [
    "net = MyLSTMClassifier()\n",
    "net(batch_ids).shape"
   ]
  },
  {
   "cell_type": "code",
   "execution_count": null,
   "id": "9502b18d-7027-4d74-b8d0-f363794a6705",
   "metadata": {},
   "outputs": [
    {
     "data": {
      "text/plain": [
       "6962"
      ]
     },
     "execution_count": null,
     "metadata": {},
     "output_type": "execute_result"
    }
   ],
   "source": [
    "sum([p.numel() for p in net.parameters()])"
   ]
  },
  {
   "cell_type": "markdown",
   "id": "99b6643e-7962-4706-bd65-a80f6fb6d1e3",
   "metadata": {},
   "source": [
    "## Using Learned Representations\n",
    "\n",
    "Do review classification or something using a learned embedding combined with an RNN? Or model tunes and then classify into type/key/mode?\n",
    "\n",
    "Yeah tunes will be good. LM objective first, then re-training"
   ]
  },
  {
   "cell_type": "code",
   "execution_count": null,
   "id": "acf98bfb-057c-46c6-ae8d-6aac885888ae",
   "metadata": {},
   "outputs": [],
   "source": [
    "class LM(nn.Module):\n",
    "    def __init__(self, input_size=32, hidden_size=128, num_layers=2, vocab_size=200):\n",
    "        super().__init__()\n",
    "        self.emb_layer = nn.Embedding(vocab_size, input_size)\n",
    "        self.rnn = nn.LSTM(input_size, hidden_size, num_layers=num_layers)\n",
    "        self.mlp = nn.Linear(hidden_size, vocab_size)\n",
    "        \n",
    "    def forward(self, x):\n",
    "        x = self.emb_layer(x) # TO embeddings (batch_size, seq_len, input_size)\n",
    "        rnn_output, h = self.rnn(x) # Through RNN (batch_size, seq_len, hidden_size)\n",
    "        return self.mlp(rnn_output)\n",
    "        "
   ]
  },
  {
   "cell_type": "code",
   "execution_count": null,
   "id": "1bb5ebe9-cf90-4243-b9a4-2dda41ba242a",
   "metadata": {},
   "outputs": [
    {
     "data": {
      "text/plain": [
       "(torch.Size([1, 105]), torch.Size([1, 105, 200]), torch.Size([1, 105]))"
      ]
     },
     "execution_count": null,
     "metadata": {},
     "output_type": "execute_result"
    }
   ],
   "source": [
    "lm = LM()\n",
    "tokeized_tune = torch.tensor([tokenizer.encode(dataset[0]['Tune'])])\n",
    "x = tokeized_tune[:,:-1] # All but the last token\n",
    "y = tokeized_tune[:,1:] # All but the first token (x shifted by 1)\n",
    "x.shape, lm(x).shape, y.shape"
   ]
  },
  {
   "cell_type": "code",
   "execution_count": null,
   "id": "422fd4ad-bd76-4bd0-b2d2-6031326fea41",
   "metadata": {},
   "outputs": [
    {
     "data": {
      "text/plain": [
       "torch.Size([10, 339])"
      ]
     },
     "execution_count": null,
     "metadata": {},
     "output_type": "execute_result"
    }
   ],
   "source": [
    "torch.tensor(tokenizer(dataset['Tune'][:10], padding=True)['input_ids']).shape"
   ]
  },
  {
   "cell_type": "code",
   "execution_count": null,
   "id": "be7a5093-100e-499c-b8c7-9cafadae73a1",
   "metadata": {},
   "outputs": [
    {
     "data": {
      "text/plain": [
       "tensor(5.2998, grad_fn=<NllLossBackward0>)"
      ]
     },
     "execution_count": null,
     "metadata": {},
     "output_type": "execute_result"
    }
   ],
   "source": [
    "def lm_loss_function(model_pred, y):\n",
    "    b, n, vc = model_pred.shape\n",
    "    pred = model_pred.reshape(b*n, vc)\n",
    "    target = y.flatten()\n",
    "    return nn.functional.cross_entropy(pred, target)\n",
    "\n",
    "lm_loss_function(lm(x), y)"
   ]
  },
  {
   "cell_type": "code",
   "execution_count": null,
   "id": "b5c60405-c6e8-42be-bfca-3dafc023bf35",
   "metadata": {},
   "outputs": [],
   "source": [
    "from datasets import Dataset"
   ]
  },
  {
   "cell_type": "code",
   "execution_count": null,
   "id": "956e6561-a246-45f7-8bab-23f54e82d8bc",
   "metadata": {},
   "outputs": [
    {
     "name": "stderr",
     "output_type": "stream",
     "text": [
      "Using custom data configuration tglcourse--abc_tunes-5a89386c12e016f6\n",
      "Reusing dataset parquet (/root/.cache/huggingface/datasets/tglcourse___parquet/tglcourse--abc_tunes-5a89386c12e016f6/0.0.0/7328ef7ee03eaf3f86ae40594d46a1cec86161704e02dd19f232d81eee72ade8)\n"
     ]
    }
   ],
   "source": [
    "dataset = load_dataset('tglcourse/abc_tunes', split='train').shuffle()\n",
    "max_length = 201\n",
    "tokenized_tunes = tokenizer(dataset['Tune'], padding=True, truncation=True, max_length=max_length)['input_ids']\n",
    "lm_dataset = Dataset.from_dict({\n",
    "    'x':torch.tensor([t[:-1] for t in tokenized_tunes]),\n",
    "    'y':torch.tensor([t[1:] for t in tokenized_tunes]),\n",
    "})\n",
    "lm_dataloader = torch.utils.data.DataLoader(lm_dataset.with_format(\"torch\"), batch_size=256)"
   ]
  },
  {
   "cell_type": "code",
   "execution_count": null,
   "id": "c1363766-b32e-4108-97a1-d9df1b7e99e6",
   "metadata": {},
   "outputs": [
    {
     "data": {
      "text/plain": [
       "(torch.Size([256, 200]), torch.Size([256, 200]))"
      ]
     },
     "execution_count": null,
     "metadata": {},
     "output_type": "execute_result"
    }
   ],
   "source": [
    "batch = next(iter(lm_dataloader))\n",
    "batch['x'].shape, batch['y'].shape"
   ]
  },
  {
   "cell_type": "code",
   "execution_count": null,
   "id": "bd556f5a-8038-49e2-a486-e85e439f87a7",
   "metadata": {},
   "outputs": [],
   "source": [
    "from tqdm.notebook import tqdm"
   ]
  },
  {
   "cell_type": "code",
   "execution_count": null,
   "id": "6e84730d-41d7-4485-91e2-1b74b59855c8",
   "metadata": {},
   "outputs": [
    {
     "data": {
      "application/vnd.jupyter.widget-view+json": {
       "model_id": "2302859e510249b193f8ad0effce73f9",
       "version_major": 2,
       "version_minor": 0
      },
      "text/plain": [
       "  0%|          | 0/76 [00:00<?, ?it/s]"
      ]
     },
     "metadata": {},
     "output_type": "display_data"
    },
    {
     "data": {
      "application/vnd.jupyter.widget-view+json": {
       "model_id": "14fe1c6556e648d58841c1ca2bc3df8d",
       "version_major": 2,
       "version_minor": 0
      },
      "text/plain": [
       "  0%|          | 0/76 [00:00<?, ?it/s]"
      ]
     },
     "metadata": {},
     "output_type": "display_data"
    },
    {
     "data": {
      "application/vnd.jupyter.widget-view+json": {
       "model_id": "728efc0441bf4fceb65efd7fc82c39c7",
       "version_major": 2,
       "version_minor": 0
      },
      "text/plain": [
       "  0%|          | 0/76 [00:00<?, ?it/s]"
      ]
     },
     "metadata": {},
     "output_type": "display_data"
    },
    {
     "data": {
      "application/vnd.jupyter.widget-view+json": {
       "model_id": "a190fcb2487a4093bdbfcf354e9e9d08",
       "version_major": 2,
       "version_minor": 0
      },
      "text/plain": [
       "  0%|          | 0/76 [00:00<?, ?it/s]"
      ]
     },
     "metadata": {},
     "output_type": "display_data"
    },
    {
     "data": {
      "application/vnd.jupyter.widget-view+json": {
       "model_id": "74c9f38e211b46d6bc3aec4d8a1b25ed",
       "version_major": 2,
       "version_minor": 0
      },
      "text/plain": [
       "  0%|          | 0/76 [00:00<?, ?it/s]"
      ]
     },
     "metadata": {},
     "output_type": "display_data"
    },
    {
     "data": {
      "application/vnd.jupyter.widget-view+json": {
       "model_id": "7e378979074449298bfd83d16040fc47",
       "version_major": 2,
       "version_minor": 0
      },
      "text/plain": [
       "  0%|          | 0/76 [00:00<?, ?it/s]"
      ]
     },
     "metadata": {},
     "output_type": "display_data"
    },
    {
     "data": {
      "application/vnd.jupyter.widget-view+json": {
       "model_id": "916a6a4951f04e87a2f91b21ba5b5715",
       "version_major": 2,
       "version_minor": 0
      },
      "text/plain": [
       "  0%|          | 0/76 [00:00<?, ?it/s]"
      ]
     },
     "metadata": {},
     "output_type": "display_data"
    },
    {
     "data": {
      "application/vnd.jupyter.widget-view+json": {
       "model_id": "de21cefc8bf04504aa33fe0baf5fa8b6",
       "version_major": 2,
       "version_minor": 0
      },
      "text/plain": [
       "  0%|          | 0/76 [00:00<?, ?it/s]"
      ]
     },
     "metadata": {},
     "output_type": "display_data"
    },
    {
     "data": {
      "application/vnd.jupyter.widget-view+json": {
       "model_id": "53bbc4f400b8415fac2e889ce8bcbed1",
       "version_major": 2,
       "version_minor": 0
      },
      "text/plain": [
       "  0%|          | 0/76 [00:00<?, ?it/s]"
      ]
     },
     "metadata": {},
     "output_type": "display_data"
    },
    {
     "data": {
      "application/vnd.jupyter.widget-view+json": {
       "model_id": "bce6c3df4f124c7cad2de84012cd6b35",
       "version_major": 2,
       "version_minor": 0
      },
      "text/plain": [
       "  0%|          | 0/76 [00:00<?, ?it/s]"
      ]
     },
     "metadata": {},
     "output_type": "display_data"
    }
   ],
   "source": [
    "lm = LM().cuda()\n",
    "optimizer = torch.optim.Adam(lm.parameters(), lr=1e-4)\n",
    "losses = []\n",
    "for epoch in range(10):\n",
    "    for batch in tqdm(lm_dataloader):\n",
    "        x = batch['x'].cuda()\n",
    "        y = batch['y'].cuda()\n",
    "        model_preds = lm(x)\n",
    "        loss = lm_loss_function(lm(x), y)\n",
    "        loss.backward()\n",
    "        losses.append(loss.item())\n",
    "        optimizer.step()\n",
    "        optimizer.zero_grad()"
   ]
  },
  {
   "cell_type": "code",
   "execution_count": null,
   "id": "efaaeaeb-3266-4b47-bb6d-2141deb99f26",
   "metadata": {},
   "outputs": [
    {
     "data": {
      "text/plain": [
       "[<matplotlib.lines.Line2D>]"
      ]
     },
     "execution_count": null,
     "metadata": {},
     "output_type": "execute_result"
    },
    {
     "data": {
      "image/png": "[encoded data removed]",
      "text/plain": [
       "<Figure size 432x288 with 1 Axes>"
      ]
     },
     "metadata": {
      "needs_background": "light"
     },
     "output_type": "display_data"
    }
   ],
   "source": [
    "from matplotlib import pyplot as plt\n",
    "plt.plot(losses)"
   ]
  },
  {
   "cell_type": "code",
   "execution_count": null,
   "id": "2c6b1289-0ca8-470a-a2d6-0d59f54bdaef",
   "metadata": {},
   "outputs": [
    {
     "data": {
      "text/plain": [
       "'B | F b Z X, c : Y º B l [ B'"
      ]
     },
     "execution_count": null,
     "metadata": {},
     "output_type": "execute_result"
    }
   ],
   "source": [
    "import numpy as np\n",
    "def generate(model, start_text, n, max_length=200, top_k=None):\n",
    "    model.eval()\n",
    "    tokenized_start = torch.tensor([tokenizer(start_text)['input_ids']]).cuda()\n",
    "    x = tokenized_start\n",
    "    for i in range(n):\n",
    "        model_pred = model(x)\n",
    "        last_word_logits = model_pred[0][0]\n",
    "        p = torch.nn.functional.softmax(last_word_logits, dim=0).data\n",
    "        \n",
    "        # Set p to zero for special tokens we don't want\n",
    "        p[:4] = 0\n",
    "        \n",
    "        # Sample\n",
    "        if top_k is None:\n",
    "            candidate_tokens = np.arange(len(last_word_logits))\n",
    "        else:\n",
    "            p, candidate_tokens = p.topk(top_k)\n",
    "            candidate_tokens = candidate_tokens.detach().cpu().numpy().squeeze()\n",
    "        p = p.detach().cpu().numpy().squeeze()\n",
    "        word_index = np.random.choice(candidate_tokens, p=p/p.sum())\n",
    "        x = torch.cat([x, torch.tensor([[word_index]]).cuda()], dim=-1)\n",
    "        \n",
    "    return tokenizer.decode(x.flatten())\n",
    "generate(lm, 'B|F', 20)"
   ]
  },
  {
   "cell_type": "code",
   "execution_count": null,
   "id": "856a4785-25d5-4348-8b43-f38629e53321",
   "metadata": {},
   "outputs": [
    {
     "data": {
      "text/plain": [
       "'B | F 2 e F 3 ( ( a / A c E A E \" \" a d a g c E D :   A c   B F   f G : / d   a c A : f D E ( a \" e 2 D 2 F 2 3 E \" c a f 2 2 A G \" d E / E G c 2 / D a | 2 B D f B B   g e c e d B e g   ( f ( D g 3 G e : c g g g ( : | 2 2 / : a \" F G c 3 f \" F / | f \" c E 3 F a g F | f e G 2 D f E d E f a g G ( 3 c g ( G / E F 3 : ( \" 2 3 2 ( e G G E c / A g : / B e a / /   d : A f c / : E 2 \" f : 3 G | / | d | / F \" F'"
      ]
     },
     "execution_count": null,
     "metadata": {},
     "output_type": "execute_result"
    }
   ],
   "source": [
    "generate(lm, 'B|F', 200,top_k=20)"
   ]
  },
  {
   "cell_type": "code",
   "execution_count": null,
   "id": "baa46c78-75f4-439f-9314-bdb45d1d3339",
   "metadata": {},
   "outputs": [
    {
     "data": {
      "text/plain": [
       "247240"
      ]
     },
     "execution_count": null,
     "metadata": {},
     "output_type": "execute_result"
    }
   ],
   "source": [
    "sum([p.numel() for p in lm.parameters()])"
   ]
  },
  {
   "cell_type": "code",
   "execution_count": null,
   "id": "e948ef50-3e0e-4bb1-999c-65652ef91d07",
   "metadata": {},
   "outputs": [],
   "source": [
    "# TODO try on some data (LM first then new classification head)"
   ]
  },
  {
   "cell_type": "code",
   "execution_count": null,
   "id": "bdf3d757-227e-47d0-8158-4d1dc5c318cd",
   "metadata": {},
   "outputs": [],
   "source": [
    "# TODO talk about efficiency of training vs sampling\n",
    "# TODO demo different sampling approaches"
   ]
  },
  {
   "cell_type": "markdown",
   "id": "a2fbaa58-e6d4-4ea2-9d37-d9df4143542f",
   "metadata": {},
   "source": [
    "Page stats: Total Hits: [![HitCount](https://hits.dwyl.com/johnowhitaker/tglcourse.svg?style=flat-square&show=unique)](http://hits.dwyl.com/johnowhitaker/tglcourse)\n",
    "Page visitors:\n",
    "![visitor badge](https://page-views.glitch.me/badge?page_id=tglcourse.l09)"
   ]
  }
 ],
 "metadata": {
  "kernelspec": {
   "display_name": "Python 3 (ipykernel)",
   "language": "python",
   "name": "python3"
  }
 },
 "nbformat": 4,
 "nbformat_minor": 5
}
