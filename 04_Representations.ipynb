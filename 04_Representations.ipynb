{
 "cells": [
  {
   "cell_type": "markdown",
   "id": "065bfd42-a9cc-490e-a0d9-1cd676a36e27",
   "metadata": {},
   "source": [
    "# Lesson 4: Learning Representations + Style Transfer"
   ]
  },
  {
   "cell_type": "markdown",
   "id": "48ab6b69-c99b-475c-a966-3a614df6010a",
   "metadata": {},
   "source": [
    "Look into what a network learns\n",
    "\n",
    "Examine Representations (RSMs)\n",
    "\n",
    "Extract these for content loss\n",
    "\n",
    "Style loss: Gramm matrix version\n",
    "\n",
    "Style loss: OT version\n",
    "\n",
    "## Aside: NBDEV and exporting functions for later use\n",
    "\n",
    "## Aside: Making Gradio Demos (and use as exercise)"
   ]
  },
  {
   "cell_type": "markdown",
   "id": "7ab53778-0bc0-4c0a-a66e-84b0061bc938",
   "metadata": {},
   "source": [
    "## Aside: Imstack"
   ]
  },
  {
   "cell_type": "code",
   "execution_count": null,
   "id": "0b87b452-b683-4f68-be7c-d31170eeafe5",
   "metadata": {},
   "outputs": [],
   "source": [
    "# TODO: Include AEs/VAEs? \n",
    "# TODO: Contrastive loss anywhere?"
   ]
  },
  {
   "cell_type": "code",
   "execution_count": null,
   "id": "a9916967-b5e6-4964-84ad-f081eb485ce1",
   "metadata": {},
   "outputs": [],
   "source": []
  }
 ],
 "metadata": {
  "kernelspec": {
   "display_name": "Python 3 (ipykernel)",
   "language": "python",
   "name": "python3"
  }
 },
 "nbformat": 4,
 "nbformat_minor": 5
}
