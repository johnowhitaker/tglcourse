{
 "cells": [
  {
   "cell_type": "markdown",
   "id": "a8ab2613-3c8f-4d6d-ab4a-a799097f9809",
   "metadata": {},
   "source": [
    "# Lesson 11: Everything Is A Sequence\n",
    "\n",
    "Taming transformers -> VQGAN\n",
    "\n",
    "dalle-mini, parti, custom one\n",
    "\n"
   ]
  },
  {
   "cell_type": "markdown",
   "id": "05d58078-c4dc-451e-8e6d-c81ce7206ad7",
   "metadata": {},
   "source": [
    "Page stats: Total Hits: [![HitCount](https://hits.dwyl.com/johnowhitaker/tglcourse.svg?style=flat-square&show=unique)](http://hits.dwyl.com/johnowhitaker/tglcourse)\n",
    "Page visitors:\n",
    "![visitor badge](https://page-views.glitch.me/badge?page_id=tglcourse.l11)"
   ]
  },
  {
   "cell_type": "code",
   "execution_count": null,
   "id": "4e3bf115-e75f-446d-82d4-58525162f6cf",
   "metadata": {},
   "outputs": [],
   "source": []
  }
 ],
 "metadata": {
  "kernelspec": {
   "display_name": "Python 3 (ipykernel)",
   "language": "python",
   "name": "python3"
  }
 },
 "nbformat": 4,
 "nbformat_minor": 5
}
