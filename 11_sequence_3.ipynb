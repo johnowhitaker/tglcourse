{
 "cells": [
  {
   "cell_type": "markdown",
   "id": "a8ab2613-3c8f-4d6d-ab4a-a799097f9809",
   "metadata": {},
   "source": [
    "# Lesson 11: Everything Is A Sequence\n",
    "\n",
    "Taming transformers -> VQGAN\n",
    "\n",
    "dalle-mini, parti, custom one\n",
    "\n"
   ]
  },
  {
   "cell_type": "code",
   "execution_count": null,
   "id": "1269a659-c462-46e5-847c-1d9a9cd87e3c",
   "metadata": {},
   "outputs": [],
   "source": []
  }
 ],
 "metadata": {
  "kernelspec": {
   "display_name": "Python 3 (ipykernel)",
   "language": "python",
   "name": "python3"
  }
 },
 "nbformat": 4,
 "nbformat_minor": 5
}
