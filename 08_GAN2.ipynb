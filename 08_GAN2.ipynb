{
 "cells": [
  {
   "cell_type": "markdown",
   "id": "d7359cc6-f72b-439a-ba65-161b4c813bf5",
   "metadata": {},
   "source": [
    "# Lesson 8: Conditional GANs, Training Tricks and GANs+CLIP\n",
    "\n",
    "Introduce the idea of conditioning\n",
    "\n",
    "Play with BigGAN\n",
    "\n",
    "Maybe key ideas of stylegan...\n",
    "\n",
    "SHow GauGAN as amazing conditioning\n",
    "\n",
    "Optimize a latent with CLIP"
   ]
  },
  {
   "cell_type": "code",
   "execution_count": null,
   "id": "8262cfa0-afbd-4ce3-bd7e-cfe9c187fccc",
   "metadata": {},
   "outputs": [],
   "source": []
  }
 ],
 "metadata": {
  "kernelspec": {
   "display_name": "Python 3 (ipykernel)",
   "language": "python",
   "name": "python3"
  },
  "language_info": {
   "codemirror_mode": {
    "name": "ipython",
    "version": 3
   },
   "file_extension": ".py",
   "mimetype": "text/x-python",
   "name": "python",
   "nbconvert_exporter": "python",
   "pygments_lexer": "ipython3",
   "version": "3.10.4"
  }
 },
 "nbformat": 4,
 "nbformat_minor": 5
}
