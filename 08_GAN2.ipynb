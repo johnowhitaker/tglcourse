{
 "cells": [
  {
   "cell_type": "markdown",
   "id": "d7359cc6-f72b-439a-ba65-161b4c813bf5",
   "metadata": {},
   "source": [
    "# Lesson 8: Conditional GANs, Training Tricks and GANs+CLIP"
   ]
  },
  {
   "cell_type": "markdown",
   "id": "cb286b57-2912-460c-b151-e201434a117f",
   "metadata": {},
   "source": [
    "Introduce the idea of conditioning\n",
    "\n",
    "Play with BigGAN\n",
    "\n",
    "Maybe key ideas of stylegan...\n",
    "\n",
    "SHow GauGAN as amazing conditioning\n",
    "\n",
    "Optimize a latent with CLIP"
   ]
  },
  {
   "cell_type": "markdown",
   "id": "9d9a1b3a-a9a6-41c2-b9bf-0a7a20f4957e",
   "metadata": {},
   "source": [
    "Page stats: Total Hits: [![HitCount](https://hits.dwyl.com/johnowhitaker/tglcourse.svg?style=flat-square&show=unique)](http://hits.dwyl.com/johnowhitaker/tglcourse)\n",
    "Page visitors:\n",
    "![visitor badge](https://page-views.glitch.me/badge?page_id=tglcourse.l08)"
   ]
  }
 ],
 "metadata": {
  "kernelspec": {
   "display_name": "Python 3 (ipykernel)",
   "language": "python",
   "name": "python3"
  }
 },
 "nbformat": 4,
 "nbformat_minor": 5
}
