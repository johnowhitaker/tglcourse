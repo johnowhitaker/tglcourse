{
 "cells": [
  {
   "cell_type": "markdown",
   "id": "9330c15f-7f02-4030-916e-e6dcfad20fa1",
   "metadata": {},
   "source": [
    "# Projects"
   ]
  },
  {
   "cell_type": "markdown",
   "id": "2f2d0259-6c58-4c3a-9f79-4bac25adc836",
   "metadata": {},
   "source": [
    "Each lesson will have some small exercises for you to try out some of the ideas, but I've also designed three larger projects for you to show off your skills. At some point TBD I'd like to figure out getting certificates for those who complete these, but have yet to figure out the details. This page will host the project descriptions and info on submitting yours once that's all figured out."
   ]
  },
  {
   "cell_type": "code",
   "execution_count": null,
   "id": "9da893e5-89d9-4e8e-b591-41b60aa4473d",
   "metadata": {},
   "outputs": [],
   "source": []
  }
 ],
 "metadata": {
  "kernelspec": {
   "display_name": "Python 3 (ipykernel)",
   "language": "python",
   "name": "python3"
  }
 },
 "nbformat": 4,
 "nbformat_minor": 5
}
