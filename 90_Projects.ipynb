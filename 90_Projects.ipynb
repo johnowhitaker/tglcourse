{
 "cells": [
  {
   "cell_type": "markdown",
   "id": "9330c15f-7f02-4030-916e-e6dcfad20fa1",
   "metadata": {},
   "source": [
    "# Projects"
   ]
  },
  {
   "cell_type": "markdown",
   "id": "2f2d0259-6c58-4c3a-9f79-4bac25adc836",
   "metadata": {},
   "source": [
    "Each lesson will have some small exercises for you to try out some of the ideas, but I've also designed three larger projects for you to show off your skills. At some point TBD I'd like to figure out getting certificates for those who complete these, but have yet to figure out the details. This page will host the project descriptions and info on submitting yours once that's all figured out."
   ]
  },
  {
   "cell_type": "markdown",
   "id": "fed29fe5-2b63-4414-9804-5a51c7497b70",
   "metadata": {},
   "source": [
    "## Project 1: The Golden Generation\n",
    "\n",
    "Once you're done with lessons 1-5, check out the bonus notebook 'Fun with Generators and Losses' [TODO link]. Your goal is to come up with a custom pipeline for generating images. A user should be able to provide minimal input (perhaps an input image, or a piece of text, or both) and get back something special. You can acheive this in a number of ways:\n",
    "- Pick an existing generator alongside one or more loss functions and set them up with good default settings\n",
    "- Create a new generator following the template in that notebook\n",
    "- Create your own custom loss function\n",
    "- Chain together a sequence of steps where the output of one step feeds into the next.\n",
    "\n",
    "Package the resulting pipeline into a gradio interface (see the bonus notebook 'TODO Gradio NB' for a guide) and share it as a huggingface space.\n",
    "\n",
    "![waterface demo](https://datasciencecastnethome.files.wordpress.com/2022/04/screenshot-from-2022-03-31-14-19-42.png)\n",
    "\n",
    "For inspiration, check out my 'waterface' demo that first processes an input image to look like a sketch then optimizes an imstack of the result towards a CLIP prompt: https://huggingface.co/spaces/johnowhitaker/waterface\n",
    "\n",
    "TODO video for this section\n",
    "\n",
    "TODO figure out what the deliverable is - a gradio space? "
   ]
  },
  {
   "cell_type": "markdown",
   "id": "c95618ce-c9d7-4189-aa2a-b70a1665e000",
   "metadata": {},
   "source": [
    "## Project 2: WE GAN DO IT!\n",
    "\n",
    "Train a GAN on your own data - synthetic or curated. Try different architectures and training tricks, until you get a result you're happy with. Document your experiments and results with a nice report. See TODO W&B tutorial for a guide on logging experiments.\n",
    "\n",
    "TODO example report, sweeps example"
   ]
  },
  {
   "cell_type": "markdown",
   "id": "36cb4b3c-8b4d-4ad0-9a97-1fb204fd03d7",
   "metadata": {},
   "source": [
    "## Project 3: Looking Fine(tuned)\n",
    "\n",
    "Fine-tune a diffusion model of your choice using your own dataset. Share it with the world - set up a custom pipeline, share training details in a report, make the model weights available and maybe set up a cool colab notebook for people to try your new model, complete with fancy features like CLIP guidance or image-to-image."
   ]
  },
  {
   "cell_type": "markdown",
   "id": "9c1fa1f9-c870-4242-b159-6fbccfd4ad36",
   "metadata": {},
   "source": [
    "## Final Project\n",
    "\n",
    "Make something amazing! You can adapt one of the projects above or forge your own path off the beated track. Whatever you choose, the goal of this final project is to take it to the next level :) TODO info on some prizes for best demos"
   ]
  }
 ],
 "metadata": {
  "kernelspec": {
   "display_name": "Python 3 (ipykernel)",
   "language": "python",
   "name": "python3"
  },
  "language_info": {
   "codemirror_mode": {
    "name": "ipython",
    "version": 3
   },
   "file_extension": ".py",
   "mimetype": "text/x-python",
   "name": "python",
   "nbconvert_exporter": "python",
   "pygments_lexer": "ipython3",
   "version": "3.9.13"
  }
 },
 "nbformat": 4,
 "nbformat_minor": 5
}
